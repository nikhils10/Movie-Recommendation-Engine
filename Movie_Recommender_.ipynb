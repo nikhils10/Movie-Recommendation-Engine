{
  "nbformat": 4,
  "nbformat_minor": 0,
  "metadata": {
    "colab": {
      "name": "Movie Recommender .ipynb",
      "provenance": [],
      "collapsed_sections": [],
      "mount_file_id": "1r6EUtRUeV5Eh1YFnLQjNl8U_q4ktDF84",
      "authorship_tag": "ABX9TyPMVK0Kp3uzGxtBcgPAgCpa",
      "include_colab_link": true
    },
    "kernelspec": {
      "name": "python3",
      "display_name": "Python 3"
    },
    "language_info": {
      "name": "python"
    }
  },
  "cells": [
    {
      "cell_type": "markdown",
      "metadata": {
        "id": "view-in-github",
        "colab_type": "text"
      },
      "source": [
        "<a href=\"https://colab.research.google.com/github/nikhils10/Movie-Recommendation-Engine/blob/main/Movie_Recommender_.ipynb\" target=\"_parent\"><img src=\"https://colab.research.google.com/assets/colab-badge.svg\" alt=\"Open In Colab\"/></a>"
      ]
    },
    {
      "cell_type": "code",
      "source": [
        "## Installing Packages\n",
        "!pip install wordcloud\n",
        "!pip install -U spacy\n",
        "!python -m spacy download en_core_web_lg"
      ],
      "metadata": {
        "id": "8OE5nGsGkoy-"
      },
      "execution_count": null,
      "outputs": []
    },
    {
      "cell_type": "code",
      "source": [
        "## Importing Packages \n",
        "import pandas as pd\n",
        "import nltk\n",
        "# nltk.download('all')\n",
        "# nltk.download('punkt')\n",
        "import json\n",
        "import ast\n",
        "import pandas as pd\n",
        "import numpy as np\n",
        "import matplotlib.pyplot as plt\n",
        "import seaborn as sns\n",
        "import numpy as np\n",
        "from wordcloud import WordCloud, STOPWORDS\n",
        "import nltk\n",
        "import spacy\n",
        "# import en_core_web_lg\n",
        "from keras.layers import TextVectorization \n",
        "import string\n",
        "# from nltk.corpus import stopwords\n",
        "# from nltk.stem.wordnet import WordNetLemmatizer\n",
        "import string\n",
        "from sklearn.metrics.pairwise import cosine_similarity\n",
        "from nltk.tokenize import word_tokenize\n"
      ],
      "metadata": {
        "id": "eCMutL6okvLT"
      },
      "execution_count": null,
      "outputs": []
    },
    {
      "cell_type": "code",
      "source": [
        "##Matplotlib Parameters\n",
        "import matplotlib.ticker as ticker\n",
        "from pylab import rcParams\n",
        "rcParams['figure.figsize'] = 6,6\n",
        "rcParams['axes.labelsize'] = 12\n",
        "rcParams['xtick.labelsize'] = 12\n",
        "rcParams['ytick.labelsize'] = 12\n",
        "plt.style.context('fivethirtyeight')"
      ],
      "metadata": {
        "colab": {
          "base_uri": "https://localhost:8080/"
        },
        "id": "lmf1SAS5k8zK",
        "outputId": "e43d282a-2fe1-42e8-aad9-eaa3f462b5aa"
      },
      "execution_count": 42,
      "outputs": [
        {
          "output_type": "execute_result",
          "data": {
            "text/plain": [
              "<contextlib._GeneratorContextManager at 0x7f78e9da10d0>"
            ]
          },
          "metadata": {},
          "execution_count": 42
        }
      ]
    },
    {
      "cell_type": "code",
      "source": [
        "## Reading csv files\n",
        "## path /content/drive/MyDrive/Datasets/movie_lens/\n",
        "metadata = pd.read_csv('/content/drive/MyDrive/Datasets/movie_lens/movies_metadata.csv')\n",
        "links_small = pd.read_csv('/content/drive/MyDrive/Datasets/movie_lens/links_small.csv')\n",
        "ratings_small = pd.read_csv('/content/drive/MyDrive/Datasets/movie_lens/ratings_small.csv')\n",
        "credits = pd.read_csv('/content/drive/MyDrive/Datasets/movie_lens/credits.csv')\n",
        "keywords = pd.read_csv('/content/drive/MyDrive/Datasets/movie_lens/keywords.csv')\n"
      ],
      "metadata": {
        "colab": {
          "base_uri": "https://localhost:8080/"
        },
        "id": "KJJ5RQnhggOs",
        "outputId": "783168a0-4b1d-4cf9-d42a-baf7b468a962"
      },
      "execution_count": null,
      "outputs": [
        {
          "output_type": "stream",
          "name": "stderr",
          "text": [
            "/usr/local/lib/python3.7/dist-packages/IPython/core/interactiveshell.py:2718: DtypeWarning: Columns (10) have mixed types.Specify dtype option on import or set low_memory=False.\n",
            "  interactivity=interactivity, compiler=compiler, result=result)\n"
          ]
        }
      ]
    },
    {
      "cell_type": "markdown",
      "source": [
        "# About the Data \n",
        "\n",
        "This dataset consists of the following files:\n",
        "\n",
        "**movies_metadata.csv**: The main Movies Metadata file. Contains information on 45,000 movies featured in the Full MovieLens dataset. Features include posters, backdrops, budget, revenue, release dates, languages, production countries and companies.\n",
        "\n",
        "**keywords.csv**: Contains the movie plot keywords for our MovieLens movies. Available in the form of a stringified JSON Object.\n",
        "\n",
        "**credits.csv**: Consists of Cast and Crew Information for all our movies. Available in the form of a stringified JSON Object.\n",
        "\n",
        "**links.csv**: The file that contains the TMDB and IMDB IDs of all the movies featured in the Full MovieLens dataset.\n",
        "\n",
        "**links_small.csv**: Contains the TMDB and IMDB IDs of a small subset of 9,000 movies of the Full Dataset.\n",
        "\n",
        "**ratings_small.csv**: The subset of 100,000 ratings from 700 users on 9,000 movies."
      ],
      "metadata": {
        "id": "Zg1z4xvzgzyD"
      }
    },
    {
      "cell_type": "markdown",
      "source": [
        "# Exploratory Data Analysis"
      ],
      "metadata": {
        "id": "aCWxhXx2hQkw"
      }
    },
    {
      "cell_type": "code",
      "source": [
        "revenue = metadata[[\"title\",\"revenue\"]].dropna()\n",
        "\n",
        "revenue['revenue'] = revenue['revenue'].apply(lambda x:float(x)/(1000**3))\n",
        "\n",
        "revenue = revenue.sort_values(by=\"revenue\",ascending=False)\n",
        "ax = sns.barplot(x = revenue['revenue'][:15], y=revenue['title'][:15], data=revenue)\n",
        "plt.title(\"Movies with Most Revenue\", weight=\"bold\")\n",
        "plt.xlabel(\"Revenue IN Billion $\", weight=\"bold\")\n",
        "plt.ylabel(\"Movie Titles\", weight=\"bold\")\n",
        "plt.show()"
      ],
      "metadata": {
        "id": "NiM1wD6Hmb_Y"
      },
      "execution_count": null,
      "outputs": []
    },
    {
      "cell_type": "code",
      "source": [
        "revenue['revenue'] = revenue['revenue'].apply(lambda x:float(x)/(1000**3))\n",
        "\n",
        "revenue = revenue.sort_values(by=\"revenue\",ascending=False)\n",
        "ax = sns.barplot(x = revenue['revenue'][:15], y=revenue['title'][:15], data=revenue)\n",
        "plt.title(\"Movies with Most Revenue\", weight=\"bold\")\n",
        "plt.xlabel(\"Revenue IN Billion $\", weight=\"bold\")\n",
        "plt.ylabel(\"Movie Titles\", weight=\"bold\")\n",
        "plt.show()"
      ],
      "metadata": {
        "colab": {
          "base_uri": "https://localhost:8080/",
          "height": 410
        },
        "id": "SP7c_AWJTYZt",
        "outputId": "d2930fc1-66ea-4770-f70e-792ee7fc510d"
      },
      "execution_count": null,
      "outputs": [
        {
          "output_type": "display_data",
          "data": {
            "image/png": "[encoded data removed]",
            "text/plain": [
              "<Figure size 432x432 with 1 Axes>"
            ]
          },
          "metadata": {
            "needs_background": "light"
          }
        }
      ]
    },
    {
      "cell_type": "markdown",
      "source": [
        "> The bar graph displays the top movies with most revenue .\n",
        "\n",
        "> Avatar is the movie that has most revenue followed by Star wars, Titanic and Avengers .\n",
        "\n",
        "> Top 15 movies have a revenue more than 1 Billion Dollars.\n",
        "\n",
        "> Revenue Difference between Avatar and Star Wars is maximum in comparision to subsequent movies ranked ."
      ],
      "metadata": {
        "id": "f3-SBhlais1V"
      }
    },
    {
      "cell_type": "code",
      "source": [
        "# Budget to Revenue Plot \n",
        "ax = plt.subplot()\n",
        "df = metadata[[\"title\",\"revenue\",\"budget\"]].dropna()\n",
        "df['revenue'] = df['revenue'].apply(lambda x:float(x)/(1000**3))\n",
        "df['budget'] = df['budget'].apply(lambda x:float(x)/(1000**3))\n",
        "df = df.sort_values(by=\"revenue\",ascending=False)\n",
        "sub_df = df.head(15)\n",
        "sub_df = sub_df.sort_values(by='revenue')\n",
        "ax.barh(sub_df[\"title\"], sub_df[\"revenue\"],color='darkblue',label='Revenue')\n",
        "ax.barh(sub_df[\"title\"], sub_df[\"budget\"],label='Budget')\n",
        "ax.legend(bbox_to_anchor=(1.0, 1.0))\n",
        "budget_mean = sub_df['budget'].mean()\n",
        "revenue_mean = sub_df['revenue'].mean()\n",
        "plt.title('Top 15 Budget to Revenue')\n",
        "plt.axvline(budget_mean, color='red', linestyle='dashed', linewidth=2,label='Avg Budget')\n",
        "plt.axvline(revenue_mean, color='green', linestyle='dashed', linewidth=2,label='Avg Revenue')\n",
        "plt.legend()\n",
        "plt.show()\n"
      ],
      "metadata": {
        "colab": {
          "base_uri": "https://localhost:8080/",
          "height": 396
        },
        "id": "WvLzIP132ZFU",
        "outputId": "daf764c2-58dc-4a9e-cf93-0d02c98b9cda"
      },
      "execution_count": 62,
      "outputs": [
        {
          "output_type": "display_data",
          "data": {
            "image/png": "[encoded data removed]",
            "text/plain": [
              "<Figure size 432x432 with 1 Axes>"
            ]
          },
          "metadata": {}
        }
      ]
    },
    {
      "cell_type": "markdown",
      "source": [
        "From a simple plot we can gather a lot of inferences like :-\n",
        "> The average budget is very close to what movies spend.\n",
        "\n",
        "> Movies with high revenue don't necessarily mean that they have the highest budget . Argument to support this is Avatar and Avenger:Age of Ultron. \n",
        "\n",
        "> "
      ],
      "metadata": {
        "id": "EqfoFsej4_TW"
      }
    },
    {
      "cell_type": "code",
      "source": [
        "## popularity as well\n",
        "popularity = metadata[[\"title\",\"popularity\"]].dropna()\n",
        "popularity['popularity'] = popularity['popularity'].apply(lambda x:float(x)/(1000**3))\n",
        "\n",
        "popularity = popularity.sort_values(by=\"popularity\",ascending=False)\n",
        "ax = sns.barplot(x = popularity['popularity'][:15], y=popularity['title'][:15], data=popularity)\n",
        "plt.title(\"Movies with Most popularity\", weight=\"bold\")\n",
        "plt.xlabel(\"Popularity\", weight=\"bold\")\n",
        "plt.ylabel(\"Movie Titles\", weight=\"bold\")\n",
        "plt.show()"
      ],
      "metadata": {
        "colab": {
          "base_uri": "https://localhost:8080/",
          "height": 410
        },
        "id": "ap6X049-VO8N",
        "outputId": "b7211ac3-aa6b-4368-f0a1-672eb2c9566a"
      },
      "execution_count": null,
      "outputs": [
        {
          "output_type": "display_data",
          "data": {
            "image/png": "[encoded data removed]",
            "text/plain": [
              "<Figure size 432x432 with 1 Axes>"
            ]
          },
          "metadata": {
            "needs_background": "light"
          }
        }
      ]
    },
    {
      "cell_type": "markdown",
      "source": [
        "> Minions , Wonder Woman and Beauty and the Beast are most popular movies.\n",
        "\n",
        "> The movie choice indicates that movies suitable for children are most popular "
      ],
      "metadata": {
        "id": "h3hmnSEQjyK1"
      }
    },
    {
      "cell_type": "markdown",
      "source": [
        "### Exploring Long Tail Phenomenon in Recommendation"
      ],
      "metadata": {
        "id": "csydsFEe9JDq"
      }
    },
    {
      "cell_type": "code",
      "source": [
        "## Plot vote counts\n",
        "long_tail = metadata.loc[metadata['vote_count']<10000,'vote_count']\n",
        "long_tail = pd.DataFrame(long_tail)\n",
        "long_tail.sort_values(by='vote_count',ascending=False,inplace=True)\n",
        "long_tail.head(10000).plot(kind='hist',bins=100)"
      ],
      "metadata": {
        "colab": {
          "base_uri": "https://localhost:8080/",
          "height": 398
        },
        "id": "2aqOmhJI7v7h",
        "outputId": "0f20b119-0c4b-4629-dd40-6c5c48ac9ecc"
      },
      "execution_count": 90,
      "outputs": [
        {
          "output_type": "execute_result",
          "data": {
            "text/plain": [
              "<matplotlib.axes._subplots.AxesSubplot at 0x7f78f0fc84d0>"
            ]
          },
          "metadata": {},
          "execution_count": 90
        },
        {
          "output_type": "display_data",
          "data": {
            "image/png": "[encoded data removed]",
            "text/plain": [
              "<Figure size 432x432 with 1 Axes>"
            ]
          },
          "metadata": {}
        }
      ]
    },
    {
      "cell_type": "markdown",
      "source": [
        "The long tail is a common phenomenon in recommendation based problems.\n",
        "What happens is the recommendations are always surrounding popular choices and the more unique items miss out .\n",
        "The threshold of algo should give items which are diverse and new .\n",
        "But since many less users interact with them the performance of algo will be less accurate as its a sparse area."
      ],
      "metadata": {
        "id": "O_oJAt3o9rdU"
      }
    },
    {
      "cell_type": "markdown",
      "source": [
        "# Content Based Recommendation \n",
        "Movies metadata contains many attributes which can be used to make a content based recommender system."
      ],
      "metadata": {
        "id": "WvR_NqKGmDyL"
      }
    },
    {
      "cell_type": "markdown",
      "source": [
        "# Data Cleaning "
      ],
      "metadata": {
        "id": "9zMcMiVFhYMz"
      }
    },
    {
      "cell_type": "code",
      "source": [
        "## Using literal_eval to get data in suitable format for easier extraction of information\n",
        "metadata['genres'] = metadata['genres'].apply(lambda x: ast.literal_eval(x) if(pd.notnull(x)) else x)\n",
        "credits['crew'] = credits['crew'].apply(ast.literal_eval)"
      ],
      "metadata": {
        "id": "Fzo67wfTggcv"
      },
      "execution_count": null,
      "outputs": []
    },
    {
      "cell_type": "markdown",
      "source": [
        "## Fetching Main Cast"
      ],
      "metadata": {
        "id": "_RPcqktRinuC"
      }
    },
    {
      "cell_type": "markdown",
      "source": [
        "Movie cast has order in which cast are ranked .\n",
        "The main actor is given 0 and so on.\n",
        "We take the top 3 actors from each movie .\n",
        "Actors in movies can be very influencial and important feature for reason to watch a movie."
      ],
      "metadata": {
        "id": "dVCwO92bktLL"
      }
    },
    {
      "cell_type": "code",
      "source": [
        "## Function to fetch main cast from movie cast\n",
        "def fetch_main_cast(a):\n",
        "    list_ = []\n",
        "    for i in a:\n",
        "        if i['order'] <=2:\n",
        "            list_.append(i['name'])\n",
        "    return list_"
      ],
      "metadata": {
        "id": "CW5yZlCrhaLU"
      },
      "execution_count": null,
      "outputs": []
    },
    {
      "cell_type": "markdown",
      "source": [
        "## Fetching Director"
      ],
      "metadata": {
        "id": "feN0bDhWiu69"
      }
    },
    {
      "cell_type": "markdown",
      "source": [
        "Same way like actor , the director the movie is very important part of the movie. Some directors like Christopher Nolan has a huge fan base and such a feature needs to be captured ."
      ],
      "metadata": {
        "id": "HqJCER1Xksa9"
      }
    },
    {
      "cell_type": "code",
      "source": [
        "## Function to fetch director of the movie \n",
        "def fetch_dir(a):\n",
        "    list_ = []\n",
        "    for i in a:\n",
        "        if i['job'] =='Director':\n",
        "            list_.append(i['name'])\n",
        "    return list_"
      ],
      "metadata": {
        "id": "J0x0lcmhhaN7"
      },
      "execution_count": null,
      "outputs": []
    },
    {
      "cell_type": "markdown",
      "source": [
        "## Fetching Genre"
      ],
      "metadata": {
        "id": "TGSAsW70i3pD"
      }
    },
    {
      "cell_type": "markdown",
      "source": [
        "Genre of the movie is also a very important attribute of the movie.\n",
        "Animation films are famous among children. A specific user might like a particular type of genre. \n"
      ],
      "metadata": {
        "id": "jEUF8dmSlohp"
      }
    },
    {
      "cell_type": "code",
      "source": [
        "## Function to fetch genre of the movie \n",
        "## Multiple genre for each movie\n",
        "def fetch_genre(a):\n",
        "    list_ = []\n",
        "    for i in a:\n",
        "        list_.append(i['name'])\n",
        "    return list_"
      ],
      "metadata": {
        "id": "LKAmxZJbhaQP"
      },
      "execution_count": null,
      "outputs": []
    },
    {
      "cell_type": "code",
      "source": [
        "## Converting id's into int so the dataframes can be merged\n",
        "def convert_into_int(x):\n",
        "    try:\n",
        "        x = int(x)\n",
        "    except:\n",
        "        x = 0\n",
        "    return x\n",
        "\n",
        "\n",
        "metadata['id'] = metadata['id'].apply(convert_into_int)\n",
        "credits['id'] = credits['id'].astype('int',errors='ignore')"
      ],
      "metadata": {
        "id": "xqtmCMIehaSm"
      },
      "execution_count": null,
      "outputs": []
    },
    {
      "cell_type": "code",
      "source": [
        "## Merging different files for easier access \n",
        "merged = metadata.merge(credits,on='id')\n",
        "merged.head(3)"
      ],
      "metadata": {
        "colab": {
          "base_uri": "https://localhost:8080/",
          "height": 1000
        },
        "id": "Tzthf2gai6_n",
        "outputId": "38d3e188-f5d6-4c11-ada0-bcd22a977179"
      },
      "execution_count": null,
      "outputs": [
        {
          "output_type": "execute_result",
          "data": {
            "text/html": [
              "\n",
              "  <div id=\"df-9a6db46c-7e21-4cb2-9d3b-33762aa614ba\">\n",
              "    <div class=\"colab-df-container\">\n",
              "      <div>\n",
              "<style scoped>\n",
              "    .dataframe tbody tr th:only-of-type {\n",
              "        vertical-align: middle;\n",
              "    }\n",
              "\n",
              "    .dataframe tbody tr th {\n",
              "        vertical-align: top;\n",
              "    }\n",
              "\n",
              "    .dataframe thead th {\n",
              "        text-align: right;\n",
              "    }\n",
              "</style>\n",
              "<table border=\"1\" class=\"dataframe\">\n",
              "  <thead>\n",
              "    <tr style=\"text-align: right;\">\n",
              "      <th></th>\n",
              "      <th>adult</th>\n",
              "      <th>belongs_to_collection</th>\n",
              "      <th>budget</th>\n",
              "      <th>genres</th>\n",
              "      <th>homepage</th>\n",
              "      <th>id</th>\n",
              "      <th>imdb_id</th>\n",
              "      <th>original_language</th>\n",
              "      <th>original_title</th>\n",
              "      <th>overview</th>\n",
              "      <th>popularity</th>\n",
              "      <th>poster_path</th>\n",
              "      <th>production_companies</th>\n",
              "      <th>production_countries</th>\n",
              "      <th>release_date</th>\n",
              "      <th>revenue</th>\n",
              "      <th>runtime</th>\n",
              "      <th>spoken_languages</th>\n",
              "      <th>status</th>\n",
              "      <th>tagline</th>\n",
              "      <th>title</th>\n",
              "      <th>video</th>\n",
              "      <th>vote_average</th>\n",
              "      <th>vote_count</th>\n",
              "      <th>cast</th>\n",
              "      <th>crew</th>\n",
              "    </tr>\n",
              "  </thead>\n",
              "  <tbody>\n",
              "    <tr>\n",
              "      <th>0</th>\n",
              "      <td>False</td>\n",
              "      <td>{'id': 10194, 'name': 'Toy Story Collection', ...</td>\n",
              "      <td>30000000</td>\n",
              "      <td>[{'id': 16, 'name': 'Animation'}, {'id': 35, '...</td>\n",
              "      <td>http://toystory.disney.com/toy-story</td>\n",
              "      <td>862</td>\n",
              "      <td>tt0114709</td>\n",
              "      <td>en</td>\n",
              "      <td>Toy Story</td>\n",
              "      <td>Led by Woody, Andy's toys live happily in his ...</td>\n",
              "      <td>21.9469</td>\n",
              "      <td>/rhIRbceoE9lR4veEXuwCC2wARtG.jpg</td>\n",
              "      <td>[{'name': 'Pixar Animation Studios', 'id': 3}]</td>\n",
              "      <td>[{'iso_3166_1': 'US', 'name': 'United States o...</td>\n",
              "      <td>1995-10-30</td>\n",
              "      <td>373554033.0</td>\n",
              "      <td>81.0</td>\n",
              "      <td>[{'iso_639_1': 'en', 'name': 'English'}]</td>\n",
              "      <td>Released</td>\n",
              "      <td>NaN</td>\n",
              "      <td>Toy Story</td>\n",
              "      <td>False</td>\n",
              "      <td>7.7</td>\n",
              "      <td>5415.0</td>\n",
              "      <td>[{'cast_id': 14, 'character': 'Woody (voice)',...</td>\n",
              "      <td>[{'credit_id': '52fe4284c3a36847f8024f49', 'de...</td>\n",
              "    </tr>\n",
              "    <tr>\n",
              "      <th>1</th>\n",
              "      <td>False</td>\n",
              "      <td>NaN</td>\n",
              "      <td>65000000</td>\n",
              "      <td>[{'id': 12, 'name': 'Adventure'}, {'id': 14, '...</td>\n",
              "      <td>NaN</td>\n",
              "      <td>8844</td>\n",
              "      <td>tt0113497</td>\n",
              "      <td>en</td>\n",
              "      <td>Jumanji</td>\n",
              "      <td>When siblings Judy and Peter discover an encha...</td>\n",
              "      <td>17.0155</td>\n",
              "      <td>/vzmL6fP7aPKNKPRTFnZmiUfciyV.jpg</td>\n",
              "      <td>[{'name': 'TriStar Pictures', 'id': 559}, {'na...</td>\n",
              "      <td>[{'iso_3166_1': 'US', 'name': 'United States o...</td>\n",
              "      <td>1995-12-15</td>\n",
              "      <td>262797249.0</td>\n",
              "      <td>104.0</td>\n",
              "      <td>[{'iso_639_1': 'en', 'name': 'English'}, {'iso...</td>\n",
              "      <td>Released</td>\n",
              "      <td>Roll the dice and unleash the excitement!</td>\n",
              "      <td>Jumanji</td>\n",
              "      <td>False</td>\n",
              "      <td>6.9</td>\n",
              "      <td>2413.0</td>\n",
              "      <td>[{'cast_id': 1, 'character': 'Alan Parrish', '...</td>\n",
              "      <td>[{'credit_id': '52fe44bfc3a36847f80a7cd1', 'de...</td>\n",
              "    </tr>\n",
              "    <tr>\n",
              "      <th>2</th>\n",
              "      <td>False</td>\n",
              "      <td>{'id': 119050, 'name': 'Grumpy Old Men Collect...</td>\n",
              "      <td>0</td>\n",
              "      <td>[{'id': 10749, 'name': 'Romance'}, {'id': 35, ...</td>\n",
              "      <td>NaN</td>\n",
              "      <td>15602</td>\n",
              "      <td>tt0113228</td>\n",
              "      <td>en</td>\n",
              "      <td>Grumpier Old Men</td>\n",
              "      <td>A family wedding reignites the ancient feud be...</td>\n",
              "      <td>11.7129</td>\n",
              "      <td>/6ksm1sjKMFLbO7UY2i6G1ju9SML.jpg</td>\n",
              "      <td>[{'name': 'Warner Bros.', 'id': 6194}, {'name'...</td>\n",
              "      <td>[{'iso_3166_1': 'US', 'name': 'United States o...</td>\n",
              "      <td>1995-12-22</td>\n",
              "      <td>0.0</td>\n",
              "      <td>101.0</td>\n",
              "      <td>[{'iso_639_1': 'en', 'name': 'English'}]</td>\n",
              "      <td>Released</td>\n",
              "      <td>Still Yelling. Still Fighting. Still Ready for...</td>\n",
              "      <td>Grumpier Old Men</td>\n",
              "      <td>False</td>\n",
              "      <td>6.5</td>\n",
              "      <td>92.0</td>\n",
              "      <td>[{'cast_id': 2, 'character': 'Max Goldman', 'c...</td>\n",
              "      <td>[{'credit_id': '52fe466a9251416c75077a89', 'de...</td>\n",
              "    </tr>\n",
              "    <tr>\n",
              "      <th>3</th>\n",
              "      <td>False</td>\n",
              "      <td>NaN</td>\n",
              "      <td>16000000</td>\n",
              "      <td>[{'id': 35, 'name': 'Comedy'}, {'id': 18, 'nam...</td>\n",
              "      <td>NaN</td>\n",
              "      <td>31357</td>\n",
              "      <td>tt0114885</td>\n",
              "      <td>en</td>\n",
              "      <td>Waiting to Exhale</td>\n",
              "      <td>Cheated on, mistreated and stepped on, the wom...</td>\n",
              "      <td>3.85949</td>\n",
              "      <td>/16XOMpEaLWkrcPqSQqhTmeJuqQl.jpg</td>\n",
              "      <td>[{'name': 'Twentieth Century Fox Film Corporat...</td>\n",
              "      <td>[{'iso_3166_1': 'US', 'name': 'United States o...</td>\n",
              "      <td>1995-12-22</td>\n",
              "      <td>81452156.0</td>\n",
              "      <td>127.0</td>\n",
              "      <td>[{'iso_639_1': 'en', 'name': 'English'}]</td>\n",
              "      <td>Released</td>\n",
              "      <td>Friends are the people who let you be yourself...</td>\n",
              "      <td>Waiting to Exhale</td>\n",
              "      <td>False</td>\n",
              "      <td>6.1</td>\n",
              "      <td>34.0</td>\n",
              "      <td>[{'cast_id': 1, 'character': \"Savannah 'Vannah...</td>\n",
              "      <td>[{'credit_id': '52fe44779251416c91011acb', 'de...</td>\n",
              "    </tr>\n",
              "    <tr>\n",
              "      <th>4</th>\n",
              "      <td>False</td>\n",
              "      <td>{'id': 96871, 'name': 'Father of the Bride Col...</td>\n",
              "      <td>0</td>\n",
              "      <td>[{'id': 35, 'name': 'Comedy'}]</td>\n",
              "      <td>NaN</td>\n",
              "      <td>11862</td>\n",
              "      <td>tt0113041</td>\n",
              "      <td>en</td>\n",
              "      <td>Father of the Bride Part II</td>\n",
              "      <td>Just when George Banks has recovered from his ...</td>\n",
              "      <td>8.38752</td>\n",
              "      <td>/e64sOI48hQXyru7naBFyssKFxVd.jpg</td>\n",
              "      <td>[{'name': 'Sandollar Productions', 'id': 5842}...</td>\n",
              "      <td>[{'iso_3166_1': 'US', 'name': 'United States o...</td>\n",
              "      <td>1995-02-10</td>\n",
              "      <td>76578911.0</td>\n",
              "      <td>106.0</td>\n",
              "      <td>[{'iso_639_1': 'en', 'name': 'English'}]</td>\n",
              "      <td>Released</td>\n",
              "      <td>Just When His World Is Back To Normal... He's ...</td>\n",
              "      <td>Father of the Bride Part II</td>\n",
              "      <td>False</td>\n",
              "      <td>5.7</td>\n",
              "      <td>173.0</td>\n",
              "      <td>[{'cast_id': 1, 'character': 'George Banks', '...</td>\n",
              "      <td>[{'credit_id': '52fe44959251416c75039ed7', 'de...</td>\n",
              "    </tr>\n",
              "    <tr>\n",
              "      <th>...</th>\n",
              "      <td>...</td>\n",
              "      <td>...</td>\n",
              "      <td>...</td>\n",
              "      <td>...</td>\n",
              "      <td>...</td>\n",
              "      <td>...</td>\n",
              "      <td>...</td>\n",
              "      <td>...</td>\n",
              "      <td>...</td>\n",
              "      <td>...</td>\n",
              "      <td>...</td>\n",
              "      <td>...</td>\n",
              "      <td>...</td>\n",
              "      <td>...</td>\n",
              "      <td>...</td>\n",
              "      <td>...</td>\n",
              "      <td>...</td>\n",
              "      <td>...</td>\n",
              "      <td>...</td>\n",
              "      <td>...</td>\n",
              "      <td>...</td>\n",
              "      <td>...</td>\n",
              "      <td>...</td>\n",
              "      <td>...</td>\n",
              "      <td>...</td>\n",
              "      <td>...</td>\n",
              "    </tr>\n",
              "    <tr>\n",
              "      <th>45533</th>\n",
              "      <td>False</td>\n",
              "      <td>NaN</td>\n",
              "      <td>0</td>\n",
              "      <td>[{'id': 18, 'name': 'Drama'}, {'id': 10751, 'n...</td>\n",
              "      <td>http://www.imdb.com/title/tt6209470/</td>\n",
              "      <td>439050</td>\n",
              "      <td>tt6209470</td>\n",
              "      <td>fa</td>\n",
              "      <td>رگ خواب</td>\n",
              "      <td>Rising and falling between a man and woman.</td>\n",
              "      <td>0.072051</td>\n",
              "      <td>/jldsYflnId4tTWPx8es3uzsB1I8.jpg</td>\n",
              "      <td>[]</td>\n",
              "      <td>[{'iso_3166_1': 'IR', 'name': 'Iran'}]</td>\n",
              "      <td>NaN</td>\n",
              "      <td>0.0</td>\n",
              "      <td>90.0</td>\n",
              "      <td>[{'iso_639_1': 'fa', 'name': 'فارسی'}]</td>\n",
              "      <td>Released</td>\n",
              "      <td>Rising and falling between a man and woman</td>\n",
              "      <td>Subdue</td>\n",
              "      <td>False</td>\n",
              "      <td>4.0</td>\n",
              "      <td>1.0</td>\n",
              "      <td>[{'cast_id': 0, 'character': '', 'credit_id': ...</td>\n",
              "      <td>[{'credit_id': '5894a97d925141426c00818c', 'de...</td>\n",
              "    </tr>\n",
              "    <tr>\n",
              "      <th>45534</th>\n",
              "      <td>False</td>\n",
              "      <td>NaN</td>\n",
              "      <td>0</td>\n",
              "      <td>[{'id': 18, 'name': 'Drama'}]</td>\n",
              "      <td>NaN</td>\n",
              "      <td>111109</td>\n",
              "      <td>tt2028550</td>\n",
              "      <td>tl</td>\n",
              "      <td>Siglo ng Pagluluwal</td>\n",
              "      <td>An artist struggles to finish his work while a...</td>\n",
              "      <td>0.178241</td>\n",
              "      <td>/xZkmxsNmYXJbKVsTRLLx3pqGHx7.jpg</td>\n",
              "      <td>[{'name': 'Sine Olivia', 'id': 19653}]</td>\n",
              "      <td>[{'iso_3166_1': 'PH', 'name': 'Philippines'}]</td>\n",
              "      <td>2011-11-17</td>\n",
              "      <td>0.0</td>\n",
              "      <td>360.0</td>\n",
              "      <td>[{'iso_639_1': 'tl', 'name': ''}]</td>\n",
              "      <td>Released</td>\n",
              "      <td>NaN</td>\n",
              "      <td>Century of Birthing</td>\n",
              "      <td>False</td>\n",
              "      <td>9.0</td>\n",
              "      <td>3.0</td>\n",
              "      <td>[{'cast_id': 1002, 'character': 'Sister Angela...</td>\n",
              "      <td>[{'credit_id': '52fe4af1c3a36847f81e9b15', 'de...</td>\n",
              "    </tr>\n",
              "    <tr>\n",
              "      <th>45535</th>\n",
              "      <td>False</td>\n",
              "      <td>NaN</td>\n",
              "      <td>0</td>\n",
              "      <td>[{'id': 28, 'name': 'Action'}, {'id': 18, 'nam...</td>\n",
              "      <td>NaN</td>\n",
              "      <td>67758</td>\n",
              "      <td>tt0303758</td>\n",
              "      <td>en</td>\n",
              "      <td>Betrayal</td>\n",
              "      <td>When one of her hits goes wrong, a professiona...</td>\n",
              "      <td>0.903007</td>\n",
              "      <td>/d5bX92nDsISNhu3ZT69uHwmfCGw.jpg</td>\n",
              "      <td>[{'name': 'American World Pictures', 'id': 6165}]</td>\n",
              "      <td>[{'iso_3166_1': 'US', 'name': 'United States o...</td>\n",
              "      <td>2003-08-01</td>\n",
              "      <td>0.0</td>\n",
              "      <td>90.0</td>\n",
              "      <td>[{'iso_639_1': 'en', 'name': 'English'}]</td>\n",
              "      <td>Released</td>\n",
              "      <td>A deadly game of wits.</td>\n",
              "      <td>Betrayal</td>\n",
              "      <td>False</td>\n",
              "      <td>3.8</td>\n",
              "      <td>6.0</td>\n",
              "      <td>[{'cast_id': 6, 'character': 'Emily Shaw', 'cr...</td>\n",
              "      <td>[{'credit_id': '52fe4776c3a368484e0c8387', 'de...</td>\n",
              "    </tr>\n",
              "    <tr>\n",
              "      <th>45536</th>\n",
              "      <td>False</td>\n",
              "      <td>NaN</td>\n",
              "      <td>0</td>\n",
              "      <td>[]</td>\n",
              "      <td>NaN</td>\n",
              "      <td>227506</td>\n",
              "      <td>tt0008536</td>\n",
              "      <td>en</td>\n",
              "      <td>Satana likuyushchiy</td>\n",
              "      <td>In a small town live two brothers, one a minis...</td>\n",
              "      <td>0.003503</td>\n",
              "      <td>/aorBPO7ak8e8iJKT5OcqYxU3jlK.jpg</td>\n",
              "      <td>[{'name': 'Yermoliev', 'id': 88753}]</td>\n",
              "      <td>[{'iso_3166_1': 'RU', 'name': 'Russia'}]</td>\n",
              "      <td>1917-10-21</td>\n",
              "      <td>0.0</td>\n",
              "      <td>87.0</td>\n",
              "      <td>[]</td>\n",
              "      <td>Released</td>\n",
              "      <td>NaN</td>\n",
              "      <td>Satan Triumphant</td>\n",
              "      <td>False</td>\n",
              "      <td>0.0</td>\n",
              "      <td>0.0</td>\n",
              "      <td>[{'cast_id': 2, 'character': '', 'credit_id': ...</td>\n",
              "      <td>[{'credit_id': '533bccebc3a36844cf0011a7', 'de...</td>\n",
              "    </tr>\n",
              "    <tr>\n",
              "      <th>45537</th>\n",
              "      <td>False</td>\n",
              "      <td>NaN</td>\n",
              "      <td>0</td>\n",
              "      <td>[]</td>\n",
              "      <td>NaN</td>\n",
              "      <td>461257</td>\n",
              "      <td>tt6980792</td>\n",
              "      <td>en</td>\n",
              "      <td>Queerama</td>\n",
              "      <td>50 years after decriminalisation of homosexual...</td>\n",
              "      <td>0.163015</td>\n",
              "      <td>/s5UkZt6NTsrS7ZF0Rh8nzupRlIU.jpg</td>\n",
              "      <td>[]</td>\n",
              "      <td>[{'iso_3166_1': 'GB', 'name': 'United Kingdom'}]</td>\n",
              "      <td>2017-06-09</td>\n",
              "      <td>0.0</td>\n",
              "      <td>75.0</td>\n",
              "      <td>[{'iso_639_1': 'en', 'name': 'English'}]</td>\n",
              "      <td>Released</td>\n",
              "      <td>NaN</td>\n",
              "      <td>Queerama</td>\n",
              "      <td>False</td>\n",
              "      <td>0.0</td>\n",
              "      <td>0.0</td>\n",
              "      <td>[]</td>\n",
              "      <td>[{'credit_id': '593e676c92514105b702e68e', 'de...</td>\n",
              "    </tr>\n",
              "  </tbody>\n",
              "</table>\n",
              "<p>45538 rows × 26 columns</p>\n",
              "</div>\n",
              "      <button class=\"colab-df-convert\" onclick=\"convertToInteractive('df-9a6db46c-7e21-4cb2-9d3b-33762aa614ba')\"\n",
              "              title=\"Convert this dataframe to an interactive table.\"\n",
              "              style=\"display:none;\">\n",
              "        \n",
              "  <svg xmlns=\"http://www.w3.org/2000/svg\" height=\"24px\"viewBox=\"0 0 24 24\"\n",
              "       width=\"24px\">\n",
              "    <path d=\"M0 0h24v24H0V0z\" fill=\"none\"/>\n",
              "    <path d=\"M18.56 5.44l.94 2.06.94-2.06 2.06-.94-2.06-.94-.94-2.06-.94 2.06-2.06.94zm-11 1L8.5 8.5l.94-2.06 2.06-.94-2.06-.94L8.5 2.5l-.94 2.06-2.06.94zm10 10l.94 2.06.94-2.06 2.06-.94-2.06-.94-.94-2.06-.94 2.06-2.06.94z\"/><path d=\"M17.41 7.96l-1.37-1.37c-.4-.4-.92-.59-1.43-.59-.52 0-1.04.2-1.43.59L10.3 9.45l-7.72 7.72c-.78.78-.78 2.05 0 2.83L4 21.41c.39.39.9.59 1.41.59.51 0 1.02-.2 1.41-.59l7.78-7.78 2.81-2.81c.8-.78.8-2.07 0-2.86zM5.41 20L4 18.59l7.72-7.72 1.47 1.35L5.41 20z\"/>\n",
              "  </svg>\n",
              "      </button>\n",
              "      \n",
              "  <style>\n",
              "    .colab-df-container {\n",
              "      display:flex;\n",
              "      flex-wrap:wrap;\n",
              "      gap: 12px;\n",
              "    }\n",
              "\n",
              "    .colab-df-convert {\n",
              "      background-color: #E8F0FE;\n",
              "      border: none;\n",
              "      border-radius: 50%;\n",
              "      cursor: pointer;\n",
              "      display: none;\n",
              "      fill: #1967D2;\n",
              "      height: 32px;\n",
              "      padding: 0 0 0 0;\n",
              "      width: 32px;\n",
              "    }\n",
              "\n",
              "    .colab-df-convert:hover {\n",
              "      background-color: #E2EBFA;\n",
              "      box-shadow: 0px 1px 2px rgba(60, 64, 67, 0.3), 0px 1px 3px 1px rgba(60, 64, 67, 0.15);\n",
              "      fill: #174EA6;\n",
              "    }\n",
              "\n",
              "    [theme=dark] .colab-df-convert {\n",
              "      background-color: #3B4455;\n",
              "      fill: #D2E3FC;\n",
              "    }\n",
              "\n",
              "    [theme=dark] .colab-df-convert:hover {\n",
              "      background-color: #434B5C;\n",
              "      box-shadow: 0px 1px 3px 1px rgba(0, 0, 0, 0.15);\n",
              "      filter: drop-shadow(0px 1px 2px rgba(0, 0, 0, 0.3));\n",
              "      fill: #FFFFFF;\n",
              "    }\n",
              "  </style>\n",
              "\n",
              "      <script>\n",
              "        const buttonEl =\n",
              "          document.querySelector('#df-9a6db46c-7e21-4cb2-9d3b-33762aa614ba button.colab-df-convert');\n",
              "        buttonEl.style.display =\n",
              "          google.colab.kernel.accessAllowed ? 'block' : 'none';\n",
              "\n",
              "        async function convertToInteractive(key) {\n",
              "          const element = document.querySelector('#df-9a6db46c-7e21-4cb2-9d3b-33762aa614ba');\n",
              "          const dataTable =\n",
              "            await google.colab.kernel.invokeFunction('convertToInteractive',\n",
              "                                                     [key], {});\n",
              "          if (!dataTable) return;\n",
              "\n",
              "          const docLinkHtml = 'Like what you see? Visit the ' +\n",
              "            '<a target=\"_blank\" href=https://colab.research.google.com/notebooks/data_table.ipynb>data table notebook</a>'\n",
              "            + ' to learn more about interactive tables.';\n",
              "          element.innerHTML = '';\n",
              "          dataTable['output_type'] = 'display_data';\n",
              "          await google.colab.output.renderOutput(dataTable, element);\n",
              "          const docLink = document.createElement('div');\n",
              "          docLink.innerHTML = docLinkHtml;\n",
              "          element.appendChild(docLink);\n",
              "        }\n",
              "      </script>\n",
              "    </div>\n",
              "  </div>\n",
              "  "
            ],
            "text/plain": [
              "       adult  ...                                               crew\n",
              "0      False  ...  [{'credit_id': '52fe4284c3a36847f8024f49', 'de...\n",
              "1      False  ...  [{'credit_id': '52fe44bfc3a36847f80a7cd1', 'de...\n",
              "2      False  ...  [{'credit_id': '52fe466a9251416c75077a89', 'de...\n",
              "3      False  ...  [{'credit_id': '52fe44779251416c91011acb', 'de...\n",
              "4      False  ...  [{'credit_id': '52fe44959251416c75039ed7', 'de...\n",
              "...      ...  ...                                                ...\n",
              "45533  False  ...  [{'credit_id': '5894a97d925141426c00818c', 'de...\n",
              "45534  False  ...  [{'credit_id': '52fe4af1c3a36847f81e9b15', 'de...\n",
              "45535  False  ...  [{'credit_id': '52fe4776c3a368484e0c8387', 'de...\n",
              "45536  False  ...  [{'credit_id': '533bccebc3a36844cf0011a7', 'de...\n",
              "45537  False  ...  [{'credit_id': '593e676c92514105b702e68e', 'de...\n",
              "\n",
              "[45538 rows x 26 columns]"
            ]
          },
          "metadata": {},
          "execution_count": 12
        }
      ]
    },
    {
      "cell_type": "code",
      "source": [
        "merged.merge(keywords,on='id')\n"
      ],
      "metadata": {
        "id": "d9zSWuXxi7CM"
      },
      "execution_count": null,
      "outputs": []
    },
    {
      "cell_type": "code",
      "source": [
        "## Taking subset dataset to limit our movie size to 9000 movies instead of 1 million\n",
        "## To reduce the computation time since we are resource limited \n",
        "subset = merged[merged['id'].isin(links_small['tmdbId'].values)]"
      ],
      "metadata": {
        "id": "3sxj2bHVi7Ei"
      },
      "execution_count": null,
      "outputs": []
    },
    {
      "cell_type": "code",
      "source": [
        "subset = subset.merge(keywords,on='id')"
      ],
      "metadata": {
        "id": "oYuPa5jgi7G4"
      },
      "execution_count": null,
      "outputs": []
    },
    {
      "cell_type": "code",
      "source": [
        "## get director\n",
        "subset['director'] = subset['crew'].apply(lambda x: fetch_dir(x))\n",
        "## get genre \n",
        "subset['genres'] = subset['genres'].apply(lambda x: fetch_genre(x))\n",
        "## get actor \n",
        "subset['cast'] = subset['cast'].apply(ast.literal_eval)\n",
        "## only fetch main caste \n",
        "subset['main_cast'] = subset['cast'].apply(lambda x: fetch_main_cast(x))\n"
      ],
      "metadata": {
        "id": "FFcW0UQdhaU8"
      },
      "execution_count": null,
      "outputs": []
    },
    {
      "cell_type": "code",
      "source": [
        "## extract keywords \n",
        "subset['keywords'] = subset['keywords'].apply(ast.literal_eval)"
      ],
      "metadata": {
        "id": "bbN_yyLmhaXB"
      },
      "execution_count": null,
      "outputs": []
    },
    {
      "cell_type": "code",
      "source": [
        "## Extract keywords function\n",
        "def extract_keywords(x):\n",
        "    list_ = []\n",
        "    for i in x:\n",
        "        list_.append(i['name'])\n",
        "    return list_\n",
        "\n",
        "subset['keywords'] = subset['keywords'].apply(extract_keywords)"
      ],
      "metadata": {
        "id": "QSpJaqzNggfH"
      },
      "execution_count": null,
      "outputs": []
    },
    {
      "cell_type": "code",
      "source": [
        "## Make title as a list for easier string concatenation\n",
        "def make_list(x):\n",
        "    list_ = []\n",
        "    list_.append(x)\n",
        "    return list_\n",
        "subset['title'] = subset['title'].apply(make_list)"
      ],
      "metadata": {
        "id": "zmhCtVJegghK"
      },
      "execution_count": null,
      "outputs": []
    },
    {
      "cell_type": "code",
      "source": [
        "## Creating one feature for each movie \n",
        "subset['all'] = subset['director'] + subset['main_cast'] + subset['genres'] + subset['keywords'] + subset['title']"
      ],
      "metadata": {
        "id": "b69XIYl8jnZk"
      },
      "execution_count": null,
      "outputs": []
    },
    {
      "cell_type": "markdown",
      "source": [
        "Combining all features like director , genre, actors, movie title, keywords and making one feature for each movie .\n",
        "This string needs to be converted into embeddings"
      ],
      "metadata": {
        "id": "1iXSE67TmubD"
      }
    },
    {
      "cell_type": "markdown",
      "source": [
        "# Preprocessing Textual Data"
      ],
      "metadata": {
        "id": "nSeboMbSlBJS"
      }
    },
    {
      "cell_type": "markdown",
      "source": [
        "### Lowercasing"
      ],
      "metadata": {
        "id": "ZokmBtx4nuhI"
      }
    },
    {
      "cell_type": "code",
      "source": [
        "## Converting into lowercase\n",
        "def lower_case(x):\n",
        "    list_ = []\n",
        "    for i in x:\n",
        "        list_.append(i.lower())\n",
        "    return list_\n",
        "\n",
        "subset['clean_data'] = subset['all'].apply(lower_case)\n",
        "subset['clean_data']"
      ],
      "metadata": {
        "colab": {
          "base_uri": "https://localhost:8080/"
        },
        "id": "a48Jo6bjjncM",
        "outputId": "333b3c0f-1a60-42c3-e39f-0563362a9516"
      },
      "execution_count": null,
      "outputs": [
        {
          "output_type": "execute_result",
          "data": {
            "text/plain": [
              "0       [john lasseter, tom hanks, tim allen, don rick...\n",
              "1       [joe johnston, robin williams, jonathan hyde, ...\n",
              "2       [howard deutch, walter matthau, jack lemmon, a...\n",
              "3       [forest whitaker, whitney houston, angela bass...\n",
              "4       [charles shyer, steve martin, diane keaton, ma...\n",
              "                              ...                        \n",
              "9214    [gregg champion, sidney poitier, wendy crewson...\n",
              "9215    [tinu suresh desai, akshay kumar, ileana d'cru...\n",
              "9216    [ashutosh gowariker, hrithik roshan, pooja heg...\n",
              "9217    [hideaki anno, shinji higuchi, hiroki hasegawa...\n",
              "9218    [ron howard, paul mccartney, ringo starr, john...\n",
              "Name: clean_data, Length: 9219, dtype: object"
            ]
          },
          "metadata": {},
          "execution_count": 57
        }
      ]
    },
    {
      "cell_type": "markdown",
      "source": [
        "### Remove Stopwords, Punctuations "
      ],
      "metadata": {
        "id": "oJrnfyF1nxfe"
      }
    },
    {
      "cell_type": "code",
      "source": [
        "## Remove stopwords\n",
        "\n",
        "##Remove punctuation from the words after stopwords\n",
        "punctuation_set = set(string.punctuation)\n",
        "\n",
        "##stopwords -we fetch a list of stopwords\n",
        "stop_words_set = set(stopwords.words('english'))\n",
        "\n",
        "##stopwords removal\n",
        "def remove_stopwords(sentence):\n",
        "  filtered_words = []\n",
        "  for word in sentence:\n",
        "    if word not in stop_words_set:\n",
        "      filtered_words.append(word) \n",
        "  \n",
        "  return filtered_words\n",
        "\n",
        "##punctuation removal\n",
        "def remove_punctuations(sentence):\n",
        "  filtered_words = []\n",
        "  for word in sentence:\n",
        "    if word not in punctuation_set:\n",
        "      filtered_words.append(word) \n",
        "  \n",
        "  return filtered_words"
      ],
      "metadata": {
        "id": "uxGiCRsDjnjr"
      },
      "execution_count": null,
      "outputs": []
    },
    {
      "cell_type": "code",
      "source": [
        "subset['clean_data'] = subset['clean_data'].apply(remove_punctuations)\n",
        "subset['clean_data'] = subset['clean_data'].apply(remove_stopwords)"
      ],
      "metadata": {
        "id": "yluwe1UBggjh"
      },
      "execution_count": null,
      "outputs": []
    },
    {
      "cell_type": "code",
      "source": [
        "subset['clean_data']"
      ],
      "metadata": {
        "colab": {
          "base_uri": "https://localhost:8080/"
        },
        "id": "x6m5MsULgA-R",
        "outputId": "5c448a1b-f013-4d3d-8762-2bb6d4fee918"
      },
      "execution_count": null,
      "outputs": [
        {
          "output_type": "execute_result",
          "data": {
            "text/plain": [
              "0       [john lasseter, tom hanks, tim allen, don rick...\n",
              "1       [joe johnston, robin williams, jonathan hyde, ...\n",
              "2       [howard deutch, walter matthau, jack lemmon, a...\n",
              "3       [forest whitaker, whitney houston, angela bass...\n",
              "4       [charles shyer, steve martin, diane keaton, ma...\n",
              "                              ...                        \n",
              "9214    [gregg champion, sidney poitier, wendy crewson...\n",
              "9215    [tinu suresh desai, akshay kumar, ileana d'cru...\n",
              "9216    [ashutosh gowariker, hrithik roshan, pooja heg...\n",
              "9217    [hideaki anno, shinji higuchi, hiroki hasegawa...\n",
              "9218    [ron howard, paul mccartney, ringo starr, john...\n",
              "Name: clean_data, Length: 9219, dtype: object"
            ]
          },
          "metadata": {},
          "execution_count": 61
        }
      ]
    },
    {
      "cell_type": "markdown",
      "source": [
        "### Lemmmatization"
      ],
      "metadata": {
        "id": "KFy-AdlYn28s"
      }
    },
    {
      "cell_type": "code",
      "source": [
        "## Reducing our vocab size by using Lemmatization\n",
        "wordnet_lemmatizer = WordNetLemmatizer()\n",
        "\n",
        "def lemmatize(x):\n",
        "    return [wordnet_lemmatizer.lemmatize(w) for w in x]\n",
        "\n",
        "subset['clean_data'] = subset['clean_data'].apply(lemmatize)"
      ],
      "metadata": {
        "id": "SliXYmhNlalb"
      },
      "execution_count": null,
      "outputs": []
    },
    {
      "cell_type": "code",
      "source": [
        "subset['data'] = subset['clean_data'].apply(lambda x:''.join(x))"
      ],
      "metadata": {
        "id": "Ccyn_yPlcZQz"
      },
      "execution_count": null,
      "outputs": []
    },
    {
      "cell_type": "markdown",
      "source": [
        "### Pre-trained Word Embeddings 300 Dimensions "
      ],
      "metadata": {
        "id": "rOlvaRX-n-0V"
      }
    },
    {
      "cell_type": "code",
      "source": [
        "## Pre-trained word embeddings from Spacy \n",
        "## Converting our feature into embeddings of 300 dimension vectors \n",
        "from keras.layers import TextVectorization \n",
        "import spacy\n",
        "import en_core_web_lg\n",
        "nlp = spacy.load(\"en_core_web_lg\")\n",
        "Vectorizer = TextVectorization()\n"
      ],
      "metadata": {
        "id": "g_mIOgTalaoP"
      },
      "execution_count": null,
      "outputs": []
    },
    {
      "cell_type": "code",
      "source": [
        "## Function to apply embeddings \n",
        "def get_vector(x):\n",
        "    doc = nlp(x)\n",
        "    return doc.vector"
      ],
      "metadata": {
        "id": "6gSvw_FdlarZ"
      },
      "execution_count": null,
      "outputs": []
    },
    {
      "cell_type": "code",
      "source": [
        "## word2vec\n",
        "wordvec_arrays = np.zeros((len(subset['data']), 300)) \n",
        "\n",
        "for i in range(len(subset['data'])):\n",
        "    wordvec_arrays[i,:] = get_vector(subset['data'][i]).reshape(1,300)\n",
        "    wordvec_df = pd.DataFrame(wordvec_arrays)"
      ],
      "metadata": {
        "id": "Gt62Vv9_lat_"
      },
      "execution_count": null,
      "outputs": []
    },
    {
      "cell_type": "code",
      "source": [
        "## Showing vectors for each movie\n",
        "wordvec_df"
      ],
      "metadata": {
        "colab": {
          "base_uri": "https://localhost:8080/",
          "height": 488
        },
        "id": "rDR6eJ6qfoHc",
        "outputId": "19279920-2a33-4bf2-9803-a35d16b0f2f8"
      },
      "execution_count": null,
      "outputs": [
        {
          "output_type": "execute_result",
          "data": {
            "text/html": [
              "\n",
              "  <div id=\"df-290748f6-d7ef-49c8-9dfc-ad7fc6aa9d23\">\n",
              "    <div class=\"colab-df-container\">\n",
              "      <div>\n",
              "<style scoped>\n",
              "    .dataframe tbody tr th:only-of-type {\n",
              "        vertical-align: middle;\n",
              "    }\n",
              "\n",
              "    .dataframe tbody tr th {\n",
              "        vertical-align: top;\n",
              "    }\n",
              "\n",
              "    .dataframe thead th {\n",
              "        text-align: right;\n",
              "    }\n",
              "</style>\n",
              "<table border=\"1\" class=\"dataframe\">\n",
              "  <thead>\n",
              "    <tr style=\"text-align: right;\">\n",
              "      <th></th>\n",
              "      <th>0</th>\n",
              "      <th>1</th>\n",
              "      <th>2</th>\n",
              "      <th>3</th>\n",
              "      <th>4</th>\n",
              "      <th>5</th>\n",
              "      <th>6</th>\n",
              "      <th>7</th>\n",
              "      <th>8</th>\n",
              "      <th>9</th>\n",
              "      <th>10</th>\n",
              "      <th>11</th>\n",
              "      <th>12</th>\n",
              "      <th>13</th>\n",
              "      <th>14</th>\n",
              "      <th>15</th>\n",
              "      <th>16</th>\n",
              "      <th>17</th>\n",
              "      <th>18</th>\n",
              "      <th>19</th>\n",
              "      <th>20</th>\n",
              "      <th>21</th>\n",
              "      <th>22</th>\n",
              "      <th>23</th>\n",
              "      <th>24</th>\n",
              "      <th>25</th>\n",
              "      <th>26</th>\n",
              "      <th>27</th>\n",
              "      <th>28</th>\n",
              "      <th>29</th>\n",
              "      <th>30</th>\n",
              "      <th>31</th>\n",
              "      <th>32</th>\n",
              "      <th>33</th>\n",
              "      <th>34</th>\n",
              "      <th>35</th>\n",
              "      <th>36</th>\n",
              "      <th>37</th>\n",
              "      <th>38</th>\n",
              "      <th>39</th>\n",
              "      <th>...</th>\n",
              "      <th>260</th>\n",
              "      <th>261</th>\n",
              "      <th>262</th>\n",
              "      <th>263</th>\n",
              "      <th>264</th>\n",
              "      <th>265</th>\n",
              "      <th>266</th>\n",
              "      <th>267</th>\n",
              "      <th>268</th>\n",
              "      <th>269</th>\n",
              "      <th>270</th>\n",
              "      <th>271</th>\n",
              "      <th>272</th>\n",
              "      <th>273</th>\n",
              "      <th>274</th>\n",
              "      <th>275</th>\n",
              "      <th>276</th>\n",
              "      <th>277</th>\n",
              "      <th>278</th>\n",
              "      <th>279</th>\n",
              "      <th>280</th>\n",
              "      <th>281</th>\n",
              "      <th>282</th>\n",
              "      <th>283</th>\n",
              "      <th>284</th>\n",
              "      <th>285</th>\n",
              "      <th>286</th>\n",
              "      <th>287</th>\n",
              "      <th>288</th>\n",
              "      <th>289</th>\n",
              "      <th>290</th>\n",
              "      <th>291</th>\n",
              "      <th>292</th>\n",
              "      <th>293</th>\n",
              "      <th>294</th>\n",
              "      <th>295</th>\n",
              "      <th>296</th>\n",
              "      <th>297</th>\n",
              "      <th>298</th>\n",
              "      <th>299</th>\n",
              "    </tr>\n",
              "  </thead>\n",
              "  <tbody>\n",
              "    <tr>\n",
              "      <th>0</th>\n",
              "      <td>0.000954</td>\n",
              "      <td>0.100750</td>\n",
              "      <td>-0.006991</td>\n",
              "      <td>-0.016906</td>\n",
              "      <td>0.045532</td>\n",
              "      <td>-0.047784</td>\n",
              "      <td>-0.031496</td>\n",
              "      <td>-0.053476</td>\n",
              "      <td>0.048904</td>\n",
              "      <td>0.918508</td>\n",
              "      <td>-0.132134</td>\n",
              "      <td>-0.055953</td>\n",
              "      <td>0.027882</td>\n",
              "      <td>0.027096</td>\n",
              "      <td>-0.081941</td>\n",
              "      <td>-0.050431</td>\n",
              "      <td>-0.010694</td>\n",
              "      <td>0.395730</td>\n",
              "      <td>-0.008153</td>\n",
              "      <td>-0.056990</td>\n",
              "      <td>0.024398</td>\n",
              "      <td>-0.005019</td>\n",
              "      <td>0.064891</td>\n",
              "      <td>-0.022226</td>\n",
              "      <td>0.040587</td>\n",
              "      <td>0.013261</td>\n",
              "      <td>-0.085921</td>\n",
              "      <td>0.025233</td>\n",
              "      <td>-0.104212</td>\n",
              "      <td>0.044534</td>\n",
              "      <td>-0.069426</td>\n",
              "      <td>0.042112</td>\n",
              "      <td>-0.032795</td>\n",
              "      <td>0.052056</td>\n",
              "      <td>0.081049</td>\n",
              "      <td>0.026318</td>\n",
              "      <td>0.048733</td>\n",
              "      <td>0.012552</td>\n",
              "      <td>-0.066616</td>\n",
              "      <td>-0.049951</td>\n",
              "      <td>...</td>\n",
              "      <td>0.093021</td>\n",
              "      <td>-0.018875</td>\n",
              "      <td>-0.028181</td>\n",
              "      <td>0.025687</td>\n",
              "      <td>0.106740</td>\n",
              "      <td>-0.144616</td>\n",
              "      <td>0.009376</td>\n",
              "      <td>0.048422</td>\n",
              "      <td>0.071899</td>\n",
              "      <td>0.031951</td>\n",
              "      <td>0.032010</td>\n",
              "      <td>-0.002074</td>\n",
              "      <td>-0.013751</td>\n",
              "      <td>-0.026078</td>\n",
              "      <td>-0.039018</td>\n",
              "      <td>-0.037216</td>\n",
              "      <td>0.037382</td>\n",
              "      <td>0.024481</td>\n",
              "      <td>0.054129</td>\n",
              "      <td>0.048989</td>\n",
              "      <td>0.058933</td>\n",
              "      <td>0.030908</td>\n",
              "      <td>-0.072567</td>\n",
              "      <td>-0.020232</td>\n",
              "      <td>0.021652</td>\n",
              "      <td>0.020977</td>\n",
              "      <td>0.009078</td>\n",
              "      <td>0.000128</td>\n",
              "      <td>-0.063914</td>\n",
              "      <td>-0.026712</td>\n",
              "      <td>-0.073613</td>\n",
              "      <td>0.009864</td>\n",
              "      <td>-0.011630</td>\n",
              "      <td>0.000488</td>\n",
              "      <td>-0.002350</td>\n",
              "      <td>-0.043521</td>\n",
              "      <td>-0.059645</td>\n",
              "      <td>-0.007625</td>\n",
              "      <td>-0.066261</td>\n",
              "      <td>0.048591</td>\n",
              "    </tr>\n",
              "    <tr>\n",
              "      <th>1</th>\n",
              "      <td>-0.053584</td>\n",
              "      <td>0.069413</td>\n",
              "      <td>-0.033931</td>\n",
              "      <td>0.036123</td>\n",
              "      <td>-0.009213</td>\n",
              "      <td>0.001520</td>\n",
              "      <td>0.023727</td>\n",
              "      <td>-0.065536</td>\n",
              "      <td>-0.006149</td>\n",
              "      <td>0.727659</td>\n",
              "      <td>-0.154194</td>\n",
              "      <td>-0.075531</td>\n",
              "      <td>-0.056979</td>\n",
              "      <td>0.012899</td>\n",
              "      <td>-0.026702</td>\n",
              "      <td>0.005630</td>\n",
              "      <td>-0.006964</td>\n",
              "      <td>0.287632</td>\n",
              "      <td>-0.062765</td>\n",
              "      <td>-0.012005</td>\n",
              "      <td>-0.031764</td>\n",
              "      <td>-0.052048</td>\n",
              "      <td>-0.006378</td>\n",
              "      <td>-0.044189</td>\n",
              "      <td>0.093987</td>\n",
              "      <td>-0.073193</td>\n",
              "      <td>-0.071605</td>\n",
              "      <td>0.063975</td>\n",
              "      <td>0.045851</td>\n",
              "      <td>0.018860</td>\n",
              "      <td>0.015281</td>\n",
              "      <td>-0.024903</td>\n",
              "      <td>0.007682</td>\n",
              "      <td>-0.044112</td>\n",
              "      <td>0.008378</td>\n",
              "      <td>-0.022578</td>\n",
              "      <td>-0.025749</td>\n",
              "      <td>0.096373</td>\n",
              "      <td>-0.004221</td>\n",
              "      <td>0.069500</td>\n",
              "      <td>...</td>\n",
              "      <td>-0.048877</td>\n",
              "      <td>0.021001</td>\n",
              "      <td>-0.035039</td>\n",
              "      <td>0.062850</td>\n",
              "      <td>0.014702</td>\n",
              "      <td>-0.057475</td>\n",
              "      <td>0.008251</td>\n",
              "      <td>0.013425</td>\n",
              "      <td>0.004850</td>\n",
              "      <td>-0.031192</td>\n",
              "      <td>-0.033026</td>\n",
              "      <td>-0.005465</td>\n",
              "      <td>-0.045658</td>\n",
              "      <td>-0.008283</td>\n",
              "      <td>-0.007328</td>\n",
              "      <td>-0.077322</td>\n",
              "      <td>-0.008732</td>\n",
              "      <td>0.026770</td>\n",
              "      <td>-0.010461</td>\n",
              "      <td>0.080607</td>\n",
              "      <td>0.012055</td>\n",
              "      <td>0.052963</td>\n",
              "      <td>-0.050056</td>\n",
              "      <td>-0.003567</td>\n",
              "      <td>0.028572</td>\n",
              "      <td>0.024279</td>\n",
              "      <td>0.074383</td>\n",
              "      <td>0.068375</td>\n",
              "      <td>-0.068354</td>\n",
              "      <td>-0.032919</td>\n",
              "      <td>0.023744</td>\n",
              "      <td>-0.032192</td>\n",
              "      <td>0.030714</td>\n",
              "      <td>-0.010823</td>\n",
              "      <td>0.055994</td>\n",
              "      <td>-0.037091</td>\n",
              "      <td>0.005511</td>\n",
              "      <td>-0.076638</td>\n",
              "      <td>0.035490</td>\n",
              "      <td>0.045518</td>\n",
              "    </tr>\n",
              "    <tr>\n",
              "      <th>2</th>\n",
              "      <td>-0.059439</td>\n",
              "      <td>0.089844</td>\n",
              "      <td>-0.021991</td>\n",
              "      <td>-0.057961</td>\n",
              "      <td>0.043502</td>\n",
              "      <td>-0.025022</td>\n",
              "      <td>0.081037</td>\n",
              "      <td>-0.069505</td>\n",
              "      <td>0.049365</td>\n",
              "      <td>0.671692</td>\n",
              "      <td>-0.100817</td>\n",
              "      <td>-0.040250</td>\n",
              "      <td>-0.025686</td>\n",
              "      <td>-0.134225</td>\n",
              "      <td>-0.042504</td>\n",
              "      <td>-0.006259</td>\n",
              "      <td>-0.001999</td>\n",
              "      <td>0.322343</td>\n",
              "      <td>0.042478</td>\n",
              "      <td>0.097873</td>\n",
              "      <td>0.022592</td>\n",
              "      <td>-0.071371</td>\n",
              "      <td>-0.004122</td>\n",
              "      <td>-0.043516</td>\n",
              "      <td>0.036703</td>\n",
              "      <td>-0.002158</td>\n",
              "      <td>-0.029228</td>\n",
              "      <td>0.073215</td>\n",
              "      <td>0.095212</td>\n",
              "      <td>0.136137</td>\n",
              "      <td>-0.091469</td>\n",
              "      <td>0.213648</td>\n",
              "      <td>-0.082837</td>\n",
              "      <td>-0.000585</td>\n",
              "      <td>0.077589</td>\n",
              "      <td>-0.037442</td>\n",
              "      <td>0.021985</td>\n",
              "      <td>-0.032657</td>\n",
              "      <td>-0.096505</td>\n",
              "      <td>0.068919</td>\n",
              "      <td>...</td>\n",
              "      <td>0.013379</td>\n",
              "      <td>0.060149</td>\n",
              "      <td>0.048415</td>\n",
              "      <td>0.081748</td>\n",
              "      <td>-0.067515</td>\n",
              "      <td>-0.031971</td>\n",
              "      <td>0.046235</td>\n",
              "      <td>0.043360</td>\n",
              "      <td>-0.174398</td>\n",
              "      <td>0.063340</td>\n",
              "      <td>-0.153688</td>\n",
              "      <td>0.028543</td>\n",
              "      <td>-0.066361</td>\n",
              "      <td>0.040655</td>\n",
              "      <td>-0.059981</td>\n",
              "      <td>-0.039527</td>\n",
              "      <td>0.058603</td>\n",
              "      <td>-0.064447</td>\n",
              "      <td>-0.025373</td>\n",
              "      <td>0.100002</td>\n",
              "      <td>-0.043582</td>\n",
              "      <td>0.084788</td>\n",
              "      <td>-0.035493</td>\n",
              "      <td>0.034481</td>\n",
              "      <td>0.023644</td>\n",
              "      <td>-0.065096</td>\n",
              "      <td>-0.011381</td>\n",
              "      <td>-0.054780</td>\n",
              "      <td>-0.031749</td>\n",
              "      <td>0.006314</td>\n",
              "      <td>-0.094723</td>\n",
              "      <td>-0.009418</td>\n",
              "      <td>-0.010965</td>\n",
              "      <td>-0.020421</td>\n",
              "      <td>0.008191</td>\n",
              "      <td>0.044300</td>\n",
              "      <td>0.054674</td>\n",
              "      <td>-0.042239</td>\n",
              "      <td>-0.053780</td>\n",
              "      <td>-0.126858</td>\n",
              "    </tr>\n",
              "    <tr>\n",
              "      <th>3</th>\n",
              "      <td>0.081651</td>\n",
              "      <td>0.038925</td>\n",
              "      <td>-0.160283</td>\n",
              "      <td>0.035592</td>\n",
              "      <td>0.018030</td>\n",
              "      <td>0.016819</td>\n",
              "      <td>-0.047422</td>\n",
              "      <td>0.022648</td>\n",
              "      <td>-0.063975</td>\n",
              "      <td>0.563358</td>\n",
              "      <td>-0.145114</td>\n",
              "      <td>0.029573</td>\n",
              "      <td>-0.025263</td>\n",
              "      <td>-0.067548</td>\n",
              "      <td>-0.065320</td>\n",
              "      <td>0.128990</td>\n",
              "      <td>0.046552</td>\n",
              "      <td>0.314695</td>\n",
              "      <td>-0.083213</td>\n",
              "      <td>-0.040657</td>\n",
              "      <td>0.045455</td>\n",
              "      <td>0.098528</td>\n",
              "      <td>-0.016314</td>\n",
              "      <td>0.048620</td>\n",
              "      <td>-0.070653</td>\n",
              "      <td>0.006686</td>\n",
              "      <td>-0.004211</td>\n",
              "      <td>-0.017750</td>\n",
              "      <td>-0.009097</td>\n",
              "      <td>0.004346</td>\n",
              "      <td>-0.073682</td>\n",
              "      <td>0.037071</td>\n",
              "      <td>-0.058551</td>\n",
              "      <td>-0.054019</td>\n",
              "      <td>0.023638</td>\n",
              "      <td>-0.018661</td>\n",
              "      <td>-0.015843</td>\n",
              "      <td>0.045592</td>\n",
              "      <td>-0.105642</td>\n",
              "      <td>-0.064587</td>\n",
              "      <td>...</td>\n",
              "      <td>-0.003952</td>\n",
              "      <td>0.027183</td>\n",
              "      <td>0.099931</td>\n",
              "      <td>-0.011270</td>\n",
              "      <td>0.106351</td>\n",
              "      <td>-0.145926</td>\n",
              "      <td>-0.035476</td>\n",
              "      <td>-0.024794</td>\n",
              "      <td>-0.046259</td>\n",
              "      <td>0.047654</td>\n",
              "      <td>0.045693</td>\n",
              "      <td>-0.110869</td>\n",
              "      <td>0.017960</td>\n",
              "      <td>-0.029188</td>\n",
              "      <td>0.074701</td>\n",
              "      <td>-0.042350</td>\n",
              "      <td>-0.033996</td>\n",
              "      <td>0.047816</td>\n",
              "      <td>-0.034073</td>\n",
              "      <td>0.061106</td>\n",
              "      <td>0.013087</td>\n",
              "      <td>-0.046707</td>\n",
              "      <td>-0.044329</td>\n",
              "      <td>-0.012140</td>\n",
              "      <td>0.006064</td>\n",
              "      <td>-0.020093</td>\n",
              "      <td>0.079622</td>\n",
              "      <td>-0.025330</td>\n",
              "      <td>0.075409</td>\n",
              "      <td>-0.022007</td>\n",
              "      <td>-0.006885</td>\n",
              "      <td>0.034008</td>\n",
              "      <td>0.093722</td>\n",
              "      <td>-0.098240</td>\n",
              "      <td>-0.080461</td>\n",
              "      <td>-0.024290</td>\n",
              "      <td>0.093540</td>\n",
              "      <td>0.057095</td>\n",
              "      <td>0.018787</td>\n",
              "      <td>0.082682</td>\n",
              "    </tr>\n",
              "    <tr>\n",
              "      <th>4</th>\n",
              "      <td>-0.019942</td>\n",
              "      <td>0.053049</td>\n",
              "      <td>-0.031868</td>\n",
              "      <td>-0.083113</td>\n",
              "      <td>0.071665</td>\n",
              "      <td>-0.040279</td>\n",
              "      <td>0.095951</td>\n",
              "      <td>-0.036204</td>\n",
              "      <td>0.074758</td>\n",
              "      <td>1.039341</td>\n",
              "      <td>-0.255075</td>\n",
              "      <td>0.060924</td>\n",
              "      <td>0.099877</td>\n",
              "      <td>0.048293</td>\n",
              "      <td>-0.099414</td>\n",
              "      <td>-0.002149</td>\n",
              "      <td>-0.056604</td>\n",
              "      <td>0.511750</td>\n",
              "      <td>-0.056672</td>\n",
              "      <td>-0.003364</td>\n",
              "      <td>0.056267</td>\n",
              "      <td>-0.132939</td>\n",
              "      <td>-0.204025</td>\n",
              "      <td>0.026797</td>\n",
              "      <td>0.009802</td>\n",
              "      <td>0.022360</td>\n",
              "      <td>-0.137680</td>\n",
              "      <td>-0.009689</td>\n",
              "      <td>-0.146308</td>\n",
              "      <td>0.150638</td>\n",
              "      <td>0.016792</td>\n",
              "      <td>0.063636</td>\n",
              "      <td>0.038632</td>\n",
              "      <td>0.084663</td>\n",
              "      <td>0.049392</td>\n",
              "      <td>-0.069207</td>\n",
              "      <td>0.053445</td>\n",
              "      <td>-0.033393</td>\n",
              "      <td>-0.089164</td>\n",
              "      <td>-0.082824</td>\n",
              "      <td>...</td>\n",
              "      <td>-0.005817</td>\n",
              "      <td>0.069704</td>\n",
              "      <td>-0.075891</td>\n",
              "      <td>0.069059</td>\n",
              "      <td>-0.027262</td>\n",
              "      <td>-0.137433</td>\n",
              "      <td>0.086735</td>\n",
              "      <td>0.042013</td>\n",
              "      <td>-0.017473</td>\n",
              "      <td>-0.111781</td>\n",
              "      <td>-0.111927</td>\n",
              "      <td>0.056058</td>\n",
              "      <td>-0.065367</td>\n",
              "      <td>0.009959</td>\n",
              "      <td>0.002318</td>\n",
              "      <td>-0.012181</td>\n",
              "      <td>-0.035112</td>\n",
              "      <td>0.001080</td>\n",
              "      <td>0.004167</td>\n",
              "      <td>0.004716</td>\n",
              "      <td>0.190053</td>\n",
              "      <td>0.152432</td>\n",
              "      <td>0.034525</td>\n",
              "      <td>-0.055703</td>\n",
              "      <td>-0.044669</td>\n",
              "      <td>0.064747</td>\n",
              "      <td>0.079026</td>\n",
              "      <td>-0.008616</td>\n",
              "      <td>0.007207</td>\n",
              "      <td>-0.140086</td>\n",
              "      <td>-0.065859</td>\n",
              "      <td>0.026022</td>\n",
              "      <td>-0.004090</td>\n",
              "      <td>-0.032211</td>\n",
              "      <td>0.095602</td>\n",
              "      <td>-0.012976</td>\n",
              "      <td>-0.053441</td>\n",
              "      <td>0.041366</td>\n",
              "      <td>-0.057714</td>\n",
              "      <td>0.030790</td>\n",
              "    </tr>\n",
              "    <tr>\n",
              "      <th>...</th>\n",
              "      <td>...</td>\n",
              "      <td>...</td>\n",
              "      <td>...</td>\n",
              "      <td>...</td>\n",
              "      <td>...</td>\n",
              "      <td>...</td>\n",
              "      <td>...</td>\n",
              "      <td>...</td>\n",
              "      <td>...</td>\n",
              "      <td>...</td>\n",
              "      <td>...</td>\n",
              "      <td>...</td>\n",
              "      <td>...</td>\n",
              "      <td>...</td>\n",
              "      <td>...</td>\n",
              "      <td>...</td>\n",
              "      <td>...</td>\n",
              "      <td>...</td>\n",
              "      <td>...</td>\n",
              "      <td>...</td>\n",
              "      <td>...</td>\n",
              "      <td>...</td>\n",
              "      <td>...</td>\n",
              "      <td>...</td>\n",
              "      <td>...</td>\n",
              "      <td>...</td>\n",
              "      <td>...</td>\n",
              "      <td>...</td>\n",
              "      <td>...</td>\n",
              "      <td>...</td>\n",
              "      <td>...</td>\n",
              "      <td>...</td>\n",
              "      <td>...</td>\n",
              "      <td>...</td>\n",
              "      <td>...</td>\n",
              "      <td>...</td>\n",
              "      <td>...</td>\n",
              "      <td>...</td>\n",
              "      <td>...</td>\n",
              "      <td>...</td>\n",
              "      <td>...</td>\n",
              "      <td>...</td>\n",
              "      <td>...</td>\n",
              "      <td>...</td>\n",
              "      <td>...</td>\n",
              "      <td>...</td>\n",
              "      <td>...</td>\n",
              "      <td>...</td>\n",
              "      <td>...</td>\n",
              "      <td>...</td>\n",
              "      <td>...</td>\n",
              "      <td>...</td>\n",
              "      <td>...</td>\n",
              "      <td>...</td>\n",
              "      <td>...</td>\n",
              "      <td>...</td>\n",
              "      <td>...</td>\n",
              "      <td>...</td>\n",
              "      <td>...</td>\n",
              "      <td>...</td>\n",
              "      <td>...</td>\n",
              "      <td>...</td>\n",
              "      <td>...</td>\n",
              "      <td>...</td>\n",
              "      <td>...</td>\n",
              "      <td>...</td>\n",
              "      <td>...</td>\n",
              "      <td>...</td>\n",
              "      <td>...</td>\n",
              "      <td>...</td>\n",
              "      <td>...</td>\n",
              "      <td>...</td>\n",
              "      <td>...</td>\n",
              "      <td>...</td>\n",
              "      <td>...</td>\n",
              "      <td>...</td>\n",
              "      <td>...</td>\n",
              "      <td>...</td>\n",
              "      <td>...</td>\n",
              "      <td>...</td>\n",
              "      <td>...</td>\n",
              "    </tr>\n",
              "    <tr>\n",
              "      <th>9214</th>\n",
              "      <td>-0.131889</td>\n",
              "      <td>0.147799</td>\n",
              "      <td>0.052595</td>\n",
              "      <td>-0.020530</td>\n",
              "      <td>0.087883</td>\n",
              "      <td>-0.065588</td>\n",
              "      <td>-0.084702</td>\n",
              "      <td>0.026058</td>\n",
              "      <td>0.038063</td>\n",
              "      <td>0.619884</td>\n",
              "      <td>-0.202257</td>\n",
              "      <td>-0.071377</td>\n",
              "      <td>0.065366</td>\n",
              "      <td>-0.056035</td>\n",
              "      <td>0.003137</td>\n",
              "      <td>0.024633</td>\n",
              "      <td>0.039363</td>\n",
              "      <td>0.285591</td>\n",
              "      <td>0.116628</td>\n",
              "      <td>0.025297</td>\n",
              "      <td>0.066547</td>\n",
              "      <td>-0.010878</td>\n",
              "      <td>0.123113</td>\n",
              "      <td>-0.061952</td>\n",
              "      <td>0.024957</td>\n",
              "      <td>-0.088833</td>\n",
              "      <td>-0.153879</td>\n",
              "      <td>0.005087</td>\n",
              "      <td>0.013896</td>\n",
              "      <td>0.124817</td>\n",
              "      <td>0.093977</td>\n",
              "      <td>0.002754</td>\n",
              "      <td>0.012722</td>\n",
              "      <td>0.005368</td>\n",
              "      <td>0.010601</td>\n",
              "      <td>0.086433</td>\n",
              "      <td>0.021775</td>\n",
              "      <td>0.013587</td>\n",
              "      <td>-0.100876</td>\n",
              "      <td>0.084586</td>\n",
              "      <td>...</td>\n",
              "      <td>0.060017</td>\n",
              "      <td>0.092284</td>\n",
              "      <td>-0.081634</td>\n",
              "      <td>0.083354</td>\n",
              "      <td>-0.006269</td>\n",
              "      <td>-0.176337</td>\n",
              "      <td>0.020854</td>\n",
              "      <td>-0.043034</td>\n",
              "      <td>-0.081662</td>\n",
              "      <td>0.004321</td>\n",
              "      <td>-0.114513</td>\n",
              "      <td>0.017422</td>\n",
              "      <td>-0.051696</td>\n",
              "      <td>0.076651</td>\n",
              "      <td>-0.030193</td>\n",
              "      <td>-0.016744</td>\n",
              "      <td>0.041741</td>\n",
              "      <td>0.046341</td>\n",
              "      <td>0.062509</td>\n",
              "      <td>-0.018915</td>\n",
              "      <td>0.054821</td>\n",
              "      <td>-0.037961</td>\n",
              "      <td>-0.122587</td>\n",
              "      <td>0.047980</td>\n",
              "      <td>-0.006492</td>\n",
              "      <td>-0.018715</td>\n",
              "      <td>0.017975</td>\n",
              "      <td>-0.017767</td>\n",
              "      <td>0.000408</td>\n",
              "      <td>0.060762</td>\n",
              "      <td>-0.009887</td>\n",
              "      <td>-0.019387</td>\n",
              "      <td>-0.047303</td>\n",
              "      <td>-0.143492</td>\n",
              "      <td>0.096152</td>\n",
              "      <td>-0.109151</td>\n",
              "      <td>0.006138</td>\n",
              "      <td>-0.015387</td>\n",
              "      <td>-0.104333</td>\n",
              "      <td>0.027530</td>\n",
              "    </tr>\n",
              "    <tr>\n",
              "      <th>9215</th>\n",
              "      <td>0.004967</td>\n",
              "      <td>0.074994</td>\n",
              "      <td>0.040802</td>\n",
              "      <td>0.026474</td>\n",
              "      <td>-0.047624</td>\n",
              "      <td>0.062932</td>\n",
              "      <td>0.112952</td>\n",
              "      <td>-0.120148</td>\n",
              "      <td>0.000227</td>\n",
              "      <td>-0.248320</td>\n",
              "      <td>-0.140522</td>\n",
              "      <td>-0.120296</td>\n",
              "      <td>0.058374</td>\n",
              "      <td>-0.121884</td>\n",
              "      <td>0.001073</td>\n",
              "      <td>-0.024164</td>\n",
              "      <td>0.043386</td>\n",
              "      <td>-0.163066</td>\n",
              "      <td>0.044262</td>\n",
              "      <td>0.157280</td>\n",
              "      <td>0.076428</td>\n",
              "      <td>0.088602</td>\n",
              "      <td>0.087690</td>\n",
              "      <td>0.037908</td>\n",
              "      <td>0.045086</td>\n",
              "      <td>0.061072</td>\n",
              "      <td>0.157072</td>\n",
              "      <td>-0.073934</td>\n",
              "      <td>-0.028066</td>\n",
              "      <td>0.103490</td>\n",
              "      <td>0.065386</td>\n",
              "      <td>-0.052150</td>\n",
              "      <td>0.007129</td>\n",
              "      <td>-0.042772</td>\n",
              "      <td>-0.181946</td>\n",
              "      <td>0.055602</td>\n",
              "      <td>-0.043692</td>\n",
              "      <td>0.088746</td>\n",
              "      <td>-0.079576</td>\n",
              "      <td>0.046116</td>\n",
              "      <td>...</td>\n",
              "      <td>0.080452</td>\n",
              "      <td>0.084218</td>\n",
              "      <td>0.097008</td>\n",
              "      <td>0.020608</td>\n",
              "      <td>-0.135312</td>\n",
              "      <td>0.021106</td>\n",
              "      <td>-0.030558</td>\n",
              "      <td>0.043774</td>\n",
              "      <td>-0.063142</td>\n",
              "      <td>-0.017386</td>\n",
              "      <td>-0.055096</td>\n",
              "      <td>0.023716</td>\n",
              "      <td>-0.076264</td>\n",
              "      <td>0.067894</td>\n",
              "      <td>0.036346</td>\n",
              "      <td>-0.020912</td>\n",
              "      <td>0.081318</td>\n",
              "      <td>-0.033274</td>\n",
              "      <td>-0.039786</td>\n",
              "      <td>-0.012057</td>\n",
              "      <td>-0.032174</td>\n",
              "      <td>-0.095906</td>\n",
              "      <td>-0.225240</td>\n",
              "      <td>0.005888</td>\n",
              "      <td>-0.034416</td>\n",
              "      <td>-0.061464</td>\n",
              "      <td>0.149322</td>\n",
              "      <td>0.044352</td>\n",
              "      <td>-0.046398</td>\n",
              "      <td>0.016621</td>\n",
              "      <td>0.186372</td>\n",
              "      <td>-0.116312</td>\n",
              "      <td>-0.138762</td>\n",
              "      <td>-0.039756</td>\n",
              "      <td>0.090898</td>\n",
              "      <td>-0.006430</td>\n",
              "      <td>-0.007240</td>\n",
              "      <td>0.127560</td>\n",
              "      <td>-0.117158</td>\n",
              "      <td>0.045592</td>\n",
              "    </tr>\n",
              "    <tr>\n",
              "      <th>9216</th>\n",
              "      <td>0.076970</td>\n",
              "      <td>0.059498</td>\n",
              "      <td>0.100897</td>\n",
              "      <td>-0.000970</td>\n",
              "      <td>-0.034355</td>\n",
              "      <td>0.056278</td>\n",
              "      <td>0.024949</td>\n",
              "      <td>-0.174198</td>\n",
              "      <td>-0.059896</td>\n",
              "      <td>-0.666320</td>\n",
              "      <td>-0.066794</td>\n",
              "      <td>-0.342732</td>\n",
              "      <td>-0.063074</td>\n",
              "      <td>0.059513</td>\n",
              "      <td>0.175188</td>\n",
              "      <td>-0.037822</td>\n",
              "      <td>0.000234</td>\n",
              "      <td>-0.462560</td>\n",
              "      <td>0.081900</td>\n",
              "      <td>0.154842</td>\n",
              "      <td>0.065092</td>\n",
              "      <td>0.081290</td>\n",
              "      <td>0.310610</td>\n",
              "      <td>-0.000908</td>\n",
              "      <td>0.081978</td>\n",
              "      <td>0.031889</td>\n",
              "      <td>-0.170452</td>\n",
              "      <td>0.091446</td>\n",
              "      <td>-0.182936</td>\n",
              "      <td>0.038258</td>\n",
              "      <td>0.047852</td>\n",
              "      <td>-0.196276</td>\n",
              "      <td>0.059770</td>\n",
              "      <td>-0.005264</td>\n",
              "      <td>-0.354138</td>\n",
              "      <td>0.083298</td>\n",
              "      <td>-0.236480</td>\n",
              "      <td>0.086173</td>\n",
              "      <td>-0.150652</td>\n",
              "      <td>0.085790</td>\n",
              "      <td>...</td>\n",
              "      <td>-0.041492</td>\n",
              "      <td>-0.016760</td>\n",
              "      <td>0.102722</td>\n",
              "      <td>0.076476</td>\n",
              "      <td>-0.090654</td>\n",
              "      <td>0.099320</td>\n",
              "      <td>0.116310</td>\n",
              "      <td>0.305530</td>\n",
              "      <td>-0.260678</td>\n",
              "      <td>0.081315</td>\n",
              "      <td>0.007990</td>\n",
              "      <td>0.014664</td>\n",
              "      <td>0.189820</td>\n",
              "      <td>0.087398</td>\n",
              "      <td>-0.044853</td>\n",
              "      <td>-0.093244</td>\n",
              "      <td>-0.010782</td>\n",
              "      <td>0.014638</td>\n",
              "      <td>0.008756</td>\n",
              "      <td>-0.090012</td>\n",
              "      <td>-0.129456</td>\n",
              "      <td>-0.107996</td>\n",
              "      <td>-0.056274</td>\n",
              "      <td>0.075342</td>\n",
              "      <td>0.121024</td>\n",
              "      <td>-0.014834</td>\n",
              "      <td>-0.087573</td>\n",
              "      <td>0.064256</td>\n",
              "      <td>-0.059722</td>\n",
              "      <td>0.009718</td>\n",
              "      <td>0.259126</td>\n",
              "      <td>-0.132216</td>\n",
              "      <td>-0.110520</td>\n",
              "      <td>-0.012660</td>\n",
              "      <td>-0.016550</td>\n",
              "      <td>-0.000846</td>\n",
              "      <td>-0.051096</td>\n",
              "      <td>0.128870</td>\n",
              "      <td>0.094023</td>\n",
              "      <td>-0.065861</td>\n",
              "    </tr>\n",
              "    <tr>\n",
              "      <th>9217</th>\n",
              "      <td>-0.029116</td>\n",
              "      <td>-0.081786</td>\n",
              "      <td>0.045216</td>\n",
              "      <td>-0.142930</td>\n",
              "      <td>0.014470</td>\n",
              "      <td>-0.070052</td>\n",
              "      <td>0.054750</td>\n",
              "      <td>-0.031586</td>\n",
              "      <td>-0.064058</td>\n",
              "      <td>-0.278121</td>\n",
              "      <td>0.071016</td>\n",
              "      <td>-0.046973</td>\n",
              "      <td>-0.136983</td>\n",
              "      <td>0.075467</td>\n",
              "      <td>-0.007676</td>\n",
              "      <td>0.073337</td>\n",
              "      <td>0.056647</td>\n",
              "      <td>-0.178257</td>\n",
              "      <td>0.077303</td>\n",
              "      <td>0.018798</td>\n",
              "      <td>0.082067</td>\n",
              "      <td>-0.026926</td>\n",
              "      <td>0.015957</td>\n",
              "      <td>-0.037025</td>\n",
              "      <td>-0.098597</td>\n",
              "      <td>0.078709</td>\n",
              "      <td>-0.042476</td>\n",
              "      <td>0.027988</td>\n",
              "      <td>-0.034387</td>\n",
              "      <td>-0.001570</td>\n",
              "      <td>0.018287</td>\n",
              "      <td>-0.125408</td>\n",
              "      <td>-0.146872</td>\n",
              "      <td>0.089861</td>\n",
              "      <td>-0.037208</td>\n",
              "      <td>-0.094249</td>\n",
              "      <td>-0.032309</td>\n",
              "      <td>-0.077391</td>\n",
              "      <td>-0.012616</td>\n",
              "      <td>-0.032922</td>\n",
              "      <td>...</td>\n",
              "      <td>-0.022650</td>\n",
              "      <td>-0.057710</td>\n",
              "      <td>-0.066181</td>\n",
              "      <td>-0.017043</td>\n",
              "      <td>-0.064996</td>\n",
              "      <td>0.019051</td>\n",
              "      <td>-0.035006</td>\n",
              "      <td>0.003788</td>\n",
              "      <td>-0.065897</td>\n",
              "      <td>0.083478</td>\n",
              "      <td>-0.045660</td>\n",
              "      <td>-0.029607</td>\n",
              "      <td>-0.015754</td>\n",
              "      <td>0.019724</td>\n",
              "      <td>0.045112</td>\n",
              "      <td>-0.026373</td>\n",
              "      <td>-0.088653</td>\n",
              "      <td>-0.009269</td>\n",
              "      <td>-0.030904</td>\n",
              "      <td>0.021220</td>\n",
              "      <td>-0.037928</td>\n",
              "      <td>0.002587</td>\n",
              "      <td>-0.059211</td>\n",
              "      <td>-0.087579</td>\n",
              "      <td>0.126589</td>\n",
              "      <td>0.131687</td>\n",
              "      <td>-0.032378</td>\n",
              "      <td>0.069629</td>\n",
              "      <td>-0.074994</td>\n",
              "      <td>-0.192732</td>\n",
              "      <td>0.144602</td>\n",
              "      <td>0.040812</td>\n",
              "      <td>-0.010031</td>\n",
              "      <td>0.079796</td>\n",
              "      <td>0.005691</td>\n",
              "      <td>-0.102918</td>\n",
              "      <td>-0.114949</td>\n",
              "      <td>0.092961</td>\n",
              "      <td>0.020559</td>\n",
              "      <td>0.049906</td>\n",
              "    </tr>\n",
              "    <tr>\n",
              "      <th>9218</th>\n",
              "      <td>0.101399</td>\n",
              "      <td>0.159219</td>\n",
              "      <td>0.039316</td>\n",
              "      <td>-0.082483</td>\n",
              "      <td>0.043415</td>\n",
              "      <td>-0.155235</td>\n",
              "      <td>-0.069801</td>\n",
              "      <td>-0.128063</td>\n",
              "      <td>0.032485</td>\n",
              "      <td>1.279176</td>\n",
              "      <td>-0.040814</td>\n",
              "      <td>-0.062336</td>\n",
              "      <td>0.009612</td>\n",
              "      <td>-0.107626</td>\n",
              "      <td>0.045852</td>\n",
              "      <td>-0.071517</td>\n",
              "      <td>-0.039522</td>\n",
              "      <td>0.596999</td>\n",
              "      <td>0.036799</td>\n",
              "      <td>0.025614</td>\n",
              "      <td>-0.049331</td>\n",
              "      <td>-0.018331</td>\n",
              "      <td>0.009420</td>\n",
              "      <td>0.033327</td>\n",
              "      <td>-0.050663</td>\n",
              "      <td>0.015301</td>\n",
              "      <td>-0.103443</td>\n",
              "      <td>0.068605</td>\n",
              "      <td>0.079144</td>\n",
              "      <td>0.183520</td>\n",
              "      <td>0.031564</td>\n",
              "      <td>0.067697</td>\n",
              "      <td>0.031333</td>\n",
              "      <td>-0.021603</td>\n",
              "      <td>0.076236</td>\n",
              "      <td>0.136710</td>\n",
              "      <td>0.014906</td>\n",
              "      <td>0.000328</td>\n",
              "      <td>-0.026675</td>\n",
              "      <td>0.061220</td>\n",
              "      <td>...</td>\n",
              "      <td>0.174430</td>\n",
              "      <td>0.122296</td>\n",
              "      <td>-0.081568</td>\n",
              "      <td>0.101639</td>\n",
              "      <td>-0.023413</td>\n",
              "      <td>-0.227446</td>\n",
              "      <td>0.059758</td>\n",
              "      <td>-0.013805</td>\n",
              "      <td>-0.053390</td>\n",
              "      <td>-0.035833</td>\n",
              "      <td>-0.000357</td>\n",
              "      <td>-0.031088</td>\n",
              "      <td>-0.096969</td>\n",
              "      <td>-0.120098</td>\n",
              "      <td>-0.029747</td>\n",
              "      <td>0.061585</td>\n",
              "      <td>0.073461</td>\n",
              "      <td>0.008187</td>\n",
              "      <td>0.079174</td>\n",
              "      <td>0.025784</td>\n",
              "      <td>0.022443</td>\n",
              "      <td>0.045781</td>\n",
              "      <td>-0.074528</td>\n",
              "      <td>0.009300</td>\n",
              "      <td>0.051681</td>\n",
              "      <td>-0.080284</td>\n",
              "      <td>0.112764</td>\n",
              "      <td>-0.207046</td>\n",
              "      <td>0.024583</td>\n",
              "      <td>0.130922</td>\n",
              "      <td>-0.059230</td>\n",
              "      <td>0.031539</td>\n",
              "      <td>0.063735</td>\n",
              "      <td>0.009502</td>\n",
              "      <td>0.030267</td>\n",
              "      <td>-0.025392</td>\n",
              "      <td>0.013916</td>\n",
              "      <td>-0.047631</td>\n",
              "      <td>0.029106</td>\n",
              "      <td>-0.077616</td>\n",
              "    </tr>\n",
              "  </tbody>\n",
              "</table>\n",
              "<p>9219 rows × 300 columns</p>\n",
              "</div>\n",
              "      <button class=\"colab-df-convert\" onclick=\"convertToInteractive('df-290748f6-d7ef-49c8-9dfc-ad7fc6aa9d23')\"\n",
              "              title=\"Convert this dataframe to an interactive table.\"\n",
              "              style=\"display:none;\">\n",
              "        \n",
              "  <svg xmlns=\"http://www.w3.org/2000/svg\" height=\"24px\"viewBox=\"0 0 24 24\"\n",
              "       width=\"24px\">\n",
              "    <path d=\"M0 0h24v24H0V0z\" fill=\"none\"/>\n",
              "    <path d=\"M18.56 5.44l.94 2.06.94-2.06 2.06-.94-2.06-.94-.94-2.06-.94 2.06-2.06.94zm-11 1L8.5 8.5l.94-2.06 2.06-.94-2.06-.94L8.5 2.5l-.94 2.06-2.06.94zm10 10l.94 2.06.94-2.06 2.06-.94-2.06-.94-.94-2.06-.94 2.06-2.06.94z\"/><path d=\"M17.41 7.96l-1.37-1.37c-.4-.4-.92-.59-1.43-.59-.52 0-1.04.2-1.43.59L10.3 9.45l-7.72 7.72c-.78.78-.78 2.05 0 2.83L4 21.41c.39.39.9.59 1.41.59.51 0 1.02-.2 1.41-.59l7.78-7.78 2.81-2.81c.8-.78.8-2.07 0-2.86zM5.41 20L4 18.59l7.72-7.72 1.47 1.35L5.41 20z\"/>\n",
              "  </svg>\n",
              "      </button>\n",
              "      \n",
              "  <style>\n",
              "    .colab-df-container {\n",
              "      display:flex;\n",
              "      flex-wrap:wrap;\n",
              "      gap: 12px;\n",
              "    }\n",
              "\n",
              "    .colab-df-convert {\n",
              "      background-color: #E8F0FE;\n",
              "      border: none;\n",
              "      border-radius: 50%;\n",
              "      cursor: pointer;\n",
              "      display: none;\n",
              "      fill: #1967D2;\n",
              "      height: 32px;\n",
              "      padding: 0 0 0 0;\n",
              "      width: 32px;\n",
              "    }\n",
              "\n",
              "    .colab-df-convert:hover {\n",
              "      background-color: #E2EBFA;\n",
              "      box-shadow: 0px 1px 2px rgba(60, 64, 67, 0.3), 0px 1px 3px 1px rgba(60, 64, 67, 0.15);\n",
              "      fill: #174EA6;\n",
              "    }\n",
              "\n",
              "    [theme=dark] .colab-df-convert {\n",
              "      background-color: #3B4455;\n",
              "      fill: #D2E3FC;\n",
              "    }\n",
              "\n",
              "    [theme=dark] .colab-df-convert:hover {\n",
              "      background-color: #434B5C;\n",
              "      box-shadow: 0px 1px 3px 1px rgba(0, 0, 0, 0.15);\n",
              "      filter: drop-shadow(0px 1px 2px rgba(0, 0, 0, 0.3));\n",
              "      fill: #FFFFFF;\n",
              "    }\n",
              "  </style>\n",
              "\n",
              "      <script>\n",
              "        const buttonEl =\n",
              "          document.querySelector('#df-290748f6-d7ef-49c8-9dfc-ad7fc6aa9d23 button.colab-df-convert');\n",
              "        buttonEl.style.display =\n",
              "          google.colab.kernel.accessAllowed ? 'block' : 'none';\n",
              "\n",
              "        async function convertToInteractive(key) {\n",
              "          const element = document.querySelector('#df-290748f6-d7ef-49c8-9dfc-ad7fc6aa9d23');\n",
              "          const dataTable =\n",
              "            await google.colab.kernel.invokeFunction('convertToInteractive',\n",
              "                                                     [key], {});\n",
              "          if (!dataTable) return;\n",
              "\n",
              "          const docLinkHtml = 'Like what you see? Visit the ' +\n",
              "            '<a target=\"_blank\" href=https://colab.research.google.com/notebooks/data_table.ipynb>data table notebook</a>'\n",
              "            + ' to learn more about interactive tables.';\n",
              "          element.innerHTML = '';\n",
              "          dataTable['output_type'] = 'display_data';\n",
              "          await google.colab.output.renderOutput(dataTable, element);\n",
              "          const docLink = document.createElement('div');\n",
              "          docLink.innerHTML = docLinkHtml;\n",
              "          element.appendChild(docLink);\n",
              "        }\n",
              "      </script>\n",
              "    </div>\n",
              "  </div>\n",
              "  "
            ],
            "text/plain": [
              "           0         1         2    ...       297       298       299\n",
              "0     0.000954  0.100750 -0.006991  ... -0.007625 -0.066261  0.048591\n",
              "1    -0.053584  0.069413 -0.033931  ... -0.076638  0.035490  0.045518\n",
              "2    -0.059439  0.089844 -0.021991  ... -0.042239 -0.053780 -0.126858\n",
              "3     0.081651  0.038925 -0.160283  ...  0.057095  0.018787  0.082682\n",
              "4    -0.019942  0.053049 -0.031868  ...  0.041366 -0.057714  0.030790\n",
              "...        ...       ...       ...  ...       ...       ...       ...\n",
              "9214 -0.131889  0.147799  0.052595  ... -0.015387 -0.104333  0.027530\n",
              "9215  0.004967  0.074994  0.040802  ...  0.127560 -0.117158  0.045592\n",
              "9216  0.076970  0.059498  0.100897  ...  0.128870  0.094023 -0.065861\n",
              "9217 -0.029116 -0.081786  0.045216  ...  0.092961  0.020559  0.049906\n",
              "9218  0.101399  0.159219  0.039316  ... -0.047631  0.029106 -0.077616\n",
              "\n",
              "[9219 rows x 300 columns]"
            ]
          },
          "metadata": {},
          "execution_count": 67
        }
      ]
    },
    {
      "cell_type": "markdown",
      "source": [
        "### Cosine Similarity Matrix \n",
        "To compare two different movies - we need to compare the vectors we generated from our embeddings . \n",
        "By using cosine similarity we can find out similar movies for each movie ."
      ],
      "metadata": {
        "id": "Tl6PS0y0oZqU"
      }
    },
    {
      "cell_type": "code",
      "source": [
        "## generate cosine similarity matrix\n",
        "cosine_sim_matrix = cosine_similarity(wordvec_df,wordvec_df)"
      ],
      "metadata": {
        "id": "3HONi1eylawV"
      },
      "execution_count": null,
      "outputs": []
    },
    {
      "cell_type": "code",
      "source": [
        "## cosine similarity matrix\n",
        "cosine_sim_matrix"
      ],
      "metadata": {
        "colab": {
          "base_uri": "https://localhost:8080/"
        },
        "id": "Hhhz4LwYlks0",
        "outputId": "5f531e25-cec5-48b1-883c-ddfff45e1f13"
      },
      "execution_count": null,
      "outputs": [
        {
          "output_type": "execute_result",
          "data": {
            "text/plain": [
              "array([[ 1.        ,  0.71053134,  0.51535916, ..., -0.19974313,\n",
              "        -0.23735269,  0.26170529],\n",
              "       [ 0.71053134,  1.        ,  0.50849498, ..., -0.13334083,\n",
              "        -0.23765311,  0.27227883],\n",
              "       [ 0.51535916,  0.50849498,  1.        , ..., -0.13384713,\n",
              "        -0.16288193,  0.39952822],\n",
              "       ...,\n",
              "       [-0.19974313, -0.13334083, -0.13384713, ...,  1.        ,\n",
              "         0.283424  ,  0.07620988],\n",
              "       [-0.23735269, -0.23765311, -0.16288193, ...,  0.283424  ,\n",
              "         1.        , -0.05309445],\n",
              "       [ 0.26170529,  0.27227883,  0.39952822, ...,  0.07620988,\n",
              "        -0.05309445,  1.        ]])"
            ]
          },
          "metadata": {},
          "execution_count": 50
        }
      ]
    },
    {
      "cell_type": "code",
      "source": [
        "## Movie title mapped to its index according to our dataset-which maps to cosine matrix \n",
        "\n",
        "df = subset\n",
        "df = df.reset_index()\n",
        "df['title_one'] = df['title'].apply(lambda x:x[0])\n",
        "df['title_one'] = df['title_one'].apply(lambda x:x.lower())\n",
        "indices = pd.Series(df.index, index=df['title_one'])\n"
      ],
      "metadata": {
        "id": "_Xevgmf-lkvp"
      },
      "execution_count": null,
      "outputs": []
    },
    {
      "cell_type": "markdown",
      "source": [
        "# Recommend Movies !!!"
      ],
      "metadata": {
        "id": "lcWavEvKo-S3"
      }
    },
    {
      "cell_type": "markdown",
      "source": [
        "The aim is to provide a movie title and get a bunch of movies that are similar to the movie entered .\n"
      ],
      "metadata": {
        "id": "f9NBWVsUpMf9"
      }
    },
    {
      "cell_type": "code",
      "source": [
        "## Create function to fetch recommendations \n",
        "## The aim is to provide a movie title and get a bunch of movies that are similar to the movie entered \n",
        "\n",
        "def get_recommendations(title):\n",
        "    ## get the movie name\n",
        "    ## make it lowercase to match exactly \n",
        "    ##title = str(title)\n",
        "    title = title.lower()\n",
        "    movie_index = indices[title]\n",
        "    similarity_scores_movie = cosine_sim_matrix[movie_index]\n",
        "    ## this will map a score with the movies -so the shape is that movie to 9000 movies \n",
        "    mapped_list = list(enumerate(similarity_scores_movie))\n",
        "\n",
        "    ## you need to sort this and arrange with top 10 movies , sort according to the second field in the set \n",
        "    mapped_list.sort(key=lambda x:x[1],reverse=True)\n",
        "    top_10 = mapped_list[1:20]\n",
        "    ##fetch the movie index \n",
        "    index_most_similar = [i[0] for i in top_10]\n",
        "    ## fetch the movie from title\n",
        "    recommendation = df['title_one'][index_most_similar]\n",
        "    return recommendation\n",
        "\n",
        "    # print(mapped_list)"
      ],
      "metadata": {
        "id": "TJRroMr-lkyP"
      },
      "execution_count": null,
      "outputs": []
    },
    {
      "cell_type": "code",
      "source": [
        "## Recommendations for \"The Godfather\"\n",
        "recommendation = get_recommendations('The Godfather')\n",
        "recommendation"
      ],
      "metadata": {
        "colab": {
          "base_uri": "https://localhost:8080/"
        },
        "id": "LE7l3lOtlk1J",
        "outputId": "0b23896f-2f22-41bd-c155-c0cb6fec9509"
      },
      "execution_count": null,
      "outputs": [
        {
          "output_type": "execute_result",
          "data": {
            "text/plain": [
              "4518                                   one from the heart\n",
              "1691                                        the outsiders\n",
              "4975                                           king ralph\n",
              "3569                                    coming to america\n",
              "3616                        tucker: the man and his dream\n",
              "994                                the godfather: part ii\n",
              "1062                   indiana jones and the last crusade\n",
              "97                          the bridges of madison county\n",
              "6018                                flight of the phoenix\n",
              "7685                                              machete\n",
              "3270                                    prelude to a kiss\n",
              "3946                                              m*a*s*h\n",
              "6866    the assassination of jesse james by the coward...\n",
              "2632                                          howards end\n",
              "1559              friday the 13th part vii: the new blood\n",
              "7887                                   he ran all the way\n",
              "1590                           back to the future part ii\n",
              "924                                  escape from new york\n",
              "4580                   journey to the center of the earth\n",
              "Name: title_one, dtype: object"
            ]
          },
          "metadata": {},
          "execution_count": 71
        }
      ]
    },
    {
      "cell_type": "code",
      "source": [
        "## Recommendations for \"The Dark Knight \"\n",
        "\n",
        "recommendation = get_recommendations('The Dark Knight')\n",
        "recommendation"
      ],
      "metadata": {
        "colab": {
          "base_uri": "https://localhost:8080/"
        },
        "id": "gYeHScWglk3d",
        "outputId": "63c26fa3-3581-4f5f-8cb4-945366bf7960"
      },
      "execution_count": null,
      "outputs": [
        {
          "output_type": "execute_result",
          "data": {
            "text/plain": [
              "8031                      the dark knight rises\n",
              "3435                            a knight's tale\n",
              "2340                              the dark half\n",
              "8334    batman: the dark knight returns, part 2\n",
              "8668                                 maleficent\n",
              "8265    batman: the dark knight returns, part 1\n",
              "6964                      taxi to the dark side\n",
              "8790                             doctor strange\n",
              "7907             transformers: dark of the moon\n",
              "147                                first knight\n",
              "6904                         the golden compass\n",
              "4603                      wake of the red witch\n",
              "8365                      jack the giant slayer\n",
              "867                  the ghost and the darkness\n",
              "2320                                 thumbelina\n",
              "4536                           shanghai knights\n",
              "6166                      electra glide in blue\n",
              "2033                      house on haunted hill\n",
              "3579               elvira, mistress of the dark\n",
              "Name: title_one, dtype: object"
            ]
          },
          "metadata": {},
          "execution_count": 72
        }
      ]
    },
    {
      "cell_type": "code",
      "source": [
        "## Recommendations for \"Toy Story\"\n",
        "recommendation = get_recommendations('toy story')\n",
        "recommendation"
      ],
      "metadata": {
        "colab": {
          "base_uri": "https://localhost:8080/"
        },
        "id": "IbC6bGcdlk5S",
        "outputId": "09519a7f-06a6-4830-cf8c-ef195cc06a52"
      },
      "execution_count": null,
      "outputs": [
        {
          "output_type": "execute_result",
          "data": {
            "text/plain": [
              "2522                                          toy story 2\n",
              "7629                                          toy story 3\n",
              "2678                                  the next best thing\n",
              "1571                                       child's play 2\n",
              "737                                 it happened one night\n",
              "425                         what's love got to do with it\n",
              "8857    shriek if you know what i did last friday the ...\n",
              "3432                                           love story\n",
              "5602       a funny thing happened on the way to the forum\n",
              "8034                                        life in a day\n",
              "6321                    dreamer: inspired by a true story\n",
              "1570                                         child's play\n",
              "1033                                     the great escape\n",
              "7193                                      bedtime stories\n",
              "2848                     what ever happened to baby jane?\n",
              "4315                 jason goes to hell: the final friday\n",
              "1903                                     a view to a kill\n",
              "75                things to do in denver when you're dead\n",
              "7887                                   he ran all the way\n",
              "Name: title_one, dtype: object"
            ]
          },
          "metadata": {},
          "execution_count": 73
        }
      ]
    },
    {
      "cell_type": "code",
      "source": [
        "## Recommendations for \"Shrek\"\n",
        "\n",
        "recommendation = get_recommendations('shrek')\n",
        "recommendation"
      ],
      "metadata": {
        "colab": {
          "base_uri": "https://localhost:8080/"
        },
        "id": "q-8hQ-Bzin80",
        "outputId": "83d9f854-fc9e-4741-e292-e5f8dd5f91df"
      },
      "execution_count": null,
      "outputs": [
        {
          "output_type": "execute_result",
          "data": {
            "text/plain": [
              "2800                      hook\n",
              "5445                   shrek 2\n",
              "8018                   weekend\n",
              "4348                 polyester\n",
              "6475             scary movie 4\n",
              "6787                      fido\n",
              "3381                   memento\n",
              "1796                      hero\n",
              "1413                  twilight\n",
              "7246             rock-a-doodle\n",
              "384                  coneheads\n",
              "6434                date movie\n",
              "1973                     virus\n",
              "7516               nowhere boy\n",
              "938                      t-men\n",
              "8517                    maniac\n",
              "3347    the unbelievable truth\n",
              "3435           a knight's tale\n",
              "9175                     keanu\n",
              "Name: title_one, dtype: object"
            ]
          },
          "metadata": {},
          "execution_count": 74
        }
      ]
    },
    {
      "cell_type": "code",
      "source": [
        "## Recommendations for \"The Matrix\"\n",
        "\n",
        "recommendation = get_recommendations('the matrix')\n",
        "recommendation"
      ],
      "metadata": {
        "colab": {
          "base_uri": "https://localhost:8080/"
        },
        "id": "cHRs44sOjKE9",
        "outputId": "eb6eeef8-2ae6-40b6-91ec-4e8f6fb305fc"
      },
      "execution_count": null,
      "outputs": [
        {
          "output_type": "execute_result",
          "data": {
            "text/plain": [
              "4651                          the matrix reloaded\n",
              "4928                       the matrix revolutions\n",
              "2041                                    westworld\n",
              "7516                                  nowhere boy\n",
              "7391                                            9\n",
              "5146                                flesh + blood\n",
              "6224                                         rize\n",
              "5299                                      mogambo\n",
              "1565    halloween 5: the revenge of michael myers\n",
              "1588                                soylent green\n",
              "1973                                        virus\n",
              "4114                                       nomads\n",
              "1320                                  chasing amy\n",
              "4936                                  the missing\n",
              "202                             dolores claiborne\n",
              "7945                                another earth\n",
              "6076                                      wizards\n",
              "7778                      tucker and dale vs evil\n",
              "8195                                 premium rush\n",
              "Name: title_one, dtype: object"
            ]
          },
          "metadata": {},
          "execution_count": 76
        }
      ]
    },
    {
      "cell_type": "code",
      "source": [
        "## Recommendations for \"Star Wars\"\n",
        "\n",
        "recommendation = get_recommendations('star wars')\n",
        "recommendation"
      ],
      "metadata": {
        "colab": {
          "base_uri": "https://localhost:8080/"
        },
        "id": "eaUNSO0-jgxB",
        "outputId": "0d8a0d0c-fd9e-4135-a866-bf93b3ab0d76"
      },
      "execution_count": null,
      "outputs": [
        {
          "output_type": "execute_result",
          "data": {
            "text/plain": [
              "7211                                      bride wars\n",
              "7088                       star wars: the clone wars\n",
              "4731                                     scaramouche\n",
              "738                                         gaslight\n",
              "4338                                       gallipoli\n",
              "8777                                            fury\n",
              "638                                       stalingrad\n",
              "2454                                  mister roberts\n",
              "5047                                            1941\n",
              "6593                                         flyboys\n",
              "5559                             slaughterhouse-five\n",
              "5144                         the diary of anne frank\n",
              "3466                                        catch-22\n",
              "2857                                           u-571\n",
              "5573                                 to end all wars\n",
              "305                                          the war\n",
              "2120       star wars: episode i - the phantom menace\n",
              "6199    star wars: episode iii - revenge of the sith\n",
              "5427                                    battleground\n",
              "Name: title_one, dtype: object"
            ]
          },
          "metadata": {},
          "execution_count": 80
        }
      ]
    },
    {
      "cell_type": "markdown",
      "source": [
        "## Taking Ratings Into Account"
      ],
      "metadata": {
        "id": "_IcmOeIvkgfB"
      }
    },
    {
      "cell_type": "code",
      "source": [
        "## Taking movie ratings into account and then recommending"
      ],
      "metadata": {
        "id": "vWS3TxMOkeys"
      },
      "execution_count": null,
      "outputs": []
    },
    {
      "cell_type": "markdown",
      "source": [
        "# Collaborative Filtering Based Recommendation\n",
        "For collaborative based filtering we will use the surprise library which has many built in algorithms for recommendation . "
      ],
      "metadata": {
        "id": "WezGvKlQmJXL"
      }
    },
    {
      "cell_type": "code",
      "source": [
        "## Installing Surprise\n",
        "!pip install surprise"
      ],
      "metadata": {
        "colab": {
          "base_uri": "https://localhost:8080/"
        },
        "id": "zgn6Ik9ivPae",
        "outputId": "2c74ae9d-1814-4bad-f0ec-1d89c7a0a15b"
      },
      "execution_count": null,
      "outputs": [
        {
          "output_type": "stream",
          "name": "stdout",
          "text": [
            "Requirement already satisfied: surprise in /usr/local/lib/python3.7/dist-packages (0.1)\n",
            "Requirement already satisfied: scikit-surprise in /usr/local/lib/python3.7/dist-packages (from surprise) (1.1.1)\n",
            "Requirement already satisfied: six>=1.10.0 in /usr/local/lib/python3.7/dist-packages (from scikit-surprise->surprise) (1.15.0)\n",
            "Requirement already satisfied: scipy>=1.0.0 in /usr/local/lib/python3.7/dist-packages (from scikit-surprise->surprise) (1.4.1)\n",
            "Requirement already satisfied: joblib>=0.11 in /usr/local/lib/python3.7/dist-packages (from scikit-surprise->surprise) (1.1.0)\n",
            "Requirement already satisfied: numpy>=1.11.2 in /usr/local/lib/python3.7/dist-packages (from scikit-surprise->surprise) (1.19.5)\n"
          ]
        }
      ]
    },
    {
      "cell_type": "code",
      "source": [
        "## Importing libraries \n",
        "import pandas as pd\n",
        "from surprise import Reader, Dataset, SVD\n",
        "from surprise.model_selection.validation import cross_validate\n",
        "from surprise.model_selection.split import KFold\n",
        "from surprise.prediction_algorithms.knns import KNNWithMeans\n",
        "from surprise.prediction_algorithms.knns import KNNBasic\n",
        "from surprise.model_selection import GridSearchCV\n",
        "# from surprise.model_selection.split import train_test_split\n",
        "from sklearn.model_selection import train_test_split"
      ],
      "metadata": {
        "id": "GDNidwg5dw3U"
      },
      "execution_count": null,
      "outputs": []
    },
    {
      "cell_type": "markdown",
      "source": [
        "Ratings Dataset\n",
        "A typical utility matrix contains the user and its rating .\n"
      ],
      "metadata": {
        "id": "jkpXb9EtJEae"
      }
    },
    {
      "cell_type": "code",
      "source": [
        "## Reading utility matrix data \n",
        "ratings_small = pd.read_csv('/content/drive/MyDrive/Datasets/movie_lens/ratings_small.csv')\n",
        "ratings_small.head()"
      ],
      "metadata": {
        "colab": {
          "base_uri": "https://localhost:8080/",
          "height": 206
        },
        "id": "jKUd_eMHwt0L",
        "outputId": "ec6b3650-d77e-4659-efd1-4767da3b18cc"
      },
      "execution_count": null,
      "outputs": [
        {
          "output_type": "execute_result",
          "data": {
            "text/html": [
              "\n",
              "  <div id=\"df-d525a261-8d25-4d6e-9d2c-4a126672ad82\">\n",
              "    <div class=\"colab-df-container\">\n",
              "      <div>\n",
              "<style scoped>\n",
              "    .dataframe tbody tr th:only-of-type {\n",
              "        vertical-align: middle;\n",
              "    }\n",
              "\n",
              "    .dataframe tbody tr th {\n",
              "        vertical-align: top;\n",
              "    }\n",
              "\n",
              "    .dataframe thead th {\n",
              "        text-align: right;\n",
              "    }\n",
              "</style>\n",
              "<table border=\"1\" class=\"dataframe\">\n",
              "  <thead>\n",
              "    <tr style=\"text-align: right;\">\n",
              "      <th></th>\n",
              "      <th>userId</th>\n",
              "      <th>movieId</th>\n",
              "      <th>rating</th>\n",
              "      <th>timestamp</th>\n",
              "    </tr>\n",
              "  </thead>\n",
              "  <tbody>\n",
              "    <tr>\n",
              "      <th>0</th>\n",
              "      <td>1</td>\n",
              "      <td>31</td>\n",
              "      <td>2.5</td>\n",
              "      <td>1260759144</td>\n",
              "    </tr>\n",
              "    <tr>\n",
              "      <th>1</th>\n",
              "      <td>1</td>\n",
              "      <td>1029</td>\n",
              "      <td>3.0</td>\n",
              "      <td>1260759179</td>\n",
              "    </tr>\n",
              "    <tr>\n",
              "      <th>2</th>\n",
              "      <td>1</td>\n",
              "      <td>1061</td>\n",
              "      <td>3.0</td>\n",
              "      <td>1260759182</td>\n",
              "    </tr>\n",
              "    <tr>\n",
              "      <th>3</th>\n",
              "      <td>1</td>\n",
              "      <td>1129</td>\n",
              "      <td>2.0</td>\n",
              "      <td>1260759185</td>\n",
              "    </tr>\n",
              "    <tr>\n",
              "      <th>4</th>\n",
              "      <td>1</td>\n",
              "      <td>1172</td>\n",
              "      <td>4.0</td>\n",
              "      <td>1260759205</td>\n",
              "    </tr>\n",
              "  </tbody>\n",
              "</table>\n",
              "</div>\n",
              "      <button class=\"colab-df-convert\" onclick=\"convertToInteractive('df-d525a261-8d25-4d6e-9d2c-4a126672ad82')\"\n",
              "              title=\"Convert this dataframe to an interactive table.\"\n",
              "              style=\"display:none;\">\n",
              "        \n",
              "  <svg xmlns=\"http://www.w3.org/2000/svg\" height=\"24px\"viewBox=\"0 0 24 24\"\n",
              "       width=\"24px\">\n",
              "    <path d=\"M0 0h24v24H0V0z\" fill=\"none\"/>\n",
              "    <path d=\"M18.56 5.44l.94 2.06.94-2.06 2.06-.94-2.06-.94-.94-2.06-.94 2.06-2.06.94zm-11 1L8.5 8.5l.94-2.06 2.06-.94-2.06-.94L8.5 2.5l-.94 2.06-2.06.94zm10 10l.94 2.06.94-2.06 2.06-.94-2.06-.94-.94-2.06-.94 2.06-2.06.94z\"/><path d=\"M17.41 7.96l-1.37-1.37c-.4-.4-.92-.59-1.43-.59-.52 0-1.04.2-1.43.59L10.3 9.45l-7.72 7.72c-.78.78-.78 2.05 0 2.83L4 21.41c.39.39.9.59 1.41.59.51 0 1.02-.2 1.41-.59l7.78-7.78 2.81-2.81c.8-.78.8-2.07 0-2.86zM5.41 20L4 18.59l7.72-7.72 1.47 1.35L5.41 20z\"/>\n",
              "  </svg>\n",
              "      </button>\n",
              "      \n",
              "  <style>\n",
              "    .colab-df-container {\n",
              "      display:flex;\n",
              "      flex-wrap:wrap;\n",
              "      gap: 12px;\n",
              "    }\n",
              "\n",
              "    .colab-df-convert {\n",
              "      background-color: #E8F0FE;\n",
              "      border: none;\n",
              "      border-radius: 50%;\n",
              "      cursor: pointer;\n",
              "      display: none;\n",
              "      fill: #1967D2;\n",
              "      height: 32px;\n",
              "      padding: 0 0 0 0;\n",
              "      width: 32px;\n",
              "    }\n",
              "\n",
              "    .colab-df-convert:hover {\n",
              "      background-color: #E2EBFA;\n",
              "      box-shadow: 0px 1px 2px rgba(60, 64, 67, 0.3), 0px 1px 3px 1px rgba(60, 64, 67, 0.15);\n",
              "      fill: #174EA6;\n",
              "    }\n",
              "\n",
              "    [theme=dark] .colab-df-convert {\n",
              "      background-color: #3B4455;\n",
              "      fill: #D2E3FC;\n",
              "    }\n",
              "\n",
              "    [theme=dark] .colab-df-convert:hover {\n",
              "      background-color: #434B5C;\n",
              "      box-shadow: 0px 1px 3px 1px rgba(0, 0, 0, 0.15);\n",
              "      filter: drop-shadow(0px 1px 2px rgba(0, 0, 0, 0.3));\n",
              "      fill: #FFFFFF;\n",
              "    }\n",
              "  </style>\n",
              "\n",
              "      <script>\n",
              "        const buttonEl =\n",
              "          document.querySelector('#df-d525a261-8d25-4d6e-9d2c-4a126672ad82 button.colab-df-convert');\n",
              "        buttonEl.style.display =\n",
              "          google.colab.kernel.accessAllowed ? 'block' : 'none';\n",
              "\n",
              "        async function convertToInteractive(key) {\n",
              "          const element = document.querySelector('#df-d525a261-8d25-4d6e-9d2c-4a126672ad82');\n",
              "          const dataTable =\n",
              "            await google.colab.kernel.invokeFunction('convertToInteractive',\n",
              "                                                     [key], {});\n",
              "          if (!dataTable) return;\n",
              "\n",
              "          const docLinkHtml = 'Like what you see? Visit the ' +\n",
              "            '<a target=\"_blank\" href=https://colab.research.google.com/notebooks/data_table.ipynb>data table notebook</a>'\n",
              "            + ' to learn more about interactive tables.';\n",
              "          element.innerHTML = '';\n",
              "          dataTable['output_type'] = 'display_data';\n",
              "          await google.colab.output.renderOutput(dataTable, element);\n",
              "          const docLink = document.createElement('div');\n",
              "          docLink.innerHTML = docLinkHtml;\n",
              "          element.appendChild(docLink);\n",
              "        }\n",
              "      </script>\n",
              "    </div>\n",
              "  </div>\n",
              "  "
            ],
            "text/plain": [
              "   userId  movieId  rating   timestamp\n",
              "0       1       31     2.5  1260759144\n",
              "1       1     1029     3.0  1260759179\n",
              "2       1     1061     3.0  1260759182\n",
              "3       1     1129     2.0  1260759185\n",
              "4       1     1172     4.0  1260759205"
            ]
          },
          "metadata": {},
          "execution_count": 95
        }
      ]
    },
    {
      "cell_type": "code",
      "source": [
        "## Using reader instance to read data into suitable format\n",
        "data = Dataset.load_from_df(ratings_small[['userId', 'movieId', 'rating']], reader)"
      ],
      "metadata": {
        "id": "cD8QUYfjl4gu"
      },
      "execution_count": null,
      "outputs": []
    },
    {
      "cell_type": "code",
      "source": [
        "## creating K-Folds for cross validation \n",
        "k_folds = KFold(n_splits =2, random_state=123, shuffle=True)"
      ],
      "metadata": {
        "id": "_CamLL3LprzQ"
      },
      "execution_count": null,
      "outputs": []
    },
    {
      "cell_type": "code",
      "source": [
        "## define function for hypertuning \n",
        "def grid_cf(grid_params,algo):\n",
        "\n",
        "    param_grid = {\"sim_options\": grid_params}\n",
        "\n",
        "    grid_search = GridSearchCV(algo, param_grid, measures=[\"rmse\", \"mae\"], cv=k_folds)\n",
        "    grid_search.fit(data)\n",
        "    return grid_search"
      ],
      "metadata": {
        "id": "2chXMXOl-FBL"
      },
      "execution_count": null,
      "outputs": []
    },
    {
      "cell_type": "markdown",
      "source": [
        "# User Based Collaborative Filtering"
      ],
      "metadata": {
        "id": "Ow9RJsTvzieA"
      }
    },
    {
      "cell_type": "markdown",
      "source": [
        "In user based collaborative filtering we find the similar user for an movie that has not been rated and find the rating by taking into consideration the rating by other similar users .\n"
      ],
      "metadata": {
        "id": "Y-j0GgPOJQ9F"
      }
    },
    {
      "cell_type": "markdown",
      "source": [
        "### User Based - Weighted Average using cosine similarity \n",
        "We compute the rating by simple weighted average of rating from similar users where the weight is the cosine similarity factor .\n",
        "![Screenshot 2022-01-25 at 6.09.12 PM.png](data:image/png;base64,iVBORw0KGgoAAAANSUhEUgAAAcQAAAC+CAYAAACrkX8MAAAMbGlDQ1BJQ0MgUHJvZmlsZQAASImVVwdYU8kWnltSSWgBBKSE3gSRGkBKCC2A9CLYCEkgocSYEFTsZVHBtYsI2NBVEcW2AmLHriyKvS8WVJR1URcbKm9CArruK9873zf3/jlz5j/lzuTeA4DWB55UmodqA5AvKZAlhAczR6elM0lPAQIwQAauwJTHl0vZcXHRAMrA/e/y7ga0hnLVWcn1z/n/KroCoZwPADIW4kyBnJ8P8XEA8Cq+VFYAAFGpt5pcIFXi2RDryWCAEK9S4mwV3q7EmSp8uN8mKYED8WUAyDQeT5YNgOY9qGcW8rMhj+ZniF0lArEEAK1hEAfwRTwBxMrYh+XnT1Ticojtob0UYhgPYGV+x5n9N/7MQX4eL3sQq/LqF3KIWC7N4039P0vzvyU/TzHgwxYOmkgWkaDMH9bwVu7EKCWmQdwlyYyJVdYa4g9igaruAKBUkSIiWWWPmvDlHFg/YACxq4AXEgWxCcRhkryYaLU+M0scxoUY7hZ0iriAmwSxIcQLhfLQRLXNRtnEBLUvtD5LxmGr9ed4sn6/Sl8PFLnJbDX/G5GQq+bHNItESakQUyG2LhSnxECsCbGLPDcxSm0zskjEiRmwkSkSlPFbQ5wglIQHq/ixwixZWILaviRfPpAvtlEk5sao8b4CUVKEqj7YKT6vP36YC3ZZKGEnD/AI5aOjB3IRCENCVbljz4WS5EQ1zwdpQXCCai1OlebFqe1xS2FeuFJvCbGHvDBRvRZPKYCbU8WPZ0kL4pJUceJFObzIOFU8+DIQDTggBDCBAo5MMBHkAHFrV0MX/KWaCQM8IAPZQAic1ZqBFan9MxJ4TQRF4A+IhEA+uC64f1YICqH+y6BWdXUGWf2zhf0rcsFTiPNBFMiDvxX9qySD3lLAE6gR/8M7Dw4+jDcPDuX8v9cPaL9p2FATrdYoBjwytQYsiaHEEGIEMYzogBvjAbgfHg2vQXC44SzcZyCPb/aEp4Q2wiPCdUI74fYE8VzZD1GOAu2QP0xdi8zva4HbQk5PPBj3h+yQGTfAjYEz7gH9sPFA6NkTajnquJVVYf7A/bcMvnsaajuKKwWlDKEEUex/XKnpqOk5yKKs9ff1UcWaOVhvzuDMj/4531VfAO9RP1piC7H92FnsBHYeO4w1ACZ2DGvEWrAjSjy4u570764Bbwn98eRCHvE//PHUPpWVlLvWuna6flbNFQinFCgPHmeidKpMnC0qYLLh20HI5Er4LsOYbq5ubgAo3zWqv6+38f3vEMSg5Ztu3u8A+B/r6+s79E0XeQyAvd7w+B/8prNnAaCjAcC5g3yFrFClw5UXAvyX0IInzQiYAStgD/NxA17ADwSBUBAJYkESSAPjYZVFcJ/LwGQwHcwBxaAULAOrQQXYADaD7WAX2AcawGFwApwBF8FlcB3chbunA7wE3eAd6EUQhITQEQZihJgjNogT4oawkAAkFIlGEpA0JAPJRiSIApmOzENKkRVIBbIJqUH2IgeRE8h5pA25jTxEOpE3yCcUQ2moHmqK2qLDURbKRqPQJHQcmo1OQovQ+egStBytRnei9egJ9CJ6HW1HX6I9GMA0MAPMAnPGWBgHi8XSsSxMhs3ESrAyrBqrw5rgc76KtWNd2EeciDNwJu4Md3AEnozz8Un4THwxXoFvx+vxU/hV/CHejX8l0AkmBCeCL4FLGE3IJkwmFBPKCFsJBwin4VnqILwjEokGRDuiNzyLacQc4jTiYuI64m7icWIb8TGxh0QiGZGcSP6kWBKPVEAqJq0l7SQdI10hdZA+kDXI5mQ3chg5nSwhzyWXkXeQj5KvkJ+ReynaFBuKLyWWIqBMpSylbKE0US5ROii9VB2qHdWfmkTNoc6hllPrqKep96hvNTQ0LDV8NOI1xBqzNco19mic03io8ZGmS3OkcWhjaQraEto22nHabdpbOp1uSw+ip9ML6EvoNfST9Af0D5oMTRdNrqZAc5ZmpWa95hXNV1oULRstttZ4rSKtMq39Wpe0urQp2rbaHG2e9kztSu2D2je1e3QYOiN0YnXydRbr7NA5r/Ncl6RrqxuqK9Cdr7tZ96TuYwbGsGJwGHzGPMYWxmlGhx5Rz06Pq5ejV6q3S69Vr1tfV99DP0V/in6l/hH9dgPMwNaAa5BnsNRgn8ENg09DTIewhwiHLBpSN+TKkPeGQw2DDIWGJYa7Da8bfjJiGoUa5RotN2owum+MGzsaxxtPNl5vfNq4a6jeUL+h/KElQ/cNvWOCmjiaJJhMM9ls0mLSY2pmGm4qNV1retK0y8zALMgsx2yV2VGzTnOGeYC52HyV+THzF0x9JpuZxyxnnmJ2W5hYRFgoLDZZtFr0WtpZJlvOtdxted+KasWyyrJaZdVs1W1tbj3Kerp1rfUdG4oNy0Zks8bmrM17WzvbVNsFtg22z+0M7bh2RXa1dvfs6faB9pPsq+2vORAdWA65DuscLjuijp6OIsdKx0tOqJOXk9hpnVPbMMIwn2GSYdXDbjrTnNnOhc61zg9dDFyiXea6NLi8Gm49PH348uFnh3919XTNc93ieneE7ojIEXNHNI144+boxnerdLvmTncPc5/l3uj+2sPJQ+ix3uOWJ8NzlOcCz2bPL17eXjKvOq9Ob2vvDO8q75ssPVYcazHrnA/BJ9hnls9hn4++Xr4Fvvt8//Rz9sv12+H3fKTdSOHILSMf+1v68/w3+bcHMAMyAjYGtAdaBPICqwMfBVkFCYK2Bj1jO7Bz2DvZr4Jdg2XBB4Lfc3w5MzjHQ7CQ8JCSkNZQ3dDk0IrQB2GWYdlhtWHd4Z7h08KPRxAioiKWR9zkmnL53Bpud6R35IzIU1G0qMSoiqhH0Y7RsuimUeioyFErR92LsYmRxDTEglhu7MrY+3F2cZPiDsUT4+PiK+OfJoxImJ5wNpGROCFxR+K7pOCkpUl3k+2TFcnNKVopY1NqUt6nhqSuSG0fPXz0jNEX04zTxGmN6aT0lPSt6T1jQsesHtMx1nNs8dgb4+zGTRl3frzx+LzxRyZoTeBN2J9ByEjN2JHxmRfLq+b1ZHIzqzK7+Rz+Gv5LQZBglaBT6C9cIXyW5Z+1Iut5tn/2yuxOUaCoTNQl5ogrxK9zInI25LzPjc3dltuXl5q3O5+cn5F/UKIryZWcmmg2ccrENqmTtFjaPsl30upJ3bIo2VY5Ih8nbyzQgx/1LQp7xU+Kh4UBhZWFHyanTN4/RWeKZErLVMepi6Y+Kwor+mUaPo0/rXm6xfQ50x/OYM/YNBOZmTmzeZbVrPmzOmaHz94+hzond85vc13nrpj717zUeU3zTefPnv/4p/Cfaos1i2XFNxf4LdiwEF8oXti6yH3R2kVfSwQlF0pdS8tKPy/mL77w84ify3/uW5K1pHWp19L1y4jLJMtuLA9cvn2FzoqiFY9XjlpZv4q5qmTVX6snrD5f5lG2YQ11jWJNe3l0eeNa67XL1n6uEFVcrwyu3F1lUrWo6v06wbor64PW120w3VC64dNG8cZbm8I31VfbVpdtJm4u3Px0S8qWs7+wfqnZary1dOuXbZJt7dsTtp+q8a6p2WGyY2ktWquo7dw5duflXSG7Guuc6zbtNthdugfsUex5sTdj7419Ufua97P21/1q82vVAcaBknqkfmp9d4Ooob0xrbHtYOTB5ia/pgOHXA5tO2xxuPKI/pGlR6lH5x/tO1Z0rOe49HjXiewTj5snNN89OfrktVPxp1pPR50+dybszMmz7LPHzvmfO3ze9/zBC6wLDRe9Lta3eLYc+M3ztwOtXq31l7wvNV72udzUNrLt6JXAKyeuhlw9c4177eL1mOttN5Jv3Lo59mb7LcGt57fzbr++U3in9+7se4R7Jfe175c9MHlQ/bvD77vbvdqPPAx52PIo8dHdx/zHL5/In3zumP+U/rTsmfmzmuduzw93hnVefjHmRcdL6cveruI/dP6oemX/6tc/g/5s6R7d3fFa9rrvzeK3Rm+3/eXxV3NPXM+Dd/nvet+XfDD6sP0j6+PZT6mfnvVO/kz6XP7F4UvT16iv9/ry+/qkPBmv/1MAgwPNygLgzTYA6GkAMGDfRh2j6gX7BVH1r/0I/Ces6hf7xQuAOvj9Ht8Fv25uArBnC2y/IL8W7FXj6AAk+QDU3X1wqEWe5e6m4qLBPoXwoK/vLezZSCsB+LKsr6+3uq/vy2YYLOwdj0tUPahSiLBn2Bj6JTM/E/wbUfWn3+X44x0oI/AAP97/BVackL6WDirjAAAAimVYSWZNTQAqAAAACAAEARoABQAAAAEAAAA+ARsABQAAAAEAAABGASgAAwAAAAEAAgAAh2kABAAAAAEAAABOAAAAAAAAAJAAAAABAAAAkAAAAAEAA5KGAAcAAAASAAAAeKACAAQAAAABAAABxKADAAQAAAABAAAAvgAAAABBU0NJSQAAAFNjcmVlbnNob3TTLembAAAACXBIWXMAABYlAAAWJQFJUiTwAAAB1mlUWHRYTUw6Y29tLmFkb2JlLnhtcAAAAAAAPHg6eG1wbWV0YSB4bWxuczp4PSJhZG9iZTpuczptZXRhLyIgeDp4bXB0az0iWE1QIENvcmUgNi4wLjAiPgogICA8cmRmOlJERiB4bWxuczpyZGY9Imh0dHA6Ly93d3cudzMub3JnLzE5OTkvMDIvMjItcmRmLXN5bnRheC1ucyMiPgogICAgICA8cmRmOkRlc2NyaXB0aW9uIHJkZjphYm91dD0iIgogICAgICAgICAgICB4bWxuczpleGlmPSJodHRwOi8vbnMuYWRvYmUuY29tL2V4aWYvMS4wLyI+CiAgICAgICAgIDxleGlmOlBpeGVsWURpbWVuc2lvbj4xOTA8L2V4aWY6UGl4ZWxZRGltZW5zaW9uPgogICAgICAgICA8ZXhpZjpQaXhlbFhEaW1lbnNpb24+NDUyPC9leGlmOlBpeGVsWERpbWVuc2lvbj4KICAgICAgICAgPGV4aWY6VXNlckNvbW1lbnQ+U2NyZWVuc2hvdDwvZXhpZjpVc2VyQ29tbWVudD4KICAgICAgPC9yZGY6RGVzY3JpcHRpb24+CiAgIDwvcmRmOlJERj4KPC94OnhtcG1ldGE+Ctn20xMAAAAcaURPVAAAAAIAAAAAAAAAXwAAACgAAABfAAAAXwAAUN3i6V3JAABAAElEQVR4AexdBYBXxdY/uyAdYiJYKCI+FaynD+MzngKCQYeSYiEiSClhB4qEqKSKqCDdHc/WZz47AAkFDEAJ6drv9ztn5v7vLruwwIK76wzs/947de6cnJk7cyZp+/YdKSL470JSEm5SkmQn4njrQxKy7ExOQpxlT0EezYtn5kxOQgnEaWB1yCs7cYOCTI/Xxbgk5GU2ZMCf3emTPgb4Af+B/+IyE+Qv6J+gfw+C/dm+fbtao8hseSmEMUuCxUuh1Usx5ZQwWzRhKbB5TIubM5o0BuZPxu9O3FuF+su8aigRq4aSNVp6gE+cAReGDu1MBPwH/gvyB4EI+kfVQtC/tC0WDpT9Sdq+DQZR9TBHbIbyyEyRF2EYafg4+NNRoRo73OO9nK3UN+RzMv60BuSlLUxCBHgZwepmdCK4OK2IOQL8gH9lFuMtMkrgvyB/Qf8E/XsQ7U/SDowQtRdKNaTWi6bJG6fIWqVKo9lT1eWSvZGzchwVcnQIO6vzPIilYWQmTrMyhXA4UsSFRjLAVywAEYbQgP/AfyZhxg8mJAneoODwSX/IOi4E+SPfBP0T9O++25+k7TtgEH0vTCWPQztKGH5owKCkU5IhfikGRFO8/sY1melagOJIZgRTunS74FcVPergkJL/WZ2WYRzuA3zrBSpOAv4VDcoYgf+C/AX9E/TvwbM/SbqohgZLjR57WKaEIsvlbCMXwdCMIafqKzVoatloCDlDyhRLiyyin0O1oprOH8vJfowzjAF+wH/gPwhDkL+gf4L+ZSfwr7I/SdswZUp7FX0QdEaOUQnThRzuHTm9aaPCRA6KsTbAXZiiNtAZQp05hcJLVoFnomVkw3fSAGsBwkB8gK+KkSgJ+CefMJA33CXwX5A/6AnPGcYWnjmMRxzHRP3yoH+4Qjfo38zYH4wQt4GbnEnjndM9jGMsDSDtFCdMVS/h4gMNmRs4MiliUp/OK+NtItVi1d4xljdaiBUG+IoFogQ44T1xEvAf+C/IX9A/Qf8eRPvDbReRXfJTnKqQ7cfSEpqamRlnv6a6o5xm7VIlMYeNATGpCm3PLGlDgA8jSLwE/PveQMQigf/IG2AO11MK8mfqJZWSUW6hYgKeKEfKNMZC9siIoH+C/t2z/XFTpo6DHE+RlUwIece0OI/ZyMWP+lxJzRP9kAsR1BCCSfW7AH4jXlXGRUlEmIC7WnDxBjPAB3KIloB/IkGxYGwV+I8zB0H+jCec5lAeiX6MUYL+odQE/QtpMZ1BtlB+2Z392b4DU6Y6RkRuX0I5C5WgIBaAaiXGbKwak6faY02b33LwVzfdo05Wx0GPF173OmYFdTTEyvEX4BNtAf9kGO0EEBmB/4L8Bf0T9G9MJahpO7D2ByPEHWa6drVeqpvMulJXM4MF01v41SlQ/dJlCa67pmVo6Bj0YiUswkea5vPWW/Oltp4BvqKPvZvsjf/5C+ZLy5YtI/Iqtb1h2xP9wX26X5X50qE/F10lNvwYCGadOmWyFCxUCP2pwH+RbAb5U30T9I+TKYrLnuQP8qVDlwzk7++m/7GoxjzVeHtn6sVJluof3NO47eSVCMYPVixpFB5VXesojxjVDC42pqgQY8HidE++DhtdGV8MmQJ8qrcYQnifA/DfsUMH+eyzz0FBzweO5GkuTN1r+rNO8p1HCwzn1MlTJH/Bgohy+NGPsD4DYwP/RYYyokGQP+Jkr/kvB8ifLUII/O/1zz7LP123JcHApWDjvVamOE0g1gB4MJFk4YZ5/GSoN2z2Gl5/ccM9/XFSDHdGC2pQDspLP/BqFcgT4Od4/G/cuEnqN2ggmzduVCah/YrTPylvXrXr2uVxi0S4ToRz8mnpv0P9zcd5a1f+mzJlqhQsmN/xYeA/lUcna0H+wC9p+C/oH+hhign1dtC/GdofHSE6dUJsqeahorLeJTWWmT7DpSFTI6N4mDtgmsi2EzBoXN0oQI0m01welNF6orJWE+MMkmUI8HMm/r/44itp174tXh7CFxGUNE2SK6/6t3S+995M0//P9X/K0qXL5PPPP5dhr74qW7ZujTGiyJQpU6QQRojgrlzJf5u3bJb27TvI999/LyUOPVR69e4tx59wAnDpJcijI/u1f9as2fLJJx9L167dVKBzivxPnDBRPv30U+nc+V4pVLhQpJXIyop1VUzZH/9B/+67/bEpUxBcAwjOBTP4hbRhxEjaw9KZU2/bQm8LapBGI4jkSD7xoEaRRRiPv0QGxkTVUT9qUpRPU/ET4Od4/Pfr318mjB+fLv273XefXPZ/l+41/Tdu3Cxdu9wrX3/1teKHfDJlqjOIXj+Rp3CvLOt4LSfz32uvjZAhQ17SRlH+zjnnLOnZ4ynX/uwpfxzt9+zVS2bNnClnnX22PNXzKacgcob8jx4zWgYNGixFYAwHDBgopUqVjvBPt5Q610WFR90Y9F9CvKi/c4n8pTKINIRm5pxGYSNdHFlaNwkzB3kCETsxq8Ury6i7HfAJHtIElnTTX7g1peVumDOW38PSChjPbMig9TMrDSafAvxsi39OkzZp0kR++eUXJaMS0dE/T948MvzVYXLEkUcZIzBHJum/CVOxNWvVEnhWIlvIVBjE/PnxDREPuZH/noLxmzV7lkNQkpz/z/Pl8Se6Z1v+X79unbRt11Z+XPKjlC9fXp555hlJTqZCILV2lf+ly36SSZMmyYWVLoSxPwd5ErKuDwdY/jdu2iBjx46V4sWKS/Xq1SUvp/SB3ZkY3T711FOS75B88nTfp+XUcqcYf+Glgv7J/fp3l0U1yofkYdzoSA5XPZdPE8wYkWFpmIyFMTzlsyvDtLSBPSs78NZMG0vyD58OrVysrNYa4CuCcir+f/31V2natKns2LFDWYHkNJWYIqWOKSUvv/IKmWqv6T9ixGvy4osvqoqdzFWmBQsZH5GfYjykQGM/OZH/FsxfIC3vuAMNg8xgRNK9++Ny3j/P084gm5ad5O+H+fOlXYf2wu/Ip55STp597lnJkydPRIG0+F+2fLk0AX94+e/7TF85/R+na/6DJf+169SRdavXKN/QIN59990R/Llz58iTTzypPNr98cfl/PPPJxnwHPQfByMM2Yn/stL+uBFiqnGYKhzXbtf0ZDVpNICaiBWn1jPHNAJHbam0kVN/msFpKb24e6DSyhCCNgXXAF9HvopcdhrIcD4wJefhfwamzXr17B1riW9VilxT/Rppeze+Ne4l/Vf/sUbq1q+r1nXq1KlSAItqcjP/bdiwQb755mupUPFsKZD/EOALOCQas5H8/fbbb5gRaIbOz3YpXbo0OixDMNqCXO9G/ocOHSrDhg2L6F+5chXp2KkjmmY84jkFGRCynv9/+/U3ubHRjajb9E8xjBLHjR+XCv4L6HiNGDFCm/HS0Ffk2NLHIH/2w39u5n9S/0DQf3f2BwbRfJk6XgR8Eh3qmH9q6JQN3KvpJfqh0ibzWgDjQgj8qRiq0V2imjvWhfXOKW6alQ01mK4W5uVtgG+4zwX479yls3z88ccgM3gjDf0fe+wRueBf/wK9947+1153nXD6lItqCui2C8d+hBH476DKHxc6NW7USP744w8V3iEvDZXjjzveBNmRldRJS/+PPvxQunbrrCkU+nvuuVeuqnzVQZP/nTt3SLVqVWHEOW+Rginbc6XHUz1Swd+ZskNq16ojf/75p5QsWVIXdql1ZINciDURMYH/coP8xb4hxslLFrYt0eyOp2qoN1xggYTOtkiflLommy5lX4zsl4xCHAPZQh3m9CF1qQA/5+N/y5YtUq9uPVm/cYP2xZX+VBygf568h8hITIGWKFHCMUDm6P84pg4/+O8HMmbMGCmQL7/2n1zPCrU6nYYr7xn8dF3gv6yXv15P9ZQZs2YqlivDoN3TqRNoazTYE/5ff/1N+ejDD+Siiy6SSy65ZJdSB1r+Fy5cLBMnjMfCmVJy/fXXS6FCBbUd+NEr4b/5xlvCjhv59YaGN0iLFjd5VrNcaKyNGYzzAv/lfPlTg6jGCdQ0JnTTodBeOusB0pMhks2c6S8NoX0AIF+QK3DxmVUSYqzhRgYcCfhYloqHAN/hHNilAldU5hL8f/P1t9KG06M6EoxTXeS4446Tl156yTpHgf9ylPz9tvJXaXRjI9Bupy5AGYeVxQULwKjkMvlv0rSJLFv+M/RfirzwwhA5/sQTdSAQ9J/T+7lN/6unGuopMLKO+FRnQSlDgXFkaNaOkWr1NJX3aiSJE3a9fcBzfGzpZ8OsLDISgCp6K++L6TXAz7X4HzRoIEZ0Y43c5BE3S8CI2rVrm9u3XEz/lStWyOw5c2TR4kWy+vfVUrhwQTmzQkW54orLZd68eXLeef+U/AXwPZTy5ITBy9+vv/4i42Fs8uU7RG6++RbDYTryt3DhQhk/brwcWryY3HzrbToiX7DgB5k2fZr8+OMS2b59J0ZDx0jdOnWlbNmTVH5dZcLvgJMmT5LFixZjYcxGrBI9TS6/9FIp/49/IIu9kV2pDxhSpHOXrvLxhx+hYyw6wnvggQc0S26T/2nTpkrvPn1Ur1108SXy0IMPavuD/nOL4nKZ/scI0fkypZBhNRv3GbKNHNhRFHioovbueYGBVEFlCu+Zj/NgkGQ+8ZaB8fyxvEjBvcumdWq6ZWCluCOkAD+34p+0bdKsmfy8bHm69O/R40k595yzcyX/9cd+tglYsEHnO8kQhMOPOEJW45ubfr9SC5gkLzw/WMqUOTFq//q162QytpVMnzlDVvzym47CTi5bVgYNHpxK/r764kvhJvgPPvyvrF2zVmWsTJky8kzfvvLII4/IJx9/BHxTvpz8qZSJ3N22rVxzzbXCrQfdH39C/vvf91UG6c2FBPLy3659e6letRriKO+4UOZxvx0LaKpVqy47sYqYSR07dZCqVaruVv6/x0rUhTDQixYvlp9+/BHbcn6V3/9YJXe2ai3Vq12tb3ag+X8zVsF+B0cH3337LRwezJPFSxYBb+vQkRirHY704P++YpU0aFAf7ec0fx6ZPnWaXv9q/bcaK2TnoS0LFy4CThfK0p+Wyq/oeFWoUEEeBe1Jr6FDhsjUadNl3do18u+rKkdT2uQHzeD4L+hfMDEYn/RPwuowbh0D/sjxxviKL/7os6GPRfQuuoly2Q0NG6ugREV1sQSfecF9kppFPuBPM+se1wCf2CA+gBeizIdchP+VUCyNGt8QLWTw9Kf2zYdvgSOxoq9Y0WK5qv260rZXT6Vm82Y3wbVdXazAPES2bt0iDz30sHz4wYdqfZ555ln5x2kYjYHejz3+mLzxxhvGATH6n3TyyTJ40KBIdD777DPp2LGj5xTEm/wddngJ4DhF1qxeDVwmAV4eVJsiOzBC9PJHOe3Xr7907NBRNsAoEkwhbGHZim++O7DgJApIGD9hghQrVsxLrMJ/57133UjJck5AnqJFiu1W/uvXawADvF42bdqMQgn579Gzh5x99jkHnP8/+9/nMNztAZsCloBfCKP1SfCLuzv547aMzcANS7Zv116uVgOOh3g4yPrvySeflLffflv4nV6Dg1+t+tXSps3d6Gi0kvkLFiCJbeUlSUaPGSmHHXY4H/CH1uBCHwNB/xIbxAe6jxwhKmYoFZAUzy6KMGBMUWd5leFtWsdyMTdzaB4inXdqFX2KRmpVWr3LmIDBCO2P6ssE+Lkb/3NnY38XRoOJkOCck086yUZASGRsbuC/uvXq6QpMugGbNGkyJ1K0WeT/nRCIunXryBqM7J544gk579xzVXZmzpihabNnz5avv4ZnHhZBgZPKwCA+P0jr4KiPWNqEEc8nn34iDz70IGISUkUg1atVk4Y33KArJCmhd97ZWuZ99z2TYiEFU9Z1pWHDBphqLQ5juFM6Y8Xn/z7/zOAiZ2M4WWiK72hOPSj8e7t0kY8/+khhFi1WFFsWxrtq8bZ7kP/mNzWHS76l+g7MOnPmbOxZhA44wPpny5at8gu+Ba78fZW6EDQkuBWmPXrsFn7btm3gJekbNR5lTjhRnn/hRRS3sfdfrf+GvjxUXnn1FaUF36kH2jJnzlyZiyl6kyO8KvBM9NIpRsljSiqtLI2/Qf8SbxH/xb8hGgYd9hRPlB5mjvhc7xGJwDT2OiGK6H1Ygt+Az3QEHx2/d8VSsCs3GR8gzZzG8yIDqRfgAw8OgbkI/926ddNVounR/8YbbpTmzW/KFfTfCeNSuUplFQtuUp+B6c9kdsdj/P/G3DeEq2YfeughuejiizSvZgD/b9+5XachKTqUv7JlT5aBg90IUSNdRZC/WjVqybo/16Fqkz9OmVWqVCmV/NFZQiNskdCA+oj/5k2aY9Tu4hyr0UDXwXddrydPxsh00EAYYqR7dqxZsya2I6xHVTvluOOPx9TcUNyjUgefVWlwdcbvq8FQb4VxIvwTjj1Bhrw0JE1eAkJdB0j+dWSNkbHnv5Z3tJRa8ICkdGETeJMGfu9evWXGjOna/jxJeZwHITbur9d/Dz38sLzz9juKQ/JXx3s6wanAE/qcaJPoKJ/fojUOr+3bH/SvEj2if7TtgsLEqRUyPUnNoN8AKcTK7BqVKMhYkwHmVMPGX62HFTANfypImo8PLOMMKLrLCotpCAH+3wP/mzdvlfp168uGjesd/Y0B9NRDMFQfuMs684wzjCeUH3Mm/23ZvAWjtOoR/1/x78ulS9cuqfh/G7/FVa2qTrAvv+zyXeSvauXKMIzET4qoYeKUqZMtvTAJNw2xJWDFyhW4TZHChQrLJHjxSU/+rr0O3w3hF5Yd2PwF8slULLjRUWsa+asLLy5r1qxR+T8cbvZGjhyh9NAfwKuCjfT++2H508rLc8/1AzjK/u7lf+mypdIMU8fagQbgGrVqyp13tHLVHhz+f/bZfjJpwiTgzfTPiOHD5aijjsa7ZwzfFoWNMRyg/ZMx2i+Mszj3Rf9xOnv50uVS+thSkozp7PTwT9oyZEb/1nGzDMT/4YcdJmvXrtVvnJySvw/O1ekwge/Z8o7bpXad2qn4L+hfZQPDtaO/GURiRv0oaZr+OFmzCFJNsYdH9C5Q1v6YKRYY7aPsXtlM4/yzz6HPHkiA/7fCP09waH3nnQmFEqP/FVdcIV0wJedZQ9krh/KfnzJlG8jvFc86W7p16yKHHlpCn6movvv+Oyl/6mmCgYcXDWbX9letUgUKDQtX0P6yJ3FRDQxiOvLXsGFDWblypdbJQ5MnT8b0rNaRWv4awHCuhOFkKJA/P/zBTnNyjNwx+afbPbpXYx0F4fxgylQaWDzh//atGLleXVXr4A/9kHKajoH5dyf/w9VhOacbLW/Pnr2Ak4pWdww+0w8U/Tn9uzxqG3ClnQe8+W7gD3ttmI6CFQXAf/8B/aXcqeUSjeULI+yp/YsWL5FWrVriG/I2yYtZg1at7hR2UhS3u4GvVtPhP07/dVh8paNbAx/Bf/ZZfpM+TZb//LN8hKntM888U8pipM/uin9pvfNIjsmfqypT+F/9x2o4Qx8kZcqUkfr168dq97hIzX9ZDT9itjTt56O1dO/hx0aICSa03h77e4lgOsmD8WhFOpCZhMUy1lg+4w/DwvjkaYR3JuGPQekbA2A1+4a4nqZl1d8AnzjLPfh/EVNlI4a/prT1/FG4cGFdXFMQm6SNlRMMkBPp//Irr8or8Nvq28crFWGzZs2kPr7b0SGfD+nxf2VnEJmn7EmcMh2Mu7ha4SM2jd9QHyPEVcymi2Mmw4tPevJH/6E/wxgw5MM2D66Y9CEOv8XNLdRJt74vnF7PhBs+j/+ff14uTfFdkTqC0vp/l1wqDzzQzb0VojQ6ffm/q00b+fabbwwkvFbNnjnLOQD3cu+vB0b+6Ri+2tVXoyNmo8Pzsd2le/fu+j7x9qfVfxMnTpR+zz4XyR+PMfv3lVdaO/ZC/3XAIqjPsRiKgfovbzKmX2fN0ufdwWcGj/84/Vn2qR49U+nfyy67DJ2u+9Klv1FMwSl81unDvsDnwp45s+cq/KEvv6Ku+3ZH/6yGr+++F/jPFHy6buM0pp4iDQh+aTWBEUn81U4psMcercU5vkeqsq5iM4ZdLce8NKq+S4tnrYOxVt6ysd4A/++G//Xw00kPIeQE0j8PEDBg4EA5CdsLOFXEkBv47557O+FswE+1PVFPH0+HH36YrjQtX/7UDPnfRog7IUEYIfIbIr/lWU2IMfxQ/m7QEaKN/Aq5ESKzpZW/ps0wOlr2s9aQP38+mYYl+R7/cf67pUULWbJkicLiqtjpNIhO/hdg+8QdcDru4V+OEX3Xrl1RzZ7lnysgt27ZpvBPOOF49XuaHvwDRf+PP/kIC2q6KHzCveuuNnIdRmh70j8zYHh6YjWs13833XSTLlgyPQYs682e23/d9Ziy3rApgk8KzYKnn+TkvPukfx+4/355731umXFvgheh8WbHkiEt/bNa/06fNk33aPLb5ahRI9wKVte8gwB/b/GfmfZj2wUmtUFp/iMK7eLuCdHFc8eEjVDMm4pmdTzgX8zntatV56vVLgkeWES/CuEGelD3ZgX4fz/8c7rou3nfqyIgU7TBSj7ujTN+IZeAOXIB/23ftl23Urzz9rsqS65l2k7yPxew3NGypZMMRGgGy1WlKqdMtysuTsYqU+5D5JypKkBmZTYEGsQVK1YqvgrhG+JkbLLXQPx5gADG6UI/FZofW134DZF7I9PK38230CD+qPVx28ZMjOS8/P/551qpVdMWoRD+v+CP9rFHHwWYVMB2gb9k8Y9wLNAiep3atWrL7VjQkh587TgcAPr36dMb+/Lw3ZRvh3cfhfMPjzgc2xD2oP+mTJkqffv0BT5Ycqe0u7udVL+meoR/a/nu209l9xBWA7/9zjsR/JNPKeu20uyb/NeowcVNfxrm0R5uB+Gh0kZ0XFK9kj2QHbJS/3Il9LHHHqufAQyuB3pw4AOKa6aH669RgsuQufYntl2wZgTr7cQnXFw8MLkT3UidSMU9e1WaF5xFYUjmtCklnEGxjnvd4GLpLsXS0dvkh3Vm882xhAD/74D/IS/hJIHhIxz9Y55OyA3Kt7mP/+jQ+lEYjk2bMEJIxf8CjzX23VSlIdZ+/w2R8ZwyHfA8NuYTa2nkrwEM4u+rVqj86QgRiz60p5FG/vhtkN/PCL9AvgJqHPCA2k0SPfwWLW7BpvXFmsJzAv2UqZf/q668yp2FmqLfp3r3eXqP8v8aFq/QTZ8GwO/Tqw+89VTA467waTxiH2F8kf3WP40bN7ZzOgG/SKEiMhHnMWYG/mvYI/sStlr49j/R/Qk599x/7rX+2wpn6DxBY87c2VLxzIrS4uabY/sCtZmZ5v/Vq9di2w5WAyOQevQRPWrUGNR3mI8I+jcN/yuy+ANcZWh//LaLyGyRPxlQmR6TQQ2FHlRqtiXOsW1C0wz/Vsj/Mj+3VMSmS5lEQebcDKJ1+MoIrdnq8z1frSXAz5X4//Tz/0mnDp0c2VPkSKxi5FFAydiLltvoP2/+93IKzgekHFF+uN3gBXw7HT92HDifvJ/g/wEDB8gpZU/x4qDyVxUrULdzozyyRatMVThMXrz80SByUQ2DTZlOSlf+mjbBYplfYBAhf3QVR7dkHmBc/m+Gol6yaLG+d55DYBBnYMoUOfm2DNx2wW0ehH8SDDUXVqQOu8o/veN8/RX2VWJ4QmU0Z85sB5o1W3sOJP134Pshvemoq0m0/1+V/oUOyiOAvGf4Lzz/PFbajtT35A8N+7HHHfuX6j+65HsaLuU4Smegh5revXvbAyiVkf794usv5Y3/vCELFy2UZcuW6pmiw9FZ8fTfum2rOnxIwUkg5IMKZ50F4rC+BP3fxzTtR/CCtPCHH+QneMghbHpGSoSM4Wd3/Z+EKR1tLZnRhNQarmyCH7qxIeNz8KejQkW2y6NxhgbSRYfifGRhGj1EGMGsbkYngotjQSQE+Lkf/2tW/yE3wiE0e8oMyXnyyDAsPDnq6KNyHf25GvNqHDHUHaMJ+io1haPN1lEaN8rr3kHH/zRWjZs01gwuSjhlyilXNTxYJThwkI0QKUeaBzeUL64yXeFWmapB5MrJdOSvma6w9N8QMWXK6UMHLC5/HLn8iG+IlMs8WPgxG9/Q4vJ/C3yq6ggS6SVLHiOvvvqqvs/u5L9ade4/pJeaJClTpow8//wLhpN04LsohZ9V+ucDnKzRDdtetFL8tnMeZ9Jrf1r4fTEC5vQyFSWllN/O8mGVro4HmBmBl921P05/LaA1oUYHLI7/tPDT079dsZ/3Q7TJ9KtId+w9PP+88/Q9UHW69Gf0J598Ih988IF+ayScc+EliEdfefhvvfWWPAzjxry9McV85hln7qL/hw8bLu+8+w7cxv2g8JtgkRUdOBzM9iuO8JK+/XzOCvhJ6DnBzrH5qFJrJ2q8clawxkOxNOZliv6wqAtWDpKIV1MGILV5mCne1PK7mlmX+4qvkAN84Aw4ieHYMEysAUOKJLsnBpmXT/rDRxeyM/7pmaVZ0+ZY5bhMPbFw1MRe5YXYQJ4b+W/b9m1yNQzaFZf/G2f/2TYSWhWVLOCCR2LVxDcgrnhkoMFop6e2M4/JXxVs7Defpxgh0pOPGsRd6a/bLvANkTgtWKgAviFOVQ7hLExc/po2gT9Zh/8CBQpghGjf09Li3xs8MhgX1czkEU8x3uzVu5dMn44FOaie/j0TKyX53rvK/4qVv2El7I1opbWsDvY53tbydnVddzZGIPnwLlpZDAY5/Msvv9ARTFl8azM2N9ww797yP7d4zNCRLt4QcMaNG4fvXodqvWnb7/Gv74Qc93a+F35hP9b3L3l0SRk+fNhew7f3dTWznfup/67DgrQN6zeobvALqaz2XfGfVv8uWrRIbrn1VrRH4MHoTqmBEb/HP1eoqktBINwW/GA/kLIcW5DA/wjsTX3heWyhQdpgfNs+CfyZWfjK8/vZ/r2lf2bxnwRHvTjBxY0CteXsWhJV+KEAg3j0asC5BseG2jMiR7DXmMx0LUB0kBgQCpZHul1YD1+HEbjnf5Z1qbwE+Lkf/73g05O+PT39a9Wug1Mubtfn3Eh/juyuxpTnIVi8Mm7sWCh2KP00/N+8eTN1Y0YF0bEDHGRfXQ1ykpC/K/99VSR/pUsdJ3TTxcBqKE5e/urWq68u4miOuKjGb8y3bBQwk79G+Ib262+/qvwl58mrCi89+Wt+E92rLVMAeZOTZeYcGsSE/P+CadcmjZtG8OnAXKeGM5D/qdgG8vTTfaL2P/N0X/jZ/EGew365Rx59GAtzKtkoRHXCTuyfWy634sSOLXDiQP1z1DFHyYB+A6Vocfi6Taf9mdE/N954g/wG59cEURw+c8eNn2BIJHr2oP+uq3kdjM9GolzqwR3fbbfBmMTwnxn4WiAN/S1uz/DT6t/Vq3/HOaP1I/xfDQcQHPFmVv++ii0S3BJEvhg9ZhTOJD1M8b8ZU/rXXFMNTUuRMmVOkucHvxDxX5z+bMbdbe+WL7/+SvJhlmcGFl0RsZmFn531vy2qocCo0aNImRFUzuGbMwAB6l1CUaWPmk8li0YTWfgR3GUFohnDOu2iGVxVzONvLRl5A/xcjf8333oTHvgfJek10FE1vzvlZvpjO5NUwZQpRejyKy6XrjguyQfyP6eNa6FnTh+blJYx40bDn2gJlSsagRVQ3jdAiftA59tTMBXKsiZd+FXNYn5LN2/dolm5z3HWTHyfS0f+uM1lA7a7mPylyOSJk6RwkaK7yF+tGjV09aICQk2zZs/Cnrm8WqeH3wwu9pYu+wllsXoV02WN3HQv3y2t/D/x5BPwrTmXKRqOxTmYS5f+JHWw0rQlPdWkkf8emP6bA1+cHj4LVcRxWb0xMvXw1Qi59hPm7vTPFuCGXoN8uOjii+XBBx/MFP+thpP0unXr4lWoG1Pk5ZdflmNLl8ZdAv97gq/tMKTrK/jbfeX/qeCDp/s+G9G/33PPSTls32FID/9p4bfEtpn58+dJ0cJcWITpdYf/cWPHw+nAQLBVCk74aChcbewrTav/aYS3btsCBwCny7PPPLNb/KeFv7/tZxsPFP6TsFlVzZd2O4kYx2SGCf/qeAXe8oLugY0KEznIKpZoF6boS9uba5U7YXB5lJTWSBjIQcS7ReR4ZOWID/CJZKIQQbGFK3HjLjkM/8tx5NNNUJ70zUmlQs8nI0a+JkWgiPeV/m0wzfPjTz/BYfYkhxaPHMMRfomxSC+TpQ42/3ERRxV6dOGr4e/sc8+Wtm3a6ubl5Zi2pA/KxTjDkPzfAccsXQ0fn+R/Hsm0eNES6YMFE0uWLGZTEIz+V1W+Suo1aAAfoMfiM0SyrFq1SoYOfRkjvRlRHmal4WuAfEcceQQek2QlplOnzpgK587DtTZ9IfDRGTjvsB38epbGqfF58ubVTfsTJo7HcVUTkY8vbqFSpQvl9ttul1KlS6Hjlqzyz++PfEeK7Gmnnaru2xwxtFAc/53v7SwfYQ8g38VCilS68EJ5FDhIT/7v6XSvfAqn5YmQpIcQT1d/onuvf9579z25/8H7I/g8rqoKFthkhv84Ndy7N0a3aGfpY0vLUDha+Kv1X7fOneVDeKBhyKMj/dT0Z3wc/2n5X6fi4Wv3QmyZeQgdVc2LMuqyb+1qtDVJ6O3mtNPKsyoE5CA78AK+WYbju5rfdJOmNGsGf7iN2HFL5GGC1qk/uEfZgy1/+wofI8RteF1n0njn2sU47RMhgkzPCRO2kvc+pAKKyFiSz8IiYHotqnFETmTdtQKWCvAVC/jJTfjHCma5EScurML5fyQ1Az1+nFr+NDSUjUWEMlTm6b+NU5HwNqIuxeCiTPsOviqFkPrnr+I/tp2rREvgO9V6HLq7DSNChjj/8xSMTp06ycUXXWz6Bu3QxScurxWg/KEzqfJnsshDlUuUKIET3F/QLFovfhwqo7jWrVsr/IfcIgnNBxiR/GlOGCcYvNtuv12aYWFPRChfi8q/wa+GY5Duxh48BraPm9rphozhJZy9R0ffaQPxP3L0aEy/DdYktr/6tdfhiKLWMOpITYf+VPbc7K/fmmLwechyEj+IuaDsoz+OlXxC7MrkRx57TN584w2NJfwJGBkXKVo4U/zXDIr/J3S+iP+ncc7k6aebn11Wlln4Wa3/2NlhZ4ihQkWsLoXzcYcGjYv/MD4Of8G8+TYqByLad0BHDDzKlgx/7TV56cUh2ig6o+c5m5RKGkCSKK7/uSrVb6Ghc/bjjzs+0/Dj/G+FULlCwi9u/3L9B8Y2ncL3sjE8bhJBEU2MuDdlZsbZLwv5wAQ8M0oLWbw9MgKTGqiDWdIGzc74AN/wF0OQ4QbIyYH4v+++++T9//4X7IBW4CTp21vdodNksebp7d7Qf85/5qo3/3LlTpX+/fvFqkIt2Yz/uHihjFtssBiHuC7AiHAdTpPIjxWKp59+upQpUwZkVeyYXchh/P/ee+/CbdsDSgOlxwDQg3KsBDXS2GOS/Pf992T5r7/IJTD+Rx99dIxuLjszxtrPDeffz5snazFlyeOxChcpIpNgyPZF/9CRwJ/r1uIzWJKcePwJ8JCDxSCxkBH/zZ1rvEbDXBGLf3phYc6+wDcKZw/9NwT7KbkXkmH8uPFSDN9l18KRez18h9azMEGHU+CndUD//prHcIPImP5pc9dd8u233+mhyrq4yufMZvLH1/L8l1n746ZMHQfj4g2W9c5YJdMc07o79hx8r8OV1JToh2+BoIyACtkj1d6GxuElFXEoiXzGYK4WXAJ8RZ3rHRsW/a+h1XCZ3fFPF1I8BcET9ILzz4fHlseVm/aV/jyvjysU/1y3TqrSK4cuJDCmN6y538B/ioiDIX80VjQcDD2e7CHnnHtORJCsgD948PMyGiPMyy69VLqhg2VaJfP656elNr3n9dStWF1Zr35dUzy70T/btm2TmjiNgwcaJ3zsFtpr+OT/7KT/6HaP3w/pYH7smLHCE1duveVWjPS3YNHRb0q7xjgmjNPu9CmcPz8Wg2mrPVmTdPX0VswQVDjzTNsLqTliPzlZ/rbvwJQprRIDG+JulfFATCzASkQpaTF41hFj2vyswIL3Gcfq2OnzyttqQizhaW+QlbtnFmWBAJ+YQIA6yaH4/+EHTMu0bKXL20nmYpg2HIWNzVzCr0TeR/o/99yzGCVgmhT8Z9M9V8f4hTizEPgPIg0cU5wOtPxxVHEDpsV///13KVq0qDozL1asSJbA/wTfHe/t3EVVwugxYzD9Wxz3GeufL774Qhe9HHpoMbnnns66V/ARnDX5lnOXlg8rfidMGC/54aVnT/rnsce7Y5r1P6rxBsHHLh0jkHd3B9+xn8rtwcK/IscDdtfd8X8dHAG1Bl5uypxcRl3ucUvQ76v+wEHRtTHt/ZKqZi446vlUT+CwI771XhQDkaLft2+55RaVO27c5/Rt2rA7+Psj/wcD/xgh7jDR2VV6FBHWu+GrMIMFs1v45XSPlnZpNGa41TI0dAx64U9k6VykPfvek+ZLLb0BvmJK+9lAj8NnhD08Z0P8b9ywUeg5ZSP22TFwY/eQIS9iMcmx+mw/CX7IDP1X//G73AdHxjw2ioGlh+LbBb9ZBf7zcy9Ayl8kfz8tW4pFN9gmsWULnJYfjkN/h2JUVZCk2mf551RcH3he4aKb7o89KudfcIHV56pUc5+G/6+77jrwnW2P4NaIK3EiRX1MBWJfGUolwZl3a3z3vD6qgRWmx388gZ6nlBTCArBeWFBT7pRTcoz8UTh2p385w7JmDRbOKLOIHHJIfnwPfFHGjB6D7TpwZedGL5dccok8iOlwww/rpNSJ4uVl4Ib45/XYUsdGaVrlHuBrJVpX9tT/WFRjnmpce7WhRILjZFxxT+OGDfYWjStWjGqUprp0jhqjclTiMUFFigWL02/pinhXBlUE+HEMxRBCnOYg/FPp8PuCD/xAfwoUig+keGbpz+9Iv/22Ags4sHCDo0qHlqQ8STJ39hwnuw4/gf+AWYcgXA+2/K3Bt742WEXLFbR0x8fRRgHuvUwVMi//V111pS6cevDBhzANe/Ye9c9GbCeJG7tOHTthochw892KdzDXd4NVee+O/4a8+IK8NmIkOnCldKVlsWLFc5T8mSLNmP48y3HCeLgOhP494sjDpRcW5HD17DQcBcZVw6TQZZfTt25n9LfJT06+nP6/oyWmXDEDVKhAQRhQHjOWy+SPrtuSYOBS1Mkf1JXKlP4YMpyl8uYuwd/M47oTmoeIMTHkI/UXN7zaogFMvWpvjqWZAHh81iqQJ8DPFfgfij1aw+HGi+FA0p8OjEejRxv4L3vJHz3APIUz8vhN8cSTyuAkh8H7LP9fY9N3eaxG5mkbyk/4obpIBFUeeOTVtNO1GCFuxgiRgafR0zkC9U/FCmfKkz176vmDu9M/A+FPduy4sfheebkahGTMbljdHoJW7X52hU+FRoOS3fXf0qVLZQtWMvNIMX4T8/qX3xaPPOpITE0f5trtcWvt51YirvDmJ4vLLrtcD7uO4z+ntH939kdHiKmMHR5oqGyITIQkmmwJzG3B0AUWwAiGgxj1dYobdta1F+aYVae1mAfFfOn4PeMMkmUI8HMe/j//32fSQZ12Q0nDGpKGUdDRneMRF79v9Df+8Ke0Wx2B/7Kb/E2fPgPfpVbCv2VTJdjBkv8FCxZiar0r9l2uwnbJJClevLg6Im90QyPTUcY+ypbp8R9d0G3GIpoaNa4P+k81dZIsWLBA1q1dK+fCTyo9TfVCx4KhP1ahnlquHHLlLvmzKVNtIn6gxWj98Yt7fNBTS0UDx54PZ/MtXdO8gWMeBnCYGkW71aKMU+uoN1F1OnpgUpwp8YiIAD8n4n8Nlm3Tq8o2fEMi90R03R/6ay2oQDtYrGgn1kEYfzSEX8wWN99kcAL/qegQGUH+nI4BRpQt9of/gv6T+dizeEcrnNUJ/T969EhphelS7n8859xznUNwp97JgbmE/1IZRBpCKjQNagzZTotT3qLBYg6kcQSAVfB6VSWow0KU9ArKasEvS7qpHdya0Lob5onl97AYrfHMhptIyQb4ho1shH8SqvlNLWQZNi/byj2lXuxn/+gfMQL5BFXx8iidgl9YKfBfkL+gf1Qm0Ak9APpXXS66I7LO+Mfp8vW338hhWDTF47CKY/9ibtT/uyyqUb1DHYYbN9MFpoNZ0gQzhtR2NFNmrpwedGWYljbY+JJmzUwbS/IPnw4VhtpMRiDwQmPLmwAfuAAesjP+v8KJ2X3pwouCyXdVApKSiZBp+nuae/qjCt7G20++6IOVf8WKwwenclTgPy7OJv5VeHBJGzKNfxRU8nn845rd+Y/vG9p/YOjPPYr3YHHSN998iy01RXCM2XlwP9hGFzvlVv3vRoipxmFx+6QiQsdN3pO5JvJIJwgLt8easopLI+9919XF68XngVFUAxuxMvIH+LFxcMC/ch1+NBAzgf+C/CVmmfRIK6iToH+C/s1q+wODiI35VMGRveI9o/Cn3U5Lom6iCYsHPrOYBSguGDp+QNecsUQ1d4zHh24u99URIGvTrC6jK6YwA3zgBngJ+FfWImswkFPiwXGOiwr8F+Qv6J+gf50hiSmHvbE/sW+IsRpgqbT3pZMR3gefA+QNF9RQQmdbpE9KXRP7tuzj25fEZBTSyVMoe0JJhNSlAnwuYjKspVJ0HskB/4H/IDLWZwryx+6SF43UmiTon6B/M29/1CDadgmylK0k1elQP+sJxUtWS+Y0qPulIbQPgLjSqCkHgh0jToyxphsZ8gOTj2WpeAjwY1PQwFLAP1gp8J/xAQQlyF/QP0H/HiT7o55qaJ1grXTEp5aKUw82BWVWjpGRtdN7FVLaQg5ifMBzfGxpC3GYyLLISACq6GyU6IvpNcAP+Cc/OWYI/BfkjzMjniPsymcG0x+6KC/oH0OJoSXoX/CGn1vbF/uDEaLzZUomw94b7oMjj3Fgp2ZMb3DHZzCoKiqm8J75aLhh6PjEWwZlW/xYXqTg3mXTOjWdudQCsyQhBfgB/4H/gvwF/RP0L20NLQInInlz8OxP0o4d2+lhDUYpAZhGTYO+COIR+HJ6F91odOIHL07Dx76b5ozK8hmBDUtSs8gH/Glm3eMf4BMbxAfwgksUIhxGGIvdRLnsJpfj/5dff5U5s2fLgvkLJD98ZHbDAbKpQi5vv5OYvy39Q/udaogQkYr7wRdB/2aF/dERokqZU77Ux8S5od+ZN6+rcbVpVctFJc4cCRrhTt/Kp2hFWpVW7zImYDBC+0MAamUTaXanRXDrbUOAT/oYbjyWHVqBS8OhCoeji1LA489ltNJMYUTOwP/qP9bI888PVqN4Hs5W7K5nKwb+C/IX9M/fQf4Pmv6Pf0NU/ehHKn7czkj8d3bOdKjXsvZBEEbSq1hb0cWnKAupxZDIovOnKfgAkIwPkMbOsfQAHzgG0gL+gQfHNI7/Bg4eJGNGjZHWd92JA0xrgmkw4wDGDPyXEC6uKAzyR4WD4NESv2cc2Cbon6B/07M/0bYLHW1AEVMHeYGyhQ1uBEGmYnBMphcaO81sPXX+aj0uT2RINR+1GnW9U2AY6ikspmk1KB3gB/yDR5SlyBPKDwn+44GkS35cIiNxPM+RRxyh/YbAfyY97FgG+Qv6J+hfSMF+2B8ziKxBl2xRuCxEto6PbvGLKh//GdADdfk1G36cfdOsjj01zrInCumdBxLgB/zvgf+4eOuqKpWlUP6CMnnKZFnwwwJZtXJVxH08AaNA/vy75b8NGzfB/+IOKVKkiPHnbvhv+c8/S+lSpaz+wP82WqfQBvm3HltClUU8GI+yezVPQf8BQx4f3kLo827kzycpcg+i/MVGiPaq9uLelEW0djYxbbOQDmOWhMUyLKFBW0JGSMT5xvkr89EGsp0+WM0ecQG+iZLHjuHKL0P3uNLUbIL/r+Hv8GWch8hRPqcxbTI8SU8tv6pyZScQRl++9wcffSjjx46zJuDXcY9ei8Bv4v333R8ZN2b65quvpc3dd8u5554jPXDm3vQZM3C4aS85pmQpueaaq+VanIReqFAhx8S78t+ihQulLcrfglEmT1bfE/81bNBQihYrJn379lXfjSaThvnsiP8gf46DVMnsSn9PM5drj/TPafIX6J9F9KfrNk5j2vmFNFRgBSo1BANh2ymSoBFU12mK0zu4V9Ol3Bazbi6PMZXvUlJPsg7GWnnLZnEBvuHkQOB/7tz/yLvvviu33HozRj3HHhD8b9+2Tb766iuZM2eOzMZqUHIDPZAeki+vTJ48BQe95k1F/804KmrRokXyxhuvy7hxE5T/KlSsKLXr1pVjjj5aypQpo+9JLiQHDRo0QMaMGSt3tmollSpVkttbtpTKV10lLe9oRfsL5GXMf7NmzZaeOMetcpWrpCPObEzLfytX/i7P4/tk+dNOk5q1ayv/85ibm1u0kAI4GXzAoIFSosShgf+BYuKOgdg2PEKe94B/XyrIf9B/2V3/Y9vFDrV0+DEW14u7V+63e+6YsBGKebOhNHgd5AUjLiYUmkjzaAbLxdr0qxBu2EtPpjShogDf4Vwv7p4oc3TZV/xv3LBRrrv+OkV2xYoVpCdGVQca/23btpGvcQqGp3+jxo2kWdPm2ha2LA5/86ZNct2110rxQ4urwdPukk4doPGx9t/cvIUswRFTDz54P0aIPWAQb5dq1aoTQQ4MMzu86dUSXnn5FXnl1Vfkisv+LV26dtaUOHzy30MPPihvv/O2Fhg9ajSOuCmh93+s/kOaN2+mfD781eE6YuScob0joBGc5iTk9OEnXsnS07Y/8D/wEuQfbOJ4Vy/unizj4vdV/n21qmwdlLT8H/CfsD+JbRfEPYL19uITni4eNNqJYRw/3Ot/jvQcwagMkjltSgvHQHpyyKcbDAlMVYgm6Q8UHlcGMptXZ3rLJ1aBtMSEq6VQRwb4e4//nSk7pFbtOrL+zz/lsssuk27dugHJ6eN/yZIlOsrbhFPDOfVp9HXkdPgvXeoYufiii5XWGdG/Qf0GsuoPfN/TyYEUyZP3EJkyebLky5cvIqan/xtvvCmPPfao3HDDDXLTTTj0Nx3678TBa1UrV5EdSCNbkXEmTpwshQtjihQP5K/0+G/RDwvl1ttugbEtIWPHjEHdLIyQpv2jR4+SwYMHa/rEiROkSOGiEf999tln0rFjR6l4JjoTT/cJ/E/k83+QfycfGfNf0H9gFMga5dNJXrrypwxlKenKvxPZg6P//baL6LX9m8OY6dEaVCJUjngrNC8KzG+929TxlkFVFHLEpkuZQEFSQ0nDxxpYowEM8B3bHAD8r169Wn5evlzOOP2MXfC/EQtNHnroIfns889k5w7Sy5Ekoj+eY4Q/7rjj5KWXXlLapUf/TRjxXXvtNVKsaHFZ9+daV5nIDQ0bSgscJJyW/o899jimTd+Qfv37yanlTvXsoJ0pz39ffPGFtG/XDgawsJx++uny0UcfSeMmjTHqbGo8xXdOFcBNaEqDhvXl99//kCeeeEL+ibPc2I608AmQxv/Lr76UMmVOkmLFeM4iQtT+JJ2m/f7779UwVqlSRZPJr+m1XxORZl9RA/97gipbZ4B/4izI/4GTf+I34F+ZLF35J348/yVt37adlMB/jthM8/FXEYgfurGh4HPwZ/O/ml1zOlvJ+vRZh+J8YGHoAniCoy3VCAPIex8MHuyi5g/wDz7+v/jyC+nWpats2rwpoj8NwqElDsuQ/mec/g81Tko25QmjJ59J/3feeVcefPhBaY4p0rfefhPfCRcrgfPkzSOTJ02S/FgJasHaW79uPVm7bq3Mxne+jPhv0MCBMnbcOGnXvoP864LzpV69emocJ0+eJMuWLpdvcJI3F+7E+e/F51+UkaNGyNFHl5Rhw4Zr3WTLRMg8/82DMbyzdWspULCQTMUKV9aTUfsZH/gfOAjyH/RfDtT/STu2b4edcyKu1oumyStnFXsT8Fga1YEKvkumDmCwcuwVuzWGtHY8TJiIYQZOs7As6+JIEReFHOATOfhPLBFH+4//3//4XWbOmC7ffzcPe/cWy4oVK+XVV4fJ0UcdqfhfhynUuljAgm/IpIzUqFlDbr3lFkxr5t8v+N2f7C5z58yVgYMGybZtW6R1q7sixVCnTl1pefttEf31+yZWfJ5SrpwMGNA/w/a3uLmF/Ijp3IkTJ0nRIkWlXbu75Ysvv5RLLr5Evvr6K3nkkUfkNCyIMbwZ/7E96/9cJ9Wuri7tO7QjdlF/gv+2bNsq/Z7rJ8uXLZNl2GKxdu0aubttW6lSpeou7Se3cwEPyfM4RrQXwChbfaiTDOxCHD7LcBYk8D+wEuR/F/4L+i976v+k7fBlGo0CVbrZtaOE84XBzNAC9OqAHxBV1YCb59VkbF9U0df8bj2qjiaZldXoeFIVPSMQw/+szqUqGD8K1bgAX9GgiNl3/C9ZvERGjxol/3n9DUGnB6s888jMWbMi/He651759JNP9JnbF87CCk+jyf7hv0HDG4SLUWbNnKXNuLP1XfLdt98qJ+TBStOJkyZKIazcJKzXX/+PPA4XbPx+2ALfDzOCf2WVK+Xww46QESNHoh6RH7E5/7Zbb5Pt2FPYGGWbNb8JsTRHNIZJshjpN7e4GXcij9KAwdUbOS7OfzvAc7NmzcQK13GyePFinQUZim0jpUtj7yEL8ifG/82btZCflv4kFYGn3r17aXVIDvwf5N/xbYL/yBfKbnohH4H30vBf0H8JJGUn+2OLakgwNXocmZgSVoWg85mmG7x7LJLWmoJftWxkBM6QMMXSIouInqFGu7ZrBhfFe0tGYoB/wPBf7epqshWjofKnlpfnnntOSbBi5Upp2LABKS0tYDgaNmiQJfC3YCvFNdWrS9mTT5GBAwcogRcvWoztHrcYHwB6rVq1sFXiDn2Pxx59VN588y3p36+flCt/CvJknv/WY/Xsho3r5agjj96F/4YPew3fOYewDyfDMSoueUzJCD4BG6ca/912e0v5YQEdhueTaVOnZ8j/jzz0CKaA39KFQTOmW77A/8AkOw3AaZD/oP8oW+SFnKz/k7ZhylQb4T8IOiPHdiVUB40WHnlBPhsVagYX7RMtD1NYZ9RTQvJOGFwe5aFso4bWDK9bxI4CrBypAb5DHLGo2DJs8nYv8f8TpgObN2um1TRp1kSaNm6iNf7n9bnSvfsTkjc5WaZOnyF58+TJEvy//977cv8D98PYNtQ9fJ7+nTp2kk8/+xSvnyR5AGvCxPHYRF9Y6mPKdvXadfh+yJFr1tG/d+/eMh1Gi/iaPAmrUfHtLz3+g9saqVz1aiwm2iHcA9kbI+WM+K9Xz14yY+YM5f85M2dKMnGGYGTxxEEEYDLw4ttPlk4PPmdfAv+bQc1K+gf8B/7bV/nDCHEbxNUMFQVX9RI5CnGMpQHUARxFH1B470MqoIiMJfksLOImsixK7R1jFRgLsVSAr1jAT1bif8SIETLkxRcV/y++8IKceOKJivY+fZ+RqVMnK0EK4iilPeMfnRnmBtnKlz9NevTooWVJ20jp4/6pp3piWnamPP3003LGGWdEefiNrmmTJvaMNl57fQ2MTJvDQff1Uq7cKdK//wAzLFnU/s73dpaPP/lY4f1n7twM+e+777+T1nfeiXxJGMXeCgNdL0P8D8aId+y4scqu9MhTunRpoiNV+0nDtIF5bCLXUgL/U08AK0H+VZ6C/qPUZCP9z20XKth8Lz/FabKrv5aW0FTMzDhHTb2zHyYgn7XPrkiwR5bApAq0PbOkDUxVuxjgR3jzODLcAGnOUu4N/tu0wQb5b76R/FgoM3361Aj/Dz/8sLz99tsehCn2GN0SMByVSRwH//gTT1Aj61KiOvjcqPGN8tuvv8nsObPxxDdP0P/++7rJex/8V+nPUeIdmDZ99tlnpVGjRjqKzUr6d+jYQT7/7HOFPwcG0d5l4rlwoAAAEJ1JREFUV/57AZ2EkfguyTflgqOSpVJPrbICj/+Xhg6V4Vytioi+avDPRGqcmZEQ+N8TPEKNsRWxuCv+iV8GwzFugvxHeFPERLhJyF9CNhVrPpvlDPy33/znpkwdcnHxBktXgjJa2dUxraLfRo6+15uWLJrF6QlVRKhQv0vi14QD76yEQ0lEGIFdLbgE+IpBdBAoBLzXH1MampR5/NOTy1as9Dwd+w+f6ft0hP8XhrwgI14bqVOlj2OPnkFwoBzttIeSDvxjjjkG/kNLRqMeZmGRrVu3YkVnNTnueOxTHPJS9KYkKOn/+6qV2BfY0NrFGCw95Mf0/hh5lTulnNWCyrKC/jq9CV+nxB07AvnyF8DdrvzHVbULsaCGTsGnTZumqM4IPr9zjp8wQdv12vDhciTcy7Htvv2a4H8cDgP/G0GD/JvMki2UX8hkVHzuonzCB0OXclFWyH/gv33gv+07MGVK4jB4iukD0AnCQWcpETUKGXTDsVfWqfJbDv7qpnvUyWR2+rzxdOxgzKC9QVaOvwCfaMtS/C9e/KO0gCNrork5fHJyY7zH//8+/Uw63dsJ8FKwPWKALoIh+P2h/4cffihdcYp9jRo1pHXrVqh6V/o//nh3XVmq9MaL5cE3zFmzZ2Y5/ceMGQXfp89rc0Zh2vjwI490PEw+d/wG+FWwd3HHzu1y9lnnYLr3qd22/wk4FJ+rI99kmYlviNxXmRpfikH9CfwPlZIO/T3/efqT/4L8B/2XnfQ/Rog7jHVBlzTWS5WI9e4o+8xggXeq7nQK1Pe9NdL0DVKpFDToxUpYBH8Tz773qFHU3gnrGeArpnz/0eEzwh6ed4P/YcNe0dMniNehQ1+SY489DiV9SMH3uxqyYcMGKQqPMiNHvqbTqvtDf7+QhV5hzj3vn+nSfx024NeuVQevZETm98N+/QcaL7F5WUT/jz7+WLp06ayN7d2rt1SowOlN1+nT2BRZsOAHaQkH4VTcd9xxu1yP0zLywhF5RvzXpWsXodHniRqT4IYu8P/u+S/IPxkaQS/8Sc1//jnoP+o34IcoyiL5V5zuo/2x459cx5n0M/MWiyAhWTk22CtNoUC4RUOjNL9LZ2/PMrjYmKFEjAWL0z35qhNdGVRhjBPgZxX+78RiEbobo2cYnQ5UAiTw/9WXX8vd7dpqJ/3okkdLd4zejj/++H2mf4P69WXVKjgDwErMvPBdamxO+sZDkvR5GitAMT1J12r85tisWfME2yBrVrR/J6Y1rrnmGp3G5YrXFhghW0i0/7XhI+RFTB0T4iCcdHFPp3ukK7z2nHPOWWDFGEPyHsxer0593V952aXwB3t/t8D/VAmKPcOPMlKEN1LfcO0Q7y4J/JP+ikTFL+4dq2QF/UnTAD/gPz6IMwbMBP/RdVsSDFwKN22RK1UXeIXgr8avfEoEPplIRKkcsbAO/kcyvxHRHyXjdupohqWZAHh81iqQJ8DPcvxXubqqbNu6TTeS98FG8vTw//7778oD9z0Q4b98+VPl9DNOh7uzY4yOCWKTpKSclITxrFTpQvdk9B87dgz2HQ7Cloq8MmUK3LNhEU9G9KfvVE6r7sCWh0E4VqnsSSdH8JVxAGTrlm2ycOEPatBL4ZDeCy64QOEvW7pUli1bKv/85/lqdHfHf0/16ikzsKXk1FNPlQHwk5q2/Q/Af+t7772LKrCCFrOf119fS1q1wv5INpIvH7U4RTZu3IjzFq/TpF6ot2LFs1K1P8rreJ1FM2p/4H/gNsh/0H/ZVP/rCNErO0i5yjYNlVlXKganI/TGmFkjo3iYO/SgOWLk9JN9P8EgUutgeaa5PPpkpS3F7gN8w7FiA8jYX/zPmzfflDsq5LRgHU5TkkZ4Jq4Z/P0s7AHs3aePerPRhN3CFzkOU6907r0W+wfphm3tuj9l89bNEf3z5E2Sw0ocLo8+8rCUdYtl0tKfJ0uMh4cY9ZwDoGnpP3fuHHnm2WdgiDbp6I7fP5nHXLj9KBOwuKVo0aKuDenz388/L5emcP7NDtmokXakk28z29kPTgomTJzIW6mO0STdtmlIp/2TkO9Z5K+A47M4BeuD1Zc+/MD/KvlAVZD/tPxP/onzYlr+31/552Rd4L994z+bMo0kHMINbOIXFMOIUSnF0SNHebaF2FY/Ic0rWOZhAIXVKNqtFmXchvXr8T2nq2zejCOFkNaxfQcpi29HZIg4U+AREVkPn71RgxQ1R3vvuRl+tCISjZwwfjyMRzFFryPnLu3H1huZBMfb3KKxFKOwbVu3AGXp05+uy+5u1x7pzsDugf77iv+72rSVb7/5Vl5+ZaiUwqHGG9avk5o1akrx4sWxH3B8puDzBA22/1//qiSPwitOvP0pGKF+hG+CJ5Y5SUe9iqB0+G8LjH3NmrXh83WbjB45SuErbg5w+zPC/97K377iP8BPn/8D/iFF1A25lP9TGUQaQlNzUA+qPdBuF6fGiwqDOYgTRECnuNEMDKZ2S1w51S7205q+LL/7Bg8ogP9F4KFk1Ogxkr9APstAOC54WPqYRfAVqJ/a5SugXm0jbxhyAXwsjJLXsd/uoksuwll+RdQ92rp167CJnu7a+qGRbmo7B7W/KpxscyXn9GnYPwnGeRn7AF8dNkz+79JL5f777ssU/1F58Rvl8uVLsefxOTntH3AAvpf0f/LJJ2QOnJV3aN9eqlarhnfZO/7/O/Af6ZOR/If2Q+hyoPypXqS+MI6n6kZHeu/1f06j/y6LamgfaOyIEH4HMeMHRGiCKQOkKpoMXbY4iHkViUx0YTj2a3F6jUmmklV05Kyzz5YeWOaOT4cKw7BthbISvn8PG98StsEnDP7lFvitsMl9/oL5cikWfFx04YXqMJttJ+55fmFOa/+iRQvVeTf5pCf4hCdy1KxZC1OoG7DwpYtcccUVmeI/4mDlyhVyy823yqYtm/Vb4sn4ZplZ+r8wBEdIvTYCU6/NpHHjxioMiX6UcqrxEeCkx/+Ez5DT8J9V8m+tD+0P9PcHvmd//etGiKn6AXH7BJ5mnzgZcYlRBlecUmjUEyN7Dam0gZm/7+fNw8GqrbU8BaNChYo4jf1L5MXUK8rcfvvtUrt2XZee9fDtBZ2V1ou7x1sTvk596Dpfr9iMWGyVz8n33tf2H0z49eo1wEG4q9Sd2K/wFMPpPTrQ5hYHvr81yLcq+7f/FbhGe+XVV9WbTa1aNXVrxoTxY9GUJJkMl3OFChQ29IInjZa+baQX7/3UhcVv3LRR2t3dXpYsWSzPPz9YV9Puif6D+J0T062P4Fvoef+8YK/5/2DSPz35C/BBe6+XlA2MFygPuU3+A/09bdOX/73RfzCI5svUCqFCMpEOC6FIlaFMxRAUTUc8mCnxMTCcMDT8gLwJCqh+vfpCRUTm69ihvVSuXFW+nz8Pixfa4Zy8rYhPkQE4+LXsySejAsLEhRVmAXytKPZyam5ZL740c7k3XsmAKUyXMQfDf++99+Bf9Ekc9LsF+CyL45QaysUXXRwRLqe1v/Vdd8p333+r3nSWwUH5Y489JmvWrJHDDz9cnu7bV4484gisMs2r7KKkJDnx5PkvI/oPwKrWihXOkgsvrLRH+j+Bcx2b4ZDjkvDK42GQU+IhxmKI3jP83Mp/hpPQ/j3xX6B/9te/sW+IcfGmCuUiGnw8xTUVob3hQArtptlMi/RJ7fC95csvvlClRUfQZ1ao4GoS+QMuvO5odaes+v0PKVa0iPqStFPUsw5+6ppsuG4toU2E4KJltlCIOX1IXWp/2p+6pgAfHBTRPzP4r1evnvCA40su/j/5DKdk8LxDHuZ72GElpGChgpj6HKAb5DPiv4D/qC8ETg/8t7f8R+wF+d93/Z+T5U8NohoHWDNjAjcd6medYC9oQJI5DeV+qYjsAxyNCR4UA1qBzMGS+Sef7CHFihXFKQb9pCT2tLFnBAuEWiwrz83r0KEDFtt8J1WrVpX27TvqqC0r4CuQCBLfDVDTwOdbx0NWtj/AJ2Y9pfcN//fff5/wKCmuKO0Ozzfr4VHnHjjspk/SZ7A45uQyJ2XIfwH/+49/zqD4mRSK9t7If8B/wP/+yv9fyn887YIkJCNrj9s9cNUYR4ZmwhjJbHxmsFGWLkrh0MsH6j+cYr4dm50PyYPdzlopE1kWGQlADa2V53L/ZPiz5F9WwY/37WwhUMbwmRKFLGp/gJ/oW+8P/n/95Wcc7IvT65V3RLivsGTJY4xXdsN/Af9Zg/99lf+A/4B/P7bcH/n/q/gPI0Tny5RKBvtLuNiANo4DKzVjeoM7PsNA6osyhffMx4EjDJ1NzeCej+7H8tqI02XTOjWdudQCsyQhBfgB/4H/gvwF/RP0L20NLQIngnhz8OxP0o4d2+lhTQ2aB0x7pkFfxMwXX07vohuXx1/w4jrU9SYvKssCCGxYkppFPuCPDcUvqB/gExvEBxFCZLkQ4TDCWOzGZ/J5A/4D/5E9vGyRl8hMfOYF90H+gAiPE1yJoqB/gv4lHzj9qyNE5QynfD27eMahOKmiYSHKFK7+ayAroQBqHgod7zSzT9FIxCGFSS5jAgYjtD/kMuhraX1ayNftywf4Af9gmcB/JkFeypxYBfkL+ifo3/21P/FviGaJnPXx43ZG4r+Do/dm5iiU+kEQStoElEaMK7p+Xr5c5mEf4uIli2XRwkVwyLwMJyGskltwIGuNmjVk4/qN8lTvp+TTjz6V7Tu2C09mqFa9mqt7/+HzbTT41+KDv+cVr52CD6DJcGhu5jyW7q33frQ/wCfCETzO4/cB/4H/gvwF/ZNN9W+07UJ7mxjG6cyKajPoM312IzgX55Wc6rqoa2ojRf6ynkZNGutRQNu2cL8hjI/mS5HHuz8uJ5xQRm6F55ANG9cbLCQWhruxyZMmI1/WwI/sszfkDj7fXVeUaiMdLKYhZGX7A3wglHgN+E/F/4H/gvwF/QNNm431rxlEvqAuGaVpsKA2xD+4xS8UaI6u9Mp7Z0yibLEoJtNbyvz58zU5GZZxytRpctNNzeS331ZoFWYoRQoWKCRTpk1OVV9WwDfzbGNAe93ES+udB5JB+2vVrAknA5tguFET8igdfft9o2PXRO2xSHebgL9TGjRoKM2bNXMdBWTIAD7LaNhH/O9v+wP8gP/Af8BAkD/TUVQIXv+ZQnMCYpd4lN3rMEPNhH/2Sl6f96B/mUfDQcR/bIRor2ov7lWpfyPPE2mbhXQo8yR8rGcJDdpIImKn1K5TVz2MMOrEE06Qk+CV5o3XX7dsyM52MlSC/81HH344hrisge/fKcI7YLm3NOPm4PMdrGX+avArV6mifjQ1HXn9NhTL62pNt/2sh4bYoKWFX6lSJXn40Uei9mcEP/Z6TiYNsn9Xltsd/jOC74oF+DEEe5za1egfSw74BzJS879yX+C/dOXf9F+QP0oTWAR/cfnSOER4/c/neLppTmrQRDCbaLl8Xk3NavzTdRuH8XZ+ljE9p0oZCJi/2inAGzHa4uKNpEFENldGi+Bn3Z/rpDaOzeGuHJY6AQbxx5+WSGkc5dO0SROdPmU8yz73XH8pf2o5RYDf2sF69ge+lSdSfZcG9WkbyKz2/szDu4zaXx2nG2zFIbtq7lEo/fZrK7Qerc79EIP0ABuH77QqDtitBB+Zj0Q5M4L/V7c/wCeJ9o3/rWRq+u8t/wX8B/wH/ju48vf/AAAA//9hzqWTAABAAElEQVTtXQeAFUXSrl1yVIIJDIiKOZ6ieHqnpwISJIOgEiQjSlCRIIpkUJCckSxBFEUymDN3pydmUVABxQQIEhd2/++r6n5vdlnCwi4CfzfsvJlONV39VdV0TtizZ0+KpOA//okkiP24ezw6D0lIxl0CPZIRC7+Mymhw9E1xV/+0ePFiefKpJ31yJpY8eXLL9BkzpEC+fPLJJ5/Kqu9Wy403/F0KFyqc6fQjL+Zeyd6Sr5zI98UNXkkSWaZ9lH9P8h4EoeAoW0bLvz/62UAzMTHbAekrS129ZCb9gy1/oM9aNFkI/Ke8UIYOTv73h/+AP1U5Qf4PoH//Cv2TsHs3DKIKvUJYFPOwFMnwI/y9S0Cs5ESaQouegjgaF8+MmQiNQT91iNKt+xPy9ptvwZZYOEO6dOkiN998s/olIC6iwTHE7vRJHw+N/oIFi2T58uXSvFlzObXYaXhh5Buhz/zVwS8r6EfLD4YE+oH/AX9B/lQ/Uq3FXNA/R6/+3b17t1qjmNnyNQdllgCLp1+FaEGpnYrVKE1YimtdRc2Zj5AiNarXlD82b4KHZVjstNNkyuQpkqKGAr4qKCRt4YdLf9OmTVKzZk19gTJlrpOePXrhDa11R0+lAnJZRV8Jxy76iZDl9Mvedpu2dGNkYzfkK7/D0yt/1Dsd/jMPMitW/7hntDTO17/vJUgdHOgH/gf8BflLlmXLXlHVcKzo34TdSTCIeFtr+5nmi6lJ+KdAMbJbkY0/bRVCO7JwGkf9TBV6FcjfTX/AOMEgJkAmTGEmSPce3eX6MmUssl7ZQkRejtjh0k/avRs0q8vWbdukQsUK0r5t+1T0zeBGyKMUmUk/Wn5lEGxRtPxZQf+2226NGUTHRisgKyhd+qliWR3uxX97U2bBcsTqH4+seXLNO/YQeIOYKudAP/A/4C8d+U8lJf8v5G/p0mWqSLJC/6XVP9oVT+W0T/3jNZdFSk//J+xBC9HGBlBZqt2o9MxYUAVq7iQQCaM/Q3wwb+ksXbIsXLhYnhrwlOZCS1qo8Iny3OzZiO9yZl5sKeJHs2bJ+BChYRRIBWEabPfMgXH5pBc+Orfx942y/pef5MILL9YYbIVKMlLQMDNOBunPnDlDdu7cddD0ffnZOlBm74P+jTfeKCVKnq0vpaXJpPIfLP2ULOJ/oE+5Yat8//Uf+A9pzAL5D/gL+Dtc+UvYvQcG0bcC1djw047WAxcaECjPlEQAOMWEXENUi2uwJDJcExCOVAYJ8uhjXeW9d99TX4Y1bdJE6tSpjSAk5H9m50L5k9n08dok4CiQAB7Ug8QPnn65suUlGS1PK3+8bRSzX8grXn5m7XgB//3Rv/66Mmgx94xFOlrLf6j1n1n8D/QPTf4C/2OiBTGEMB6i/Af8/f/Dn02qIWDU6FGlGxNilgPYMiNiWp6mxe5wVctGQ8geIoZYWLWq1WXLls20ofhWTpB58+dJrpy5NJwXi8kw3iO1o7940RL58KP/yepvv5WffvpJylxfRjp37hyj/9lnn8qo0aMlW2Ki9OzVW/Llzytvv/WOvPrKK/L9mh/k119/lTy5c8vMGbOMim9D2wuTtLp90acARMtfrnxZwSxcTcNS0tzRWXa47qP8zIclY/kZxSVgUnXXoeu4R48ee5U/LX1LjCRKyuVpj/qeB6LvCOxF/2DLH+g7TgX+AwoBfyrTQf4OWv8di/onAWNvCnVtvdEwOSWvmtsZANWoTrGze9VaRfEYNBU+zsZNG6VWrVoWCBn621V/k/59+2GGKsYi1eAwqsVn69NN4oZfgsyfN0+WvbJUPlnxKSKlSKtWraQ6xgV93n379ZWlMH7Z4LMIyzoSYRg//+IL+fablTJ48BAmkcsuv0wGDhxolWYyrOQOhr4a5kj5x48fp0bW02eme5UfNLVrVgPtVXFV57ii75WCfO3TATy5+iq57bayeK/U5U9LXxNqTiSMm/Toq7cPtDhMokXXC+4RfCjlD/TJV7rA/4A/B4MD6D8VPIvqv4uD/B1D+gctxCS8rjNpvHOyTz9tE8FDG3CUCIbhxzvVt3rRIJWZeTBqgwYN8lGkd69ecs211zKpOrU3fOKNpmWGcfpTpk6RSZMmadzp06fLSSefHKNfrXo12bx5i5QoUULGjRtnyZHH1199LffBePLdmjVvJrVro3vWOZKwjlzzOBD9wy2/p+t/A/3A/4A/E3XKRJA/fmZCK+xD/wX94z/DD83+eL3rfzOsf7nsgonU0PkuRp8bfi2Mxgt3+GFk+rkQvbMLA1KkS+cu8v7yD7S+s2XLJgsXLcL4OTNGpyryIA7SOubn6be+r7V88eWXkh+L91966aUY/Y/+9z95+KGHlX5ttECbN2/BVJrV+PHjZfr0GfpMY1r89OI+SGNYy+zg6LssNV9e7N0OvvyOYKDv6pk/gf9EUcDfwch/kD9qnbgL+oe24cjpX9dlqmxX7e8Nlr0EK4ZhzjC4O7bn/FevS6khvFSpUkW2/rlVny+68CIZOmwIYjtrD1+NTyK0rO7HFCYLLVK+XHmBkZZrS5eWXr17uRQiHR5+GOOLH2m+w4YOlfMvvFDzYn5NmzWTVatW6Tjl/AXzY8ZI8wWtjNA/3PLrC6IodIE+aifwP+BPJcFG4CmvHD7Yl/wH+VPV4YyAaRF/NbViunRf+ldTB/2jbDgk/bt7D7pMtY2IPMhIIlYdsgM6MQE17qWijdmmarERKVV8kV27dkmFChU0HdcsNm3WVO6sXSdmPC0nJCI9bY0yc/eM7FZ+vVJatGqp9Nq3f1AqVrxd6f/2229St25dpEuW7NlyYFnHQiylQB5Min/ly5fXyS9XXHGFPPUUlnsgT9JHsJLx4DkQfU1wGOVXtuES6P91/OckqEqVKkhSErbdO4T6JzQNAqnxz7yIKIyg74X/Rx55BGPCt/nqD/Uf5C/on2NU/6KFuMdefW/toYrBWldmeLzEe+UAyYc9o5qgDxw1CW41DQ0dnf7wErM0ztOefeuN8SZMmiDTpkzTqLOfmy2FCp2oebVt00Y+xQxTupLnnCOjMdNUzR3of/n5l9L6/tYa1qJFC92t5lDpp7GeR7z8gT6qMf71csj8n/388zJq1EjFxAHxB/zqpChC1Hr2Y1AlQjnpK77gKJ6lxx/x3+GRDmYQDxP/6dE/kvIX6GuFp6r/wH/IB9gS0/F6TxZBYDJZ/x8N+MOkGtupxhSHFZQgcJYMv7inccMCd/PGL2aMqpeGunAdBMS9ZkQmRgwlfM2ZnzbuVPFRC/l8RfcgXbXqGznhxEIye/ZzmuS9996Xrl0fRbYW7656d0ujxg1j9J8Z/ww2DH8W4SkyZeo0Oe3UUzTPQ6FPgvaGvhzmc6TKH+hnHv/b4CPqs88+I0tTObV7qN7EBMxV1o+2OP5Mxin6qet/z57dMfwpvGE44/gXeaQjWoi33go6Pt2h4Z8vGvC3N/+D/B0Z/RvwB/nj1m0JMHApXDSnGoE/ccFWPwtRcSfTzDGO/5z3hs3MELNhFlxwzv1QKeTJ+jXBlAwAPT5rFojj6Jcrh3V/OGHiHzf+Ux7D4v4ff/xRmmBRf6FChWT9zz8r/ZEjR0rBggXllFNOVfqtWt0nX3/9FU7SyCsvY4brnt1J6FbNfkj0tax8p7+o/IE+gJNJ/N+y9U+pXau2duOnxV/RokVl2rPPSrZswDwxegD879y5U9auWyersD6Ws5t///13w7HD/yPaQiyLdz88/B/N9T8AS5kWYagiR44c0rZtWylbtpzKn6sw48dRWH7OLRj09EAZOHiw5IBe2J/+OZr4/+KLc+S///1QOuJjKx8mGDoNi/f3TpUnHlRg7Pco5H9G9P/RwH9tIaZiNnUSeMzvNGN2nOUWQH9zVhVQN/hc5hez7nWKGzYWbYjPxYCBsXV4WmRN7KuRD8xx29atOiGHD7Vr15K/41iojh07yUUXXcSM5b8ffijZsmeTXj17wVg+JjNmzJQTChaQ2ytUlJ1JO+VvV14lpUtfJwsWzpPx457JMH2+jzrQ/yvKH+hnPv///Z//AEMdgR9w12PUMbpc2bLycIcOvspVrfiHA9X/xIkTZerUqU4Vocu0Ywcpeys3WudH3qHh/2iu/++/+04a48PU6948efLIyy+/HCt/Zsh/VpR/0eIlmFPwpOTLk09mPjdTcufKpbqG9Ux61Dt0/M0K+tCKmrsOKxF/jhZ+Ut2nR3/mrJkyZsxYNYaj0Ag4rVgxJEIOVK7OudwzRf8yL3XI/kD491GPR/rWZRorIQwXGM4vanw2O6RQwPnla0vobUKN9RkpQ3z94AF1HgOXesci8CaWneknPGuwhgh2ttki1bAIP0YfoWeccaaMGz9WGjVqLOvWrUEXs73fg1h+cXuF8mpE77ijiubASTa58PU6YeIkOfmkkwzsGaBvmfx15Q/0wQFIYqz+Mwl/AwcMkAULFip7iUnFKHBBaDzRrRs+vG7QML1kgH6Tpo3lOxgKAk0n1ZS97bDwn1H6auCRKKYfWabDkL/90X/nnXe1x8bLX778BeSluS+a/KqgI3UW0s+o/iFT+j/5pCxZukTy5c0rEyZMlMKFeeZq6vonBuhH3fPcc8/JqTiRpyw+lLKz5yCT8GcVREr71n/JycnC82PZC1a1alUpdOIJSn/xIp4p2x+t8lwyeNBAOb/U+Sof+m7ewB6F/Pd8jQNk/+VX5vCSAfnLKvynMog0hPYd42sP7+j8tJB8YcZAJeBWUI/uawIGk5IJHCE4jWNK17WKWxNad8OYkfjNmjaRVau/o69ccfkV0rtPbyylyCFdHu0q72MskUav9f33S5U77lC6u3btxqxWm4maH8AfPHSwlDirhKaPXw6evi+rpuV78TWtxFa3WVx+TyvQBwcyif/J6BKtV+9O+e03dHOmwR/XyU7DuDO7UOkywv/vv/9O7r23ieKwwyMd0ULEGOJh4j8j9LNC/vZFfwc2uK93Z135g9sxgk/1MOO7SZPGmS7/+6JPnUQp5jDLgfTPH39sFk7CW7NmjeSFThiPOQYnnVREazdt/cNTcVa5cmXZvn271v+ddetJ48aNMw1/CroD6L8nnnhC3nrrLaV/6mnFZMqUKTH6y2DU+/brj7AE1YdXl74my/RvZvBfAaKM9ZdjS//uNalG9ZCijwBEdcJDz0XUADOGhiP10PKrHnBpPBuiv9a+JKwN2kzJPwzdKA0EmAd+uBVb0aJF0MrDDjWOPlsNK1askAsuvEByuz1RKRgE27p1P2KscZ1cedWVOnYIz71cRuhrru59PP0jWf5An3hDFTpsZAb+fsT4X/2GDZGn6+Ww7BV/xbCJw8RJE4EkEjUYHiz9KlWqyp/o6u+EZRe3ooWokNRcUl+OB/wlJe2WTz5ZgV6bM+QkfEB4+SNeM1P+Dwf/e3bvkQb1G6CltV6yZ88ukydPlpOx09X++P/Vyq91i0itMRAvevJJGI6Znqn42x996piKFTHsg3Fqj/k5c16QggUKxvTfM888I89izJt6iN31pxcvflTy/3jAv2sh+m8D00ROHzmpJvTZWRJv5emRSoikO3Hyq421GuMG733T0fnrj48Do6hpYqKE+IG+fvmqUuZHQ5ybvAv8P3z8vTjnJRk2bKhyNi3+Kle+Qx5o8wD4bpw/WP4/grHD//73v9KhQ0csu0ALUR1TB/zrV43XC8pQz9Wsk39rab2t/GdPUtUq1XAPPbMf+tu3bxMOuyS7j6V//ONGeRxzFKidzGW9/DVr1ly+XfWt4i9v3jwyFzt02Vch3yAFEw1FataoJls2/ymnFjtVpkyain2cqTPxgRf0b6baHxhE28vU6QLwH+jRz3JAQgFteLKqMYj4K0FDrJkDcFA5fld8RZQLVHPHvFiJTlfEgepyYVzeBvqB/1mEv/YPPSgf/2+F0zUAYgz06I7CrkilS1+bIfwtwKxLTnjo1KmTlClzXcD/Xyj/7777jnR97HE1KiedVFSmP4tW3kHqny+//AqThObK2WefLZUrVZFcuXOaDB4h/bdly58yddpUSYblq1mjppzCpWOUgQj91157DSf89FIVyS5rdusG/RurYjUemWF/ImOIUfa6rw/tDPF7MDqL5Q0X1UmszszTB6XOiW1LtnFsJDERidgGsoFyxvQudSr9+gn0wZzA/1RA9yADZzKKvz+3bZM6tWoKx8SIQaLcu5wYq34WSvTEE09kzgixJfmB/0c//jh9oRbq9Y9Nm7RGB2GJxSUXX6xVy1o+XvRPgwb1ZR2Gh1hILv85+6wSzmYG/UumeNWQ2pJkrP7VIKpxQm6mBAAh3ruWHDMnqUTAiqMF+l1NTx0AJObwoG+gGTiTHXk11zKEBYy9MFNFXaDveK5KOPA/K/HH/XAfxr64UUeFyq6nM886Q7jRQ1bSp6ikdUcS/zswVsWW7TcrV8r69eslZ86cctZZZ2uX77btWzE+eJKcdtqp6cr/tm07ZO68l2UFWtm9+vQ0uU9H/jds2IiN+V+Ur776Uvr26ac9QxuwdnMelmp8is0StuHDhBOZbrnlFrnxxhvt49jpn+3btmNW8AJZ8fEK2bhxg5x+xuly7XXXy83/vBFsS1//zH1prgzB/sZ8lROxu9Xs2c8jLjmNv+NI/8yfv1AGYE0le+Fu+Mffpdvj3VwZ8aOg5S/+Ypr2+Cr/vupfqzqzyq871Tge6hc378FQzhrll7kBi34EmHJb79VIkt9s+nmH5+i3NRWNJeENIpKAGlprJfpk+ousA33P7cD/rMTfMGw4/yKUaCrnoM6zPHmSSlbS17WKMVlyb3EE8P/Gm69LPxioJKzbpfwWKVJEjRNnWOrrQDwbNGgg99xTP1Z+DKnIKziDlF2KX6BrkWzihgZc46ffxE7+165dK1wm8Nabb8gaTHQz7wRZumwpZnqO03XDumQLNKLlvwHLXrp164b3SZGpk6fIZMywVL2hX+TMhSEi/7r5JunSBTtWqTP94ek3bdpUVq9ercLzjxtvkK4wFJqSCfnCmgN8nP75+eef5LPPv9A0XDrDDUB+/e1XuRpntz72+OOaKKvrfze6R7/FRg889PyLL77UMcT1P63Xg8OvwnukR/+XX3/TGb4sTyI2GVg4b75ky5mdBTSH8gb9G+/bORT7gxai28uUwMPaG4JWwQQgEU881FcRyh8YSK0ohvAe4cQtgcYn3tLRnxeLixDc+5Yl89Rwi8BMcUffQD/w/8jgLwXrhaj0f/5lveKP2FNFQqACigP6PylX/O1KReXxgv8f1qyVexs1wuSRFBzafRXWFT4u+Qvk0/LPnDlDxo0do7tJ3VnnTmmGRfgUe+78NHzIMJw+kwShhQf/gz88mHsxlgPgUeWfKqgcdq7ZoxrIyzfiIcJlWD71MY5uo/wnIo8caJHu4oxKnxkIde7UUZ5/frZ8iVYrmZ4ze3ZJgNHdicMC9FBx113VuUsXueXmmxEFkZAX6W/9E5NiqlTGvemfDthsgZsuWPZmOPnqUf3THcscli//N/LfoeUnUdZ/lWrV5b777jsi+o8HhJNvymhHn7t5TZ0yVYqdihY63hml3Ev/VsLhCTt24r3xxg9hTLx8udtxG/Svr38whlW/3/rXcAOI8j9qfxKwTyN3WEMwa0BvmJ05fbbkrBy9i934SD4ucmAWWo0+L6ZgAv7gPkFhyQf8aWRdYxroB/4fafz9+ONPOkWfu6wY7D1mRXLlyoUWzQwpkD8/KoYYjiE2cqPe8QvwfTTjv2ePXvL6G6/ifRNkFnZBKVwYa/Mghlx/Tvnr0b2HvPnGG1KlahW5HzM06dah1ffB8uXyww8/qHFUTiAud4ziQvKo27Z1u/yM5Q6crbt9Ow0NM2eKFLkY43ktmrfEsqlS8ErEcohJ+HNr7UDf8/8iHOnGfWGLY1kB3UzUwViMldEhN7nwggtk2NBhLELMzZ2L7tIhQxDB+D8HW57lx8YBUfoaOR39M2L4CHnhxRdi9J/s31+Xb8Uyj5XB6PvyR+nH42as/ldjvXXOHDmlafOmWHKxC1kmSJ7cucHnl2NZxssQp9/mAezR+7nt0VuihB2U7st3NOPvWNH/2kJUdrvKNwiTxXZHICqjHb75hcjvEbvStsZMoPpZZFav+cNTs9LsNTOfMwPooe1R3BqBQN+44rmkLANTvGwG/pM/mYO/+fPnydNPDyIQYwz2+DuvVCkZOWKEIvR4wH99rM/7cS0mZKCAQzDp5CKddBKXvy2bN+tOUWXRcuHpHWnxd2eduvLb779qCzEBGxosgUH0Uq4YNSZipmdXee9dbKJBluKPi97btG1j+HURGVZJF8Nvwx2fRC695BLhfqnZ0PpkNE+/Rk1MlvkDk2XwLZ09B+iiWzZa/49i4/9333tX34X1tHTZMhD2b6YZaVbp6Z927dpibaWdosO3WIQyZUfZovT1lRGYFfLHTePLl78deYMK/q7629+ERnl/9J8eMFDmY4yVjns2L1q8SOMbF5FSwXpw5bcaCvpX+eAqOD7LlBzVmnC1r3xynnE+uzisDoYBpaiA2FIL+HFGF0PUueSp7l2yFAwAJGIAMmY2Y3Fxw5cL9MEHx5TAfy/nmY6/hzvg4Gnsk6ugTYP/e+6ujzG1+krT6ZlMp3+k8F+nTh23KbnIqdgYf9yEcZInZ55U8teoYSM577xS6MLstJf8tWjRXL7BWjmKfLbs6DJdvBRivbf89+nXV5YtZRgc4Dtr5izdNi3GX0IayR7u+LD877//i9GfhFZj8WJsGaaW/yee6IZxSeziQm/8cZySOwxZhSVLK3Rxfv3V13gWyZE9hyxYhLNS9QkX3midRu7pB/rUP5Vur4RuU3bfipxx5hky4ZkJuEOEI6R/WH7iTx3I3oeDCqqh23Z/9EePGq3bzPnyz8VEJe7VagUN+vdw7U/MIOo3BYCgPQtWRTB0fHZfEM7Pg0yxRrDxBhcKNq+ajwbCG+EKZI3HB9a1M6DsqsIzWzx0gT64F/h/xPG3fSuWYsBY7EA3X1r+F8X+lzNm8RgyB1IDquGavopr8zza8d+zVw90mb4ek78iRQtLj149pdS557EAKn/c7qwg9tEsWABdjvSLyD/PGv3mm28YEa04ayGmV/7+GH/lHqLKMvBn1nMwiIUKMzNN6+W/X/++sgQTbkiDbvKkKVIMG1in1T+DhgzVCT0aCZdp06bhpJtT+BrK/zvr2rZ85H/ePLkxk3We5uHp70v//LDmexwjd2+Mfo3qNaVly5Z70c9K/TcEG0XMffFFLRrn8XM3Gu6Uw7LRRflvPlb+CRMmxMo/YuQIKcU9TvEv6N/Dtz9mEIlCnbLl2W549hWjYPZIxdeV1oYiMh6fd1Evu1czp9j0z5azi+sVSqAf+P8X4m/Fx59I+4faeWgaqKFJRwwfDmVTipoJYUAwQXyM4v9zLHd4oE1bFMAMkMojbm/C7M327R6UvPnz+CAtvxdNfUD5OQa48ttvdBqAjiEuwRiiZaVReGGe/dDlt2QJDKJzs2ZZC1HpRTQEu23nzsV4mQYkyKQpE10L0RJ6+qNGjZLnnn8OVQB1j7hjRo6Wc849x6WLbHuGZIWwhvS52bM1A0+PRsLnRXXpX/pZGNZn2CJ09Ac8/ZRcftnlRtzFYpC6LKp/dmPbusIE5T+Xj3jn3zkt/RdfeFGGDcc4qnM8zeVW7qMLFy+dvw/6d1/1r7zyTI7Yn0gL0aBiTHWW1jFdmY3EfhlGlPFEaQImyxjYEFOJsCLifjG6rtKYH9+BOPPO5xnok4WB/ybKHh2GlazEn+9S9PjjOZvVcfqKd6YTLdRjVcOOIfy/MGeOGnm+d1T+OPOzDSbSlL/9dqdU98ZfSyxFWYllAkQnx9k43qYuTfn79esnS9FlaoqIE3hmSSG0tD3P+Es3aMhgmUeDCEc1MHkSukwxmcbixenTIM6GkfP8Hz16lJx7zjmahmnLlS2PTcaTVGK4jGQmjoVjt9SB9M8DGNf8/FN3gDTiL+WYKMYv09InDTpPn2/ry6IBacqvL3YQ9JMwfljBjR+y/NeWLo3dknofkP5ijBk+hZM8vJm/t1FjueuuO91bISNVtgcuf7T+WQ5fpiNV/qOWPqZUo6cIDXZwgrz0Sys8k8gq/SgGIti7QYbRKd/1F8xXLtIntTOl5j+pkVbzoK+lt9jMN9AP/P/r8DcJ3XVTp0yO4b/MtddKz549HdaPL/zPnPmcjB07FjLn5TIuf5xo07tvX4xJobUIZ7Ju5W/ZsrmsXIkWIvw5hkeDaHKcWv77uxYitQHNy8xZM2xGK/OLyP+gwYPQFToPvkZ/CsYQi8EgptU/ozBmNms2WoggRv0zZjRaiM4gkn616jWwx+dmzacAunrnwOh7tz/9cztOydm1K0nTnXlmCYwfjo/Vv+/GZf7kQlbovw+WfyCdO3dR+tR/7WCgOdEobfnT0ufmBoPRuiZ/+X5t27WXSpUqGnPwHHX7Kz/Tm4vXP/0ORN94wloz+vrpQk/X9W152vVYpI9lF3vIEcLSiqg/7l5Lb/dcMUFmsc+IBeV/zwP6xr+b7ElZ4m/11x6Ym45K4oZfCVybFOgH/v9V+PtkxcfyYPsHY/jneNez06fhtIQcJvFOLo4n/PP0j86dOstabAPGDzEW0fOfO9VMmTp5r/K3aIYxRG0hJuvsxsXoMk1P/nUMcckiZIqM8V8n1RTBGCKF3VGh/A8ahC5TLDHw9HniSPHip+u7WNeRpR81aqTtPGNWSUaPHokW4rkx/cNF+d9hUT7fJWeunO7sS2oZOCPpfuP0f8Bi/MaNba0l6deAUW3RsoUlYFI2B937uxfSruLM1H8DOFt04YJY+XkgsF8Ksz/604FN7qbE12OZ+/bpK9dcczU4m6qweH8rAuvWguLlD/rXeJee/UGXKQyick1Z6Fp7/CoyFpuvYSQZ6GFXiP5Hbmof8cCYiew2VdAjBSuBSNMFhhbO6og5AE7HBNTDV6SFap7IJ9AP/I9ihjoqs/G3EXtf3nXXXXb0DuDHlg8nLHC24/GGv7WYMMMuRZ4RSIVL+eMWbiNGjMS6QS5/iLsGDRrK3ffcrXrU+7LL9Gs9kSFFJ9UsWoSF+VpBqeVfW4jYxUa/emHEZuGk+kJY8xitS9IfMmiIcIakd5N8l6mqg7j8R7tMWf9j0GV6Tkl0mTr901WXXbwHdYNZ64nZbX3kAfTP9BnPyjPjnlE1RfqDBg2SS7Dsg+5I6Z/6mMH8408/Kc1oy/ZA9MePGyszps9w5U9RvJ6Og9SD/s0k++O3bouZLY9cGDM9WoQ1hE8RxalWn10Y31p3UXPqIzA+l1ToZ516ara0pWooCTzmQOQawUCfPAMvjB36MRH4j8+vLMIfezoa3dsIB8muVXwSf9wb8kYc/6PuOMN/ndq15cYbbpTWWDhPsfTyx0XhDz30EM4h/dzwh8Lz3NFhmN0ZxV9slinCrct0Ubryb12mHF9kOyQZY4jP6bKLtPI/eAi7TDmJxADPFuLpbCGmwf9IdJHOxmn23o2OdZma/uEyhFmRcB2/RB770z/t27aTFTjbkZqLGwXoJCBNoxcjlYX1v2vHLqlQETvMOP1XpkwZ6d6ju/E/TfnT4v9p7GU6f/4CpLTyz8f2bTmxkURqF/Tv/uo/in8POG9/EnYn7Sb3tDLoSRczU/DnNjY0fGz86VcZQllnGkf9NIk+a1Ocj4xAoYOHdav4IXaLa1fn54hZ2zPQJ28C/x1Mia8swh9bBdyaDN9lSqxypUpYQM5ZmMcn/2vVrgU5xu4vWBdoLrX81cNJ8b/8+ouWnqe2T+Wp7RH+N2uOdYjfroKXtRDZZeq+VTQ7spHy3w+nuy9Zhhaik3/SY1egKRyNqheOg7GF6PnPSTUcQ6SL4n8kWrAvPP+8+lHzsIXoJ9WQ/vvvfSBdHu0SSzNs2DA16J5+evqHmwVw/1bSKVnibOyGMxabnX8jefPltaUf8EfWqcq/+vvvZNPGzXLRRRdILkxC0nckf3gDx5+D1X/vvfeedO3a1fJAwgexBVuF2yvg2TLjNS19r387YSef//znPyQpp+KYqKlTp+l9RuhrAq1JcNQRC/rXycOe3bth58h+cEZrl6yxQKtmhGmwcY5h9OeTXvjonKVjq9AW3PMrVA8TpmFkHHZzMC3pUDrxo7kF+mQO/pNL5FHgvyHM+GEgifOGvOKTXg4Bf2++9ZbwMFnvzirBLbDGKpnjlf+1atUWnkIxbOgQuQBboKWVPx6e/KJOSEmQ68tcry2WGIPB4wb1cfQQNu0mNulvO8Lglo/OMawH1zu+9rqrmhSMIT4nXPNo9eWQDZwPfPppPdXCpx2JscLzzsXYoFKI43/YsOHYiB1r9ZxssEV4LpZdROtfDRxOyWCL9q6760nDhvciHMo+Hf3zx6aNUr1GDY1L2mw53/Svf0nr1vfpHqjtMZ4clT+SbdiooW5jx3fj4n+20i7ANnP6EmnKb71i+9d//TFLNLr1HZeKFMIpHb6MUfrKYGU5S5yAQ4+rytatfyrp2qjTZs2bsRjqLF3Qv4djfxJ2Yy/T2Fc4GG6fduQv7mnAgAju6sBjLZwa0i9D1gi/WhIZrulYHawMgFkrUHOwMAUzEtDw8T/Tahr64d63AtSPn5aBvjEm8D+z8bce+202xPovnjZABZQrdy5dEH3iCSc4TB6f+KuNFuKGjRulKA7PfRatCp6WQCn08tcOrWMezUS/x7s9jmOZ/oHbOP7uqAxFvG0rBVPFeBryOBktlLTy/wD32kT3q8taRtKAYVaoecTlvzNOrvjg/feNPuqBu+PccuttiJea/489iq3ZPnhX3wVvK7169ZLrruNBzuql9IfSaGKBO83oBRdcKEO5Ts+Khh8qGKakR4K88eYb0hP7tnr/IkWL4JipjXLWmWfK6DFjMQ6JqBH98zY+nrp1f1yJMRe63MAMuyoPVf/dXe8uWf8zWuN4r4InFpTncVyV9sIp4dTlj+J/A47D4mksvv0wEa3qM4pjMwNNF/RvZtgfm1RDwKjRI6RMCBQV2p4GAohjZ+UICuJFK0EtGyuCMDa4KJa8RfR9CJYAscx5YFkwAgP9wP8jgD+Ml8vdd9+No35+AxAV6TrbUQ+TPUT6EydMwiSH6TIcO4aULFlSZSH2RXgU4Z+tiQ0bNqgAFsFZhI/C0FyMVs72HTt1z9ZFSxaCJQlS5vq/Sw9tPSfgoyFJeKzTjJkz5ZWly8CxuIyfeVYJade+LVp1pSQ3xrA2bf5D3oLxGISWny8/j4Y7H1vBcW9Ujg9mxykWW7ZskX+jy69v3z56QrxqE8j/iYVPkMe6Pi6lzr9AcqNLchMmPL39ztu2xADh1DKkf9ppp0mHhx+SCy+6RPc2Ja3fUZ+176yjZcsBGgsXLDKjkQ7/X3rpJTs7EXmZ5krATjqFdGOAPLnzmi/1EWsS+o3LOIZjgwZPn0SozsaOGy8lzj5Ly8rng9V/O3HSR4WKWCbh6PPD4/HHHjso+V+wYL7u90p6xcDPSZMnZpg+koKyuaB/rRai9ichCV2mZLAiiEBwRs5Y5lmHGLzlDz5P7KswHoNQtUD7YQjz9HaRWSZD4ehRLhpo8fn14xZxIAEzh3+g7xhHRpFPdIH/MYgdBv56dOsu7C5VviKfJvfeK3UwdkasHir+6uP8wB/XwWhgQXjRIkW1qjQ7UlEhMEj/1fivWaeWbMM2dTRK7HJjeaPyx0Xp9+Bj4Z76nF1KVSlim19/grt94+/Ms86S7k90QzdlI4OrMlOTGy8IYfxdXfpq6dOrt9xWtqx5pKHv+V+gYH6Zg91YKlasEJv9mx79U2EYp/DsRH27FOFGCrqnKehzC7aa6BZNj/9rseRE96d19EuhRdm3Tx8pULAg3hO5pdE/NMzcUYa8UzYgHfVf9x49hJNhPP3oO7L0ZEN69F997TW0cnsigvG/I9Yi3oIuW1/+tPSZl8+bk8B+wAcK6T/tZsZmlD7jKw28YbT+D4Z+tPyaD7I63uijhZiEMjmTxjvUpBXWfRPBgzhhh6kyxALJVj7GK5339EzjGAedABqXQYo3PvFGM2CqQF+5QJaAJ7wnT8gVfoAE/h8+/uZjAg0n0nj8XXnVFfLkU0+C2YeOv00Yj6pZs5bOuuTpD1ZvWnmxy9GCf6495Cn1uXPmkt8wlvjJJx9rV+Ge5D1yAVpl52NcMUc2nEN4jOKPrcR66IpkeXisEo+B4jFe6fH/21Wr5b3335VrSl8jpc47T2VNUYBLeuVPStotn3/2iZ4DyTFGzoHgDjxFsANPzOghl4Op/67oKn7v/Q9ACC1UEFuItYhc87o/+oToq8uWSl9snM77yy+/XAYMGKBlyyh9j/+gf8FIgoMMVU2rVSK6dVvM33cxIIp3FsbEuMMPK4B+dmVm3jGAEfDMCC7IHumBTgXkwShpnUanf6Af45vnkfEGzAn8V94cCv5Wr1otzZs15fwuxd+J2POSm0RTYdIdKv64Bo4zBtmNNwUHuwb8A6eUY2WostY90iPr5f/1N16Tnj16qo6qhsknrVu3zlT6n+KoqDY4Mop7ps7GuF9qYXXg2k/52TCoVKEidsjZpcxJZdiYbh/6LykpSY/m2o6JQ3nz59Mu+rx582WYftC/B7Y/rsvUIdjVKWtLZ4LSey/zZy0X3+pzKRkx7li5cIxJJREfAXCyooYTYYhnCs7lYtE1baAP5pAtgf+KB4cQ5QdbzgeLv+07tkldtBz+3LLZlCM+LJ7BNl1nYDHz4eDvfWy91UW33hK5/nrMyuzeXd9TLwH/rs5MoI+k/PdAV+Ybr7+hra+hWEt5IZZJZAb9X3/5RZrjxI/N2CauB+r6OtQ5MRnHZbz6iSuO1w56epBs2boFXc/tMWnnDFmMTc+5TlOBh5Q87Ph8rPlUPclExi7NKKr/uMfpa6++ivAE4VZ2555T8qDxH/RvBu0PBs7ZL2e1SUF2t7zhtGVMAI17KbTQecpmpkdCLL5lwasu+kWezI4fPV55xRKRnn4NMR/8Bfpkm5cTuw/8zxT8PdiunXz8yScOwwnSEeu4br0FsxkPEX+7dibJyJEj7WRzAhxQbty4sdStW9fVW8D/Xyn/nDjVpMm9mAz0I2bSJspwGJ1zcWKJqSlenb7JQP1/i2Ov7n/gAUnC2Yk1a9QSblKgGbr6j1W8u2H5O3bsLMv//W+F2SWXXSYD0cXJLt1fudYT+q70ddjMGzNmD6T/Jk6aLFMmT5bc2F/26YED0MWLo56C/j0g/7lmntWTUfuDFuIeS7p3alfn/vuFEcwZDnDVLlASdmEeb0hJUKjTH14MknFPe/Zfb+m8faAPZhl/+Ov4qX7kJp4D/6FP9o0/dovaoa9x/OkaPOWlwx/SK1YZJbX0KP446YveO3bukPXr18cWdEf5/+SAp+QKjOs4wCL3gP+/Uv734Cu+X78+8ipaVTxVfiRmAJ99dknUondxPByM/mF3+6rVq6VxkyZyJ87OtNS47kf+atWqoTNlGfmf//yHFChQUOZhHJsuD85tnDx5CtYeFjKsMBIzTYO/Z8aPl2nYpu0MbFgwBOtHC3LiDxyjRvEX0w1B/ypzDkf+dAzRCzKZberFcZYeDKRx0wEYPEKBYJqTeWmoC3eDk766oBJQcay6qDM/XZOvzUar2kAfPHKsCvwnag4ffytWrJD27dtHwaf3ZHOG8cfKIe79a0FxqUggL3rNx3R47l4Sj0D0B/z/1fI/b75NpMqRI4ceIcVxN75TRut/7do1OHw4nxT2m5QfhP7r0KGDfPjhh8AEUAHDqa063J+A8cdxY8bAGGLDc200RHDFuPqG7Brlpuaz5aabbpbOXTrBVmZz8EL8g6Af8HeI8set2xLA4BQuGqLgq9DrRavHa2oqEvrGHZ98Z6gL5RcT8+B/BHPBPcFAv2T9mmJqBoAenzULxAn0A/8zEX+b/9gsd9arKzu278hy/OXJkze+J6fDesD/0SP/K1euxG45M6QT1l1m416SR0j//IlNDDo83EG+QXdrMs4+zJ0vn9yANZ6tW98v+bDB+oH0H8893LFjh1SpUoVKk5Dim0ecKk/nG/SvcicT5E9biKmYjQcaKvu6syrglXEsQO/4pBXEr/kUfOnwY8d2oKdxdV/hPgaso8ZBGp86lqfzM0r2EOgH/h8q/viRxqN9fvjhe4DJOW3dOYw6oB0a/pCfBzBumUdJHEU0asyogP8g/0H/Qc7YVX4s63/rMnV6gwaPTXu26Gxnbko9C8hWni2htwFd6zNSpeIVBB7UKDpFod6xCLwxXaJxGDcaT0PpEegH/h8e/oZic+eXsI3XYePPI9Thn4aWB94a/h2AAdnbcer5gw8+qIAO+HcyDr4cNv/1ZADqhKB/gv49cvYnlUGkIaQ6UkdEq9ybH33ZzNcnhLEVl4weU/4yDXc90EFhlQTLwq5M6bpWcWtKw90wQiR+oB/4fzj42528W1q2aAlcEm/eZRL+gFMeXWYfLHH8N23aRK7DZtgB/0H+g/6DzEX0uUlgJskfsz4C9mevSTUsD40cC+Z6mvBMRcAAqCtXYKpueOhVRx9dGnju5cy+U9Wp6dQ0TI2hQ6VBw6ue7ifQN0YE/ivkAv6C/AX9o+o26N+stj+uhUhTZcaKlilin1QzY14W/OKtPD3SCZF0J1IV1mgK3vumo/PXHx8H+WsaNYneBAb6gf/AmGHEIwXgUHwE/AX5C/on6F82wFRFYMUDG01ZYX9gEG0vU6eLQIVEYaz4x3s4u/IFUjs++zCG6swpTcO08UA1t/Rnl5OzlRqBia3paRkxTaBvvA/8NyzEYRTwB15EXUTE4B3kL+gfDl2pUiUcYso56F/IxkHan8gYYoSDMHNqfbVT3O9B6BjtfiiYcZ1tnj4odU78tuM3vo0kJiIR26A2UMyY3qVOFej7JeGB/6kUnQcZYBPw578ZgvzRAnhopNYkQf8E/Xvw9kcNohonoMmMkGuO+l5PKB5CLVG7TO1KRWQDgDRmeFAEagbuqyQCTWeZ2RL0vkwVdYF+pAsAXNLugMB/1y0S8BfkL+ifoH/ZZXwE7A/2/qM5U0OmX9zugbPm+GVu1o6eavU0lPcqpLSFbPp5h+do29L3hlpaW6phw4uW3ifTX5AK9I1T5GLgf8BfkL+gf7xGsF/ygy7o36yyP2ghur1MyWSs/eG0cj9rlCaQh/qydcfmnXVdsTL4DKXNqqHhhiXjE2/ptNpwUaXOENy7aExp4byqBWRK+gb6gf/HBv52YpPnF198Sbjp85o1a2XosCG6Z2bAP6U/yH/QfwaCY1H/J+zZs5s7rNFsxQyfopoXNYRavXFDFrdosWh6A8OpXX0+ZiwtE8DRsCaoWeQD/kgPV1jfQD/w/1jCHw+hXYKjfHhIaz5syfXSSy8pvgP+KdJetinc1B185k+Q/6D/jn79ry1EBa0zYHEI253CG7fevlm3poVZ2y4mAkS9CQGNoxMNFQafXjOj8teY7qrt0RiBeJjdBfqOpY61gf/EjmHDo8zB6oji79NPP5F2bdvJ1ddcLb379NE3Cvh3IA3yH/Tfsar/o2OItGdqrmj9fL8pPeM413vGMrMGi4+vwNhUX8CAM5qortTFrZtFZ/70Q7IUrMpPxACkmVPnz3BGCPQD/49y/PGg1tmzZ+k5eVXvqArcGrgD/oP8B/1HPQ53DOp/nWVq786lEBzHs3Konz67Fhw96Fwh9ccbOHjSsPGqX+2eEQjXbiSNxwfaOmdA0dRRWgzTbAP9wP9jB39NcTbe6tXfyfQZ03GaQbJ8u3qVfshx04lzzjtXTi56ktrIfeGfM7p/+e1XOeWkkw+I/x9/XCfFihXTeJQh2t4gf8puYwS4EfRP0L+ZYX/MINIy6T5qJnO8qg3zj27yi0qh7wZ2gumj8DfqZfe+U8uHxWPonScS6Af+ZyL+du7cKY899ph+4Hl8Em8lzi4pLVvitHO4KP5++/V36f9UPwO9hsbxTwPX/qH2MFynWCLgPxkzycqVK4eDXvPI3LlzZd26ddKwYUPJkzu3VKxUSSrh73Qc6uo+D2OyxGfm/Oeff0r7du2kKIxm7z694QX//ZS/Tt06ckKBE2TwkMGSJ1ceew/Lyr2t/US97D7In5nKoH88HjzI9TnoXwcMcMPJX6SFGFcC9rVFKMWd2cS0bEU4hDkBk2VM2PmMPyiRaOdpjO8Mwh8ddQDz9M5ydu+nuQX6Efa4CbnHPv9fWbZM3n77bWmCU8hPL1bcV78zFZlX/yu//lL+8+FHwlPHk9HT4fE1csQIKVWq1F74+wbn5q3ErNGnBw5Ug3cSjBVPSD/zzDOlZMmSkgMnr/tlEJ99+qm0adtG/va3q6VXz97Srt0DwlPan3rqKRwkmxeF2Df+SYenY5xYuJCMHT1GcuXKpTzw7/f7b7/JqNGj5MILL5Lq1atr2G/wa3JvY8kFAzwaYYVwyGwMG0H+gv4J+jfz7A+3bmM3pp4iDfHzSysoiRRSXrVRyC5OSKH5ObuHUP0KVmmOiaimspQ0ar5JST3BPKgsLL1FNL9A33hyPPN/+/atUrmyHXh6+eWXYZbmQEVCVuLv2enTZPz4ZwxqwF+p884XGsU4WlPjr0atWrJ50yaZOnWqnHoKWoXp4H/kSJxm/vzz0qB+fVm0eLFcfNHF0rlzJ+DbS4cjh7RR/K/45GN5sP1DcgryHQ9DbcYwNf1u3bvL22++qRk8N2uWFC5cRCVo48bf0QptBJCkyLRp0yR/gQJOjvhBiugUzjSOkhalH+Qv6J+gf/dvf7DsYg9RAsGhQEGy9Mfdq3zbPVdM2BeynYuoURlkqZBMpTL2FAkwK8omoaOio5JIS69ESnOg7zhDXpCFxnNlqXnojO1jnf/JWK5QvUYN+XPLFrnpnzdJl66P7rP+N2zYKB9+9KFs2PC7YYrfVWQIgKiQxm02tNrYisItuGRXBzZG1tu+ffrKsleWGdgcl4cPHSoXXHDhXvjbtm273FH5Djn3vHOEk2Y0y3T43wQHEH+PA4gTE7MJ5Ed69+4tpUtfC4Ku3vTX6HuvXTuTpFatmrJ12zaZBmN7ysmn7EWfBGfNnCVjxo6GkUuUOS/Okfz582lGlL8PP/qfPNzhQbn8sstl4NMDYzZwf+X39JUYHviGQf5QU2BE0D9B/6a1P/FlFxAUOvvajHZ4On8AKBnNOO3IJJjY0qMkqpCxhYluUzV66kVOuwWGFEKzypYTrlD4nJlK4TStY3f6pNId6Ec6oY1Lxwn/N27cKOt+XCuXXnxpuvU/duwYmTPnJeHid4WXll4hsxf+EqHZly5dqvjaF/7uxPjbho2bNC8aL7pzzi0pY0aN2Yv+a6+9Jr169ZK76t0lDe9tlC79FBj1cmXLKdarVq2CBfpz5HwY1xHDh+wX/72RL/OvWrWqtL7/vn3in/K0YsWnUqJECSlYsIArfbz897e+T7784kt56KEOUr58OYSbfO2r/JS1IH9B/0RlKejf/dgfv+wiJjaecxgTYReQtkrwOUXvuNkyMTTrmtrfJJjxuaSCn/WWoV6RAQ9Zpbd232iOFh7ok2fghbFDPyb+P/H/V8y4fOjBh3SCivIA+MubN68UOekka0UasGJX4oWTWEYMj3Z/+mDD346d26VixUpy0UUXyaWXXKKtL91qEPgbPHiQXHzJxTF8Mr9evXrL6zBaI0ZinPHc89LF/4oVH0v79g9KmevLSM8ePaRGjZqyCV2s7MYsUqSITJ8+Xe65524UIY7/TzHm2K5tWxWUeQsXSK4cuQ4Z/1988YXcf//9kjtPbpk/b57mGZVL40CQvyj/yRMVq6B/gv49gP1J2J2EvUxVD7PFZqLFqwIIF25jQ8PHxp/1P2t0jQlv+HkRdF0xHn00eviCt3DLW/O06EpBjaAjRmMQ6B+f/Gf35wIYgq++/EKXKvz6668yZcoUOenkk/mxqmBr2KChrF23Fg8pcim6BLs++qgULlL4sPD3zrtvy+OPd5P69RtI7Tq1pXq1qrJrV5IikC2wsePGxegTf7Vq15I//tiEccEl+8T/KBjL5zF+2LFjR7nttltlxvSZyGesnHnWWZIbE2SuvfZaadCwgX30Ofx37fqYvPveu3LaqadgbHKa0mehPf7ZGh4xfLisWbtWuMRi46Y/dBZqObQA08of90ose1tZTdu7dy/XVUuuBfnTrmByl4om6J+gfw/B/iTswebeNjYFkVLrRdXgjZPTVgRYJIzixxC9RKycpQMS9esYhpPajoc58sU0vsuZedFS40ezpmXlQ4SGUWAqhGmw3TMHxuWTXvjoXKDPejv6+P/9D9/JjBkz5dVXX8Oavd2SmC2bLF6yWOuP1ff8nDkyYsRwrf+7775HGmHySGbU/5P9+8mSxUsxa3MkxgXPkymTp8rkSRNt1ikwNxAzSi+/7DLtBdm2bSvGDytjBion3YzcJ/1mTZvBqK+Sl7DcgjNKuY1b3bp1ZcPvG7QlOnjIIOA+m6b3+K9YqYLs3LlLKlSoiEk17QBzoDeC/z14Xrx4kTw/e7Z89933QHiCTMR7Fi/OtYfgkEI+jv9GjRrKD2vW6FjigIEDPPw13dFY/0H+TVWxVaGaNU39B/2rAFf5J9gdl4Brwzw8UoXRP6v0f8Ju7GUa+wpVyvy0oozhwgpE5XFXGVz8a0Dg7V3ZakxkuCZgMaiMUeUu3H5wJQBYBCbkf2anaeiHe98KVb9AX9mgjDm++F+hYkXZlbRLLjz/AmyIDQOomBCpXKmy7Ni+HV2Yl8qgQZh5CkwYMA6v/HffdZf8+tvvsnjRIqW1G2OI1apXkx2YPEP8nXHG6TJh4gTFH7tKe2FyzF131ZNG9zbKEH0uufjhhzVydokzNV0U/6th4Jo0bqz0W7ZqJTVq1tgn/pu3aCHffLNScuXOJfPnLwB70i9/jx7d5c033pQcuXLKovnznSwF+Qv6J+hf6o2o/KmdyYD9sUk1TKBGj98vJoSqkLQ/y3SD354NMVVfKSG1bBRE9lAwxMJib+T7MBjBgjWOv7VgBAb6xz3/1+JUCC5ep6vfoAHG2e7R2Y5bdWZnZS3/sKHDdYIKP8IOF387d+6QCpUryrklz5HRYzBj1IGO3Z0jsGyCHkRu//5PylVXXik9e/fA+OEbMhytw/PRmjxc+koQAP/g/Q+ky6Nd9PHhhx/WBf3p4T8Fk9LKl7tddmPXm8svvRSt16fxCi4mRCQqfwMHPIUuaLSwEb540RKctJEtyF/QP8CsohZYcwo36F+VO2ewlD+8pCd/3v4lJKHLlOzT1hsVkTNy9IonpdHCI3/QyrNWoUZw3j7Q4jBEq0QvlmUyDC6PktKXUUE3w+sm0SMSMw/0j1f+T5vxLBbJP6OgGTd+rJQocTaKmiLL//1f6dSpo9Y/J8lkpPw5cuSQ5194AVjbG3/vvfeedH2sq9SqWUtaNGuOGaqGPy7Sr1qtimzduk3pn1b8dHSjTpKaWH+4ZfNmdOWiNWkSgXdVtBqaPYkM4v8lHBM1dMhQZJmCSTg9pUyZMlZGvDXL7/H/xZdfyv2tW2tYs6bNpXbt2vukPwYG/Tl0r9JNnDhJTj/dda26d6R/kD9XjeAJ1Y2vf7JIPdLwP+ifoH9pf9BCTCJkTKXwjnwhaAgY3NEAIp6OCsJD7zVYY0RAh2dL50Ptl4JpDXn3jEix1iUDmXmgr7yj4B6v/G/bpo189tlnmGGZU+YvWIiCsrBYNoFjlPr16x8rP/1SOcUfjBljOCz6cPJqKXa+0SB4Ekne8WimhQsX6s4zl2Cc0GdLsgsWLpIBA59yUVOkS5dHpSeWRZx/XikZiUkzlk/m4J/jgiNGjVL6XNJxHdYrpod/TvCZOX2G8kQ3BTj1NKRJX/4mTJigs1pZgEGYLXvJxZdo/tHyez6w3EH+lK3KkZdRjQAADZFJREFUEtZ/evwn745n+YviP5Qf3HD6Zy/7w2UXZJbaJd/EVujYxcIAF6epGZl+do2KIAMUbamCFGiaAp2qyINR0jqjAd9AP7VWB0uMN2DaMc7/CreXl527k+QS7OoyePDgGAS4jOABLCMg/h7v9rjkz5dfG2habg8JBqZT/gIF8su5557r8kqNv7vvult+/vln3UkmGxbQa6d+BH81a9pyCSbmLOpkjAPeXf9u4WzXqDtc/nN26WNdH0e9Jssj2M3mtltujWav96TRFJN1VmGyTq6cGD9cMD8WJz36nJE6Z86LiINda6ZOk1Mwe1WREuTP5EeZZiwEciBD9Aj6J+jfA9sf12XqEIQfb7B0Jhy9FUx2JbgMXjaXjcEupYbELhbRgIgM+UWiX7s+vgouUiKeGViXC34CfePi8cR/Tixp2qQxq1saY4JJ3Xp3WsXDYweWHFTGZtgsb/0G9aXBPfWVAYdT/l06o7MCNtg+XSZNnpgu/t54/U3p0b1HzPiS6MhRI3X9Ie8Ph74WFHkQ9Wt/XCMNYGSJ8Fb33YelH9VA0wE/gv9y5crqjNUrr7hSnnryyf3S79+vryzGhgTMcwm2juOs3VSOjIZTQxDkL93614qP8B81ToYF/eOwk1n4J0OPKf2/ew+6TP2YCZlBKVMHcUJh8OEc99KiofNKv9gRKVV8lww/uugeeTKYjb54lw0zhy/paWuQmbtnhKTOL9A/Xvg/CWsOOU5HJHFW5xnFz0hV/507dZHly5cjNEE3tj7nnHM07qGWf/ny97G36KNSqXIladem7T7xd1e9evLzL+sVj9lgVBYv4kQVApEuc/CHpqfcWrasZstF/HraRhr8r/z6G/i3VPy3aNVSqlapItmz59in/HXu3Fk+WP6BLvuY+/Jce93INcgfVFrQP0H/QiYyan/QQtxj0NnbeqkQm3WnrDKCOd6pudMuKN/2U08Vak1DQ0enP5bCPLynaR7/9ZBO7QX6yj6aiWOb/6253diXX+lm1vOxTMBAEa//LZv/wEbZDWTL1i2SM3tOnZX597///ZDrv2+/frJs2VLbY/Sa0qno4SH2vBxGpVOnR9XwlML44YhRI6Jfb4dMPy3+27R5AOOnnwsN/ejRmPGqYI+Xf8b0Z2X8uPEqvaNHjpZHOj4iXTp3kauuuhIx967/WphwsxF7vN50883StUtXxHGyZkCxNEH+tKaNNUH/RL709sKf6nKyKLX1yDT8R/Eer5Q4/o8m+nb8kxMkvqyZt4gH2ULhwgJ74xB+MWNPvTS+C2er0bGQv/wXE1RmrM78dE2yNhtdGmQRl2mminjwPtA/pvlfvnx5wVi1XIbJLQOwGD69+v95/c+6ID8paafWPxelX4rlB2efXRKbaAMDbFV5WLjbxOzZdTNu62UwLK1c+bW0anWf9mI8iSUVV8KoxN3e+GvU6F7sELNG7sGGAA2wHCQt/rmzzbervpEvP/9KiuGdri19neJ/LdYd/oCdZUrD4GbPgS7L/eBfZ7x27YrNyLPpmGba8nd7opu8/dbb+poMq1K1mtx3Xyv32ixsXP62bcUG5FUrq9eTmDh0xeVXWPh+6O+v/MpUz1dETFt+C4/Tt96dIP9B//lvR4fP4wV/3LotAQYuRTd5BPBVOLyE+N+9bbxF9J2hpozwqa0CReNG/cUF99yPk0KWrK1JiiYDQI/PzJ5xAv3jlv8rcf7ffegGZP23atFS9/7cV/2vWvWtdHikg2za+AeA4TClv/EnIsgc8ZOCzb0xyxRxuL/ot6tWyTYcvktH/DFp4cKFpV7dO6UKT8Vglmnw9+mKT6Rd+zaYXToGE3TQVavpXGI8LF26RIbidAyeUsEF9tyVhq4xT7z4frVObuHkHk1ITJMo/yOLKP4roRt0O5Z6PPpoV5z08c9U+B8+YijyYddninbztm3TTu/dy+Bes9RX42biw7CpwWU88UJnysbfNcjfvvkf9A94kw7+g/5NbX+0hUg+UazU4YGGiu007+tFzgKUqxrV/KECwGkyW/c6xQ0/FvQrWHNlmIuDVD51LE/nx2d1iBDoHz/8Hz58mMx5ATMigYsXX8BxRu4Eh/3V/zvvvC1v4+/773/AesGtDkVARzQRHvPny6cL6bMaf20eQJfn559jgs4kKY5DjXniPU+t4EG9z81+/qDwv/w/y6Vzx05a/hewdlL3BzbEYzJNsiz/4AMpidYwz0rcF/537tqlk3J4asd0LNEoXIgHBQf5y+r6j8FOK8ZrMA/HwP/jif/WZeoEk5LICTO4orbRocy6VwPHLy9bQmwTahAGfwWKxwce4GVJkEy9YxF4E8tOv57po8Ea4i6B/jHPf2z0IK++8opcjzHA/Gg5cVbl5s1bcP4gt2sbZhhBxR9L9V8OO8hky5YgC7GdGvE/cdJkmTptirb02OJTxzIdAP8Dn35aFsybL/dwNi0OF84o/vtjveYSrNt88KGH5fYK5YP8gfH8+D5Y/jOq1tExhj87VCHoX23/s8Jpm7LI/qQyiDSEZuaAHEUP6Do/FV4aLMbgO8EDH7bua5bNcXhyUJbpUjmmdF2rBCLClQZv6CLxPa2YP+MjAuMzF90kgE9IE+gfnfxv1bKVfP3113LTTTfJ9ddfj4ktfVBzyTJhwkQ548wzjrn6X/XtN9KseQvhcognsWVaEtZS1qhWXbajC7Vjp85yyy3/MnweBP6TsRbx/vtay1dfr4RRay+33377QeP/mfHj5VkcLcVt7+pj27uA/6MT/wBDGhf037Gk//eaVMP6pLCxYjkOYsYHZkkDzBixxmmmzFw5O+jSMCyts/YlzZqZNqbkH4YOlYZZO0uluQb6yqBjkf91ateR3zEDsnjx4rJ+/Xo9Ub4VlhRUq4FNrY/B+p+MrdGmTJmKiTotpXqN6jIS5y+yy5P4nzv3ZcmDMxv1OzAD+B+EjQnmvvyydH6ko9yCI6QOhP+xY8fqkVM9cP5i6WuuUUEJ8qeawvQI9UkG+M+U/Av6J+hfxU0EO66FmKodFpVPhQ43zvI7yWsgj3RCJroTI27YpDeI4cci4IcRnL/++DgwippGIenSBfqRdvAxzf933nkXG2b3lR07d8o5Jc+VeliEf8ONN8axANQcS/V///2t5fMvvsK5h9Nk7Zp10qtPL9m0YZMULVoU26Y9LSfhAONs2XJkGP+vvvoqjpH6Xu69t5HKzP7qv0/f/piBW19OxXZuQf7ArqB/gv6FOckK+wODaHuZxrQwjZg2C2Gw1KCZDAKG+lXFX+9o0mjmzEGkYej8rvwa2QWquWNemGmDXiOtTM2N4db0tIyYYaAPXoAR/Av8V2h5jBEeUcdnH0Y8ZQX+uMn2hg0b5IYbbpCPPvpIGjZqJMMxFsrZq7nz5JFR2Gg7L1qJWUWf5fVl/CvKH+gH/v9/wl9kDDGqXmjCOIjLziC/ByDZgjjuRwUFj6azzdMHpc6JbUu2Ma0nORGKXjtPkZBU4i51qkA/8P9owF/Xrl1w2v37ckLBE6Rv3z5YfrFVHsaklly5cskwnGJx9jklAeGAf+qGIP+qIVWrkRd0frgo6L9jQ/+rQbTlEqxMm8mkvZ2xCTMG9USEcbRQp8fQdmkHPKscD2rLAIGYTYuIBi2mrsGICwxTRV2gH+mCpgiRlYH/rluIsKJp/Ovw9xPGQovpBtr2Fj+t+1FOLXYKYE01F/Af5B8wUKHlLzVb0H9mDCgbx5j+52kXrELWofbSuQfOGmUXlBWMnjFrp/eqpFhe6gTv8BxtW/reUEuLiCSgit5aiT6Z/gb6gf/EkwNDwF+Qv6B/gv71GsF+yQ86sx/aJstk+4MWotvLlETwxct1VvrdC9pUTjzUV8f5+AMDqYqKIbznq7kmI594S0d/XiyutXhcNM1Twy0CM8UdKQX6gf8Bf0H+gv4J+lfNglqFI21/Evbs2c0dpmCUYKbYpDNrRZPmns2DJkvvYjcaI36hYWMWWgzeMC+mYAL+4D5BzSIf8KeRdY1loE9ueJ6RWc7FeBjjWOTGR/JxA/8D/ggPL1tB/oL+CfrXFCZ05EHaH20haiKnfOMstDsVL6+r8WvdqhZGJU4BdCJIqojAyD7EKWuf3kW01Ayjh34P4dbSxsPsTpP49PgN9Mk1443nsmOr8TPwP+AvyJ/TTNQxcF5/OEEx6WEAPYL+UT4E/au2Kz7LNIYShx7fbido8N/pWcMQsaRKGS0+BMSWWsCPM0qZlbpYnnjy9/xFshR0ACdiANLMaSScEVk5gT744JgW+B/wR7FwcFDZUoEK8hf0T9C/mWl/YgZRWxswRBQ6yh2dTWxwX1DmFTNsKptQ1BbZWoq8aj5ecL0i13h8oK1zFYimntJimGaD1IF+4D8wQvjQBfxRRoL8QWsYIBQUuJgq0e/moH+MKWxYBP17+PbHDCItU2wZhWGPEPSKyfopnabyw4AMjODUqiXuZcFqHjWaf/Yx9NkTCfQD/wP+vGioAHrR0AcdJ4DEUGiC/BkfTKEoe/wl6mX3Qf9YU8VYZn13prSVPx5kQf/G9G+khWjyaEByltYjDb8mkx5mEdkFMxMwWcaYjYjKZAIx7hfjO/NxebIOmKd3lrOvuEDfRNlzJ/A/4A+ixXELJ2kx0QnyF/RP0L+ZZn/+D6LYnHdWnxCtAAAAAElFTkSuQmCC)"
      ],
      "metadata": {
        "id": "SdNgoF-lKl_h"
      }
    },
    {
      "cell_type": "code",
      "source": [
        "## Cosine Weighted Average for ratings \n",
        "sim_options = {\n",
        "    \"name\": [\"cosine\"],\n",
        "    \"min_support\": [3,4,5,7,9],\n",
        "    \"user_based\": [True]}\n",
        "\n",
        "param_grid = {\"sim_options\": sim_options}\n",
        "grid_search = grid_cf(grid_params=sim_options,algo=KNNBasic)"
      ],
      "metadata": {
        "id": "zwl0pPXXzoWR"
      },
      "execution_count": null,
      "outputs": []
    },
    {
      "cell_type": "code",
      "source": [
        "print(grid_search.best_score[\"rmse\"])\n",
        "print(grid_search.best_params[\"rmse\"])"
      ],
      "metadata": {
        "colab": {
          "base_uri": "https://localhost:8080/"
        },
        "id": "DjCkz6mN-Tde",
        "outputId": "5a09e457-9871-4e83-b2b9-087fc4513508"
      },
      "execution_count": null,
      "outputs": [
        {
          "output_type": "stream",
          "name": "stdout",
          "text": [
            "1.015812210806295\n",
            "{'sim_options': {'name': 'cosine', 'min_support': 3, 'user_based': True}}\n"
          ]
        }
      ]
    },
    {
      "cell_type": "markdown",
      "source": [
        "### User Based -  Centered cosine similarity \n",
        "Before computing the rating we first normalize the rating for each user according to its base.\n",
        "A user can be easy and tough rater and to eliminate that bias we normalize it according to his average rating.\n",
        "We compute the rating by simple weighted average of rating from similar users where the weight is the cosine similarity factor .\n",
        "\n",
        "![Screenshot 2022-01-25 at 6.10.26 PM.png](data:image/png;base64,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)"
      ],
      "metadata": {
        "id": "EX9YviCVLCNf"
      }
    },
    {
      "cell_type": "code",
      "source": [
        "## using centered KNN \n",
        "##A basic collaborative filtering algorithm, taking into account the mean ratings of each user.\n",
        "sim_options = {\n",
        "    \"name\": [\"cosine\"],\n",
        "    \"min_support\": [3,4,5,7,9],\n",
        "    \"user_based\": [True],  # Compute  similarities between items\n",
        "}\n",
        "\n",
        "param_grid = {\"sim_options\": sim_options}\n",
        "grid_search = grid_cf(grid_params=sim_options,algo=KNNWithMeans)\n"
      ],
      "metadata": {
        "id": "pbDTSuUw3Ykk"
      },
      "execution_count": null,
      "outputs": []
    },
    {
      "cell_type": "code",
      "source": [
        "print(grid_search.best_score[\"rmse\"])\n",
        "print(grid_search.best_params[\"rmse\"])"
      ],
      "metadata": {
        "colab": {
          "base_uri": "https://localhost:8080/"
        },
        "id": "z0aLQuBV-jbz",
        "outputId": "9c587fb0-f51c-443f-db12-2dbb2723ce27"
      },
      "execution_count": null,
      "outputs": [
        {
          "output_type": "stream",
          "name": "stdout",
          "text": [
            "0.9450189761870179\n",
            "{'sim_options': {'name': 'cosine', 'min_support': 3, 'user_based': True}}\n"
          ]
        }
      ]
    },
    {
      "cell_type": "markdown",
      "source": [
        "The centered cosine has much better results since it takes the rating bias into account .\n",
        "\n"
      ],
      "metadata": {
        "id": "2yZgRwIU4ZVu"
      }
    },
    {
      "cell_type": "markdown",
      "source": [
        "# Item Based Collaborative Filtering\n",
        "Instead of finding similar users for that user we find similar items for the item . \n",
        "This works better as the rating for a given item by different users is more stable then the other way around."
      ],
      "metadata": {
        "id": "CnfLb38mzofK"
      }
    },
    {
      "cell_type": "code",
      "source": [
        "## Item Based \n",
        "## Without removing rating bias\n",
        "sim_options = {\n",
        "    \"name\": [\"cosine\"],\n",
        "    \"min_support\": [3,4,5,7,9],\n",
        "    \"user_based\": [False],  \n",
        "}\n",
        "\n",
        "grid_search = grid_cf(grid_params=sim_options,algo=KNNBasic)\n"
      ],
      "metadata": {
        "id": "TizDQvdVz86r"
      },
      "execution_count": null,
      "outputs": []
    },
    {
      "cell_type": "code",
      "source": [
        "print(grid_search.best_score[\"rmse\"])\n",
        "print(grid_search.best_params[\"rmse\"])"
      ],
      "metadata": {
        "colab": {
          "base_uri": "https://localhost:8080/"
        },
        "id": "jIdIr4cc-pmp",
        "outputId": "1305d049-00b7-445c-e3b7-3bf93ea9d2fb"
      },
      "execution_count": null,
      "outputs": [
        {
          "output_type": "stream",
          "name": "stdout",
          "text": [
            "1.0053813908996476\n",
            "{'sim_options': {'name': 'cosine', 'min_support': 3, 'user_based': False}}\n"
          ]
        }
      ]
    },
    {
      "cell_type": "code",
      "source": [
        "## Centered cosine method -removing rating bias \n",
        "sim_options = {\n",
        "    \"name\": [\"cosine\"],\n",
        "    \"min_support\": [3,4,5,7,9],\n",
        "    \"user_based\": [False],  \n",
        "}\n",
        "\n",
        "grid_search = grid_cf(grid_params=sim_options,algo=KNNWithMeans)\n"
      ],
      "metadata": {
        "id": "JNFOIrMi8L3V"
      },
      "execution_count": null,
      "outputs": []
    },
    {
      "cell_type": "code",
      "source": [
        "print(grid_search.best_score[\"rmse\"])\n",
        "print(grid_search.best_params[\"rmse\"])"
      ],
      "metadata": {
        "colab": {
          "base_uri": "https://localhost:8080/"
        },
        "id": "egVbOX6w8ieu",
        "outputId": "f8121972-4548-4ace-bd02-242bd0bd2fb6"
      },
      "execution_count": null,
      "outputs": [
        {
          "output_type": "stream",
          "name": "stdout",
          "text": [
            "0.9615407930139712\n",
            "{'sim_options': {'name': 'cosine', 'min_support': 3, 'user_based': False}}\n"
          ]
        }
      ]
    },
    {
      "cell_type": "markdown",
      "source": [
        "The centered cosine has much better results since it takes the rating bias into account .\n"
      ],
      "metadata": {
        "id": "M2Y9pj_fhbhe"
      }
    },
    {
      "cell_type": "markdown",
      "source": [
        "Inference User vs Item Based Collaborative Filtering := \n",
        "> User based collaborative filtering has worked better in this case then item based\n",
        "\n",
        "> In both user and item based collaborative filtering taking rating bias into account gives better results ."
      ],
      "metadata": {
        "id": "o54Q0W-EhewQ"
      }
    },
    {
      "cell_type": "markdown",
      "source": [
        "# Matrix Factorization Techniques "
      ],
      "metadata": {
        "id": "6Bzood82z9Md"
      }
    },
    {
      "cell_type": "markdown",
      "source": [
        "# Singular Value Decomposition\n",
        "In singular value decomposition we split the utility matrix into 3 matrices like user-concept (U) ,movie-concept (V) and strength of concept (Sigma) .\n",
        "We use RMSE And MAE to minimize the reconstruction error ."
      ],
      "metadata": {
        "id": "HUlNc3p60BCg"
      }
    },
    {
      "cell_type": "code",
      "source": [
        "svd = SVD()\n",
        "cross_validate(svd,data,measures=[\"rmse\", \"mae\"], cv=k_folds)"
      ],
      "metadata": {
        "colab": {
          "base_uri": "https://localhost:8080/"
        },
        "id": "EFFuKsMhsPKg",
        "outputId": "d3e8850a-45aa-44eb-9294-128e4851ab42"
      },
      "execution_count": null,
      "outputs": [
        {
          "output_type": "execute_result",
          "data": {
            "text/plain": [
              "{'fit_time': (3.1808531284332275, 3.1550755500793457),\n",
              " 'test_mae': array([0.70203221, 0.7052743 ]),\n",
              " 'test_rmse': array([0.9091145 , 0.91397808]),\n",
              " 'test_time': (0.6521835327148438, 0.6260018348693848)}"
            ]
          },
          "metadata": {},
          "execution_count": 85
        }
      ]
    },
    {
      "cell_type": "markdown",
      "source": [
        "SVD has given us better results than User and Item based collaborative filtering."
      ],
      "metadata": {
        "id": "mSppOw9uixxG"
      }
    },
    {
      "cell_type": "markdown",
      "source": [
        "# Rough"
      ],
      "metadata": {
        "id": "LUGlqdZxsSm0"
      }
    },
    {
      "cell_type": "code",
      "source": [
        "## see the density and sparsity attributes\n",
        "## do one two beatiful plots \n",
        "## by using aggregate maybe\n",
        "## distribution of ratings \n"
      ],
      "metadata": {
        "id": "OY0_5TTNsPMz"
      },
      "execution_count": null,
      "outputs": []
    }
  ]
}